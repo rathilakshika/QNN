{
 "cells": [
  {
   "cell_type": "code",
   "execution_count": 1,
   "id": "defined-franklin",
   "metadata": {},
   "outputs": [],
   "source": [
    "import sys\n",
    "import pennylane as qml\n",
    "from pennylane import numpy as np\n",
    "from math import pi\n",
    "from sklearn import datasets\n",
    "import scipy\n",
    "import numpy as np\n",
    "import time\n",
    "import math"
   ]
  },
  {
   "cell_type": "code",
   "execution_count": 2,
   "id": "weekly-investing",
   "metadata": {},
   "outputs": [],
   "source": [
    "numQubits = 4   #No of qubits in the circuit\n",
    "depth = 9       #calculated using d = numQubits*(depth+1)\n",
    "d = 40          #No of parameters in the cicuit"
   ]
  },
  {
   "cell_type": "code",
   "execution_count": 3,
   "id": "drawn-allowance",
   "metadata": {},
   "outputs": [],
   "source": [
    "dev = qml.device(\"default.qubit\", wires=numQubits)   #\"dev\" device in pennylane"
   ]
  },
  {
   "cell_type": "code",
   "execution_count": 4,
   "id": "instructional-animal",
   "metadata": {},
   "outputs": [],
   "source": [
    "def normalize(v):\n",
    "    norm = np.linalg.norm(v)\n",
    "    if norm == 0: \n",
    "       return v\n",
    "    return v / norm"
   ]
  },
  {
   "cell_type": "code",
   "execution_count": 5,
   "id": "professional-vietnamese",
   "metadata": {},
   "outputs": [],
   "source": [
    "def add_layerRZ(data):                 #adds a layer of RZ gates\n",
    "    for i in range(numQubits):\n",
    "        qml.RZ(data[i], wires = i)\n",
    "\n",
    "def make_feature_map(data):           #\"Easy\" Feature map of the circuit\n",
    "    for i in range(numQubits):\n",
    "        qml.Hadamard(wires = i)\n",
    "    add_layerRZ(data)"
   ]
  },
  {
   "cell_type": "code",
   "execution_count": 6,
   "id": "suited-burke",
   "metadata": {},
   "outputs": [],
   "source": [
    "def add_cnots():                      #Adds CNOTs between each pair of qubits\n",
    "    for i in range(0, numQubits-1):\n",
    "        for j in range(i+1, numQubits):\n",
    "            qml.CNOT(wires = [i, j])\n",
    "\n",
    "def add_layerRY(params):              #adds a layer of RY gates\n",
    "    for qubit in range(numQubits):\n",
    "        qml.RY(params[qubit], wires = qubit)\n",
    "        \n",
    "def make_variationalCircuit(params):    #Variational part of the circuit\n",
    "    add_cnots()\n",
    "    add_layerRY(params)"
   ]
  },
  {
   "cell_type": "code",
   "execution_count": 7,
   "id": "dirty-bachelor",
   "metadata": {},
   "outputs": [],
   "source": [
    "def make_final_circuit(data, params, depth):   #Makes the complete circuit\n",
    "    make_feature_map(data)\n",
    "    add_layerRY(params[0:numQubits])\n",
    "    for i in range(depth):\n",
    "        make_variationalCircuit(params[numQubits*(i+1):numQubits*(i+2)])"
   ]
  },
  {
   "cell_type": "code",
   "execution_count": 8,
   "id": "conventional-bleeding",
   "metadata": {},
   "outputs": [],
   "source": [
    "@qml.qnode(dev)\n",
    "def qnode(params):\n",
    "    make_final_circuit(data, params, depth)\n",
    "    return qml.expval(qml.PauliX(1))"
   ]
  },
  {
   "cell_type": "code",
   "execution_count": 9,
   "id": "multiple-margin",
   "metadata": {},
   "outputs": [],
   "source": [
    "@qml.qnode(dev)\n",
    "def fubini_qnode(data, params,depth):          #Returns the state of the circuit as a matrix\n",
    "    make_final_circuit(data, params,depth)\n",
    "    return qml.state()"
   ]
  },
  {
   "cell_type": "code",
   "execution_count": 10,
   "id": "interpreted-training",
   "metadata": {},
   "outputs": [],
   "source": [
    "def fubini_calculate(data, params,depth):     #calculates fubini matrix given the data vector and parameters\n",
    "    fubini = np.zeros([d, d], dtype=np.float64)\n",
    "    base = np.conj(fubini_qnode(data,params,depth))\n",
    "    for i in range(d):\n",
    "        for j in range(d):\n",
    "            params[i] += np.pi/2\n",
    "            params[j] += np.pi/2\n",
    "            plusplus = np.abs(np.dot(base, fubini_qnode(data, params,depth))) ** 2\n",
    "            params[j] -= np.pi\n",
    "            plusminus = np.abs(np.dot(base, fubini_qnode(data, params,depth))) ** 2\n",
    "            params[i] -= np.pi\n",
    "            minusminus = np.abs(np.dot(base, fubini_qnode(data, params,depth))) ** 2\n",
    "            params[j] += np.pi\n",
    "            minusplus = np.abs(np.dot(base, fubini_qnode(data, params,depth))) ** 2\n",
    "            fubini[i, j] = (-plusplus-minusminus+plusminus+minusplus)/8\n",
    "            params[i] += np.pi/2\n",
    "            params[j] -= np.pi/2\n",
    "    return fubini"
   ]
  },
  {
   "cell_type": "code",
   "execution_count": 11,
   "id": "sharing-experiment",
   "metadata": {},
   "outputs": [],
   "source": [
    "paramsVector = []\n",
    "\n",
    "for i in range(50):\n",
    "    np.random.seed(i)\n",
    "    params = np.random.uniform(-1,1,d)\n",
    "    paramsVector.append(params)"
   ]
  },
  {
   "cell_type": "code",
   "execution_count": 15,
   "id": "inappropriate-moderator",
   "metadata": {},
   "outputs": [],
   "source": [
    "dataVector = []\n",
    "\n",
    "for i in range(40):\n",
    "    np.random.seed(i)\n",
    "    data = np.random.normal(size=(numQubits))\n",
    "    data = normalize(data)\n",
    "    dataVector.append(data)"
   ]
  },
  {
   "cell_type": "code",
   "execution_count": 17,
   "id": "composite-printer",
   "metadata": {},
   "outputs": [],
   "source": [
    "fubini_matrices = []\n",
    "avg_fubini = []\n",
    "\n",
    "eigen_vals = []\n",
    "avg_eigen = []"
   ]
  },
  {
   "cell_type": "code",
   "execution_count": null,
   "id": "verified-cassette",
   "metadata": {},
   "outputs": [
    {
     "name": "stdout",
     "output_type": "stream",
     "text": [
      "data 0\n",
      "0\n"
     ]
    }
   ],
   "source": [
    "for i in range(50):\n",
    "    print(\"data\", i)\n",
    "    params = paramsVector[i]\n",
    "    sum_matrices = 0\n",
    "    for j in range(len(dataVector)):\n",
    "        print(j)\n",
    "        data = dataVector[j]\n",
    "        fubini = fubini_calculate(data, params, depth)\n",
    "        fubini_matrices.append(fubini)\n",
    "        \n",
    "        sum_matrices += fubini\n",
    "        eigvals,eigvecs=scipy.linalg.eigh(fubini)\n",
    "        eigen_vals.append(eigvals)\n",
    "    sum_matrices /= len(dataVector)\n",
    "    avg_fubini.append(sum_matrices)\n",
    "    \n",
    "    eigvals_avg,eigvecs_avg=scipy.linalg.eigh(avg_fubini[i])\n",
    "    avg_eigen.append(eigvals_avg)"
   ]
  },
  {
   "cell_type": "code",
   "execution_count": 18,
   "id": "positive-prisoner",
   "metadata": {},
   "outputs": [
    {
     "data": {
      "text/plain": [
       "50"
      ]
     },
     "execution_count": 18,
     "metadata": {},
     "output_type": "execute_result"
    }
   ],
   "source": [
    "len(avg_eigen)"
   ]
  },
  {
   "cell_type": "code",
   "execution_count": 19,
   "id": "illegal-tokyo",
   "metadata": {},
   "outputs": [],
   "source": [
    "import pickle\n",
    "file_name = \"EasyQuantumnormal1040.pkl\"    #Saving data in a pickle file\n",
    "\n",
    "open_file = open(file_name, \"wb\")\n",
    "pickle.dump([paramsVector, dataVector,fubini_matrices, avg_fubini, eigen_vals, avg_eigen], open_file)\n",
    "pickle.dump(fubini_matrices, open_file)\n",
    "open_file.close()"
   ]
  },
  {
   "cell_type": "code",
   "execution_count": 20,
   "id": "fatty-silence",
   "metadata": {},
   "outputs": [],
   "source": [
    "open_file = open(file_name, \"rb\")\n",
    "loaded_list = pickle.load(open_file)\n",
    "open_file.close()"
   ]
  },
  {
   "cell_type": "code",
   "execution_count": 21,
   "id": "tough-characteristic",
   "metadata": {},
   "outputs": [
    {
     "data": {
      "text/plain": [
       "50"
      ]
     },
     "execution_count": 21,
     "metadata": {},
     "output_type": "execute_result"
    }
   ],
   "source": [
    "len(loaded_list[5])"
   ]
  },
  {
   "cell_type": "code",
   "execution_count": 13,
   "id": "related-connectivity",
   "metadata": {},
   "outputs": [],
   "source": [
    "eigen_values = []\n",
    "for i in range(len(eigen_vals)):\n",
    "    for j in range(len(eigen_vals[0])):\n",
    "        eigen_values.append(4*eigen_vals[i][j])       #Stores all the eigen_values, multiplication by 4 to match the Qiskit equivalent"
   ]
  },
  {
   "cell_type": "code",
   "execution_count": 14,
   "id": "proud-narrow",
   "metadata": {},
   "outputs": [
    {
     "data": {
      "text/plain": [
       "20000"
      ]
     },
     "execution_count": 14,
     "metadata": {},
     "output_type": "execute_result"
    }
   ],
   "source": [
    "len(eigen_values)"
   ]
  },
  {
   "cell_type": "code",
   "execution_count": 15,
   "id": "attempted-index",
   "metadata": {},
   "outputs": [
    {
     "data": {
      "image/png": "[encoded data removed]",
      "text/plain": [
       "<Figure size 432x288 with 1 Axes>"
      ]
     },
     "metadata": {
      "needs_background": "light"
     },
     "output_type": "display_data"
    }
   ],
   "source": [
    "import matplotlib.pyplot as plt\n",
    "plt.hist(eigen_values, bins = 5, density=True)\n",
    "plt.title(\"Easy Quantum Model, d = 40, 500 trials\")        #Eigen Values Distribution of 500 Fisher Matrices\n",
    "plt.xlabel(\"Eigen Values\")\n",
    "plt.ylabel(\"Normalised Counts\")\n",
    "plt.savefig(\"EasyQuantum405001005\")\n",
    "plt.show()"
   ]
  },
  {
   "cell_type": "code",
   "execution_count": 16,
   "id": "proof-shipping",
   "metadata": {},
   "outputs": [],
   "source": [
    "import pickle"
   ]
  },
  {
   "cell_type": "code",
   "execution_count": 17,
   "id": "parallel-rough",
   "metadata": {},
   "outputs": [],
   "source": [
    "file_name = \"EasyQuantum40500-10.pkl\"    #Saving data in a pickle file\n",
    "\n",
    "open_file = open(file_name, \"wb\")\n",
    "pickle.dump([dataV,fubini_matrices,eigen_vals,paramsV,eigen_values], open_file)\n",
    "pickle.dump(fubini_matrices, open_file)\n",
    "open_file.close()"
   ]
  },
  {
   "cell_type": "code",
   "execution_count": 18,
   "id": "final-plaintiff",
   "metadata": {},
   "outputs": [],
   "source": [
    "open_file = open(file_name, \"rb\")\n",
    "loaded_list = pickle.load(open_file)\n",
    "open_file.close()"
   ]
  },
  {
   "cell_type": "code",
   "execution_count": 19,
   "id": "completed-facial",
   "metadata": {},
   "outputs": [],
   "source": [
    "eigvals_bw01=[eigen_values[i] for i in range(len(eigen_values)) if eigen_values[i] <= 1]"
   ]
  },
  {
   "cell_type": "code",
   "execution_count": null,
   "id": "third-evanescence",
   "metadata": {},
   "outputs": [],
   "source": []
  }
 ],
 "metadata": {
  "kernelspec": {
   "display_name": "Python 3",
   "language": "python",
   "name": "python3"
  },
  "language_info": {
   "codemirror_mode": {
    "name": "ipython",
    "version": 3
   },
   "file_extension": ".py",
   "mimetype": "text/x-python",
   "name": "python",
   "nbconvert_exporter": "python",
   "pygments_lexer": "ipython3",
   "version": "3.7.3"
  }
 },
 "nbformat": 4,
 "nbformat_minor": 5
}

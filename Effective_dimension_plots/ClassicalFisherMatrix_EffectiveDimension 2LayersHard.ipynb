{
 "cells": [
  {
   "cell_type": "code",
   "execution_count": 1,
   "id": "impressive-pipeline",
   "metadata": {},
   "outputs": [],
   "source": [
    "import numpy as np\n",
    "from qiskit import QuantumCircuit, transpile\n",
    "from typing import List, Union\n",
    "from collections import OrderedDict\n",
    "import itertools\n",
    "from qiskit.quantum_info import Statevector\n",
    "import multiprocessing as mp\n",
    "from math import pi\n",
    "from scipy.special import logsumexp\n",
    "\n",
    "num_qubits = 2"
   ]
  },
  {
   "cell_type": "code",
   "execution_count": 2,
   "id": "academic-theater",
   "metadata": {},
   "outputs": [],
   "source": [
    "def final_circuit(circuit, data, params):\n",
    "    d = len(params)\n",
    "    layers = d//num_qubits\n",
    "    angle_y = ((np.pi-data[0])*(np.pi-data[1]))\n",
    "    angle_z = ((np.pi-data[2])*(np.pi-data[3]))\n",
    "    for i in range(num_qubits):\n",
    "        circuit.h(i)\n",
    "    for j in range(layers-1):\n",
    "        for i in range(num_qubits):\n",
    "            circuit.ry(data[i], i)\n",
    "            circuit.rz(data[i+2],i)\n",
    "        circuit.cx(0,1)\n",
    "        circuit.ry(angle_y, 1)\n",
    "        circuit.rz(angle_z, 1)\n",
    "        circuit.cx(0,1)\n",
    "        for i in range(num_qubits):\n",
    "            circuit.ry(params[i+num_qubits*j],i)\n",
    "        circuit.cx(0,1)\n",
    "        \n",
    "    for i in range(num_qubits):\n",
    "        circuit.h(i)\n",
    "        circuit.ry(data[i], i)\n",
    "        circuit.rz(data[i+2],i)\n",
    "    circuit.cx(0,1)\n",
    "    circuit.ry(angle_y, 1)\n",
    "    circuit.rz(angle_z, 1)\n",
    "    circuit.cx(0,1)\n",
    "    for i in range(num_qubits):\n",
    "        circuit.ry(params[i+num_qubits*(layers-1)],i)"
   ]
  },
  {
   "cell_type": "code",
   "execution_count": 3,
   "id": "regional-progressive",
   "metadata": {},
   "outputs": [],
   "source": [
    "def _parity():\n",
    "    y1 = []\n",
    "    y2 = []\n",
    "    basis_states = [list(i) for i in itertools.product([0, 1], repeat=num_qubits)]\n",
    "    for idx, k in enumerate(basis_states):\n",
    "        parity = sum(int(k[i]) for i in range(len(k)))\n",
    "        if parity % 2 == 0:\n",
    "            y1.append(idx)\n",
    "        else:\n",
    "            y2.append(idx)\n",
    "    return {'y1': y1, 'y2': y2}"
   ]
  },
  {
   "cell_type": "code",
   "execution_count": 4,
   "id": "fiscal-cardiff",
   "metadata": {},
   "outputs": [],
   "source": [
    "def get_probabilities(params, x):\n",
    "    \n",
    "    def get_probs(inds, thetas, datas, results):\n",
    "        for i, theta, data in zip(inds, thetas, datas):\n",
    "            circuit = QuantumCircuit(2)\n",
    "            circ_ = final_circuit(circuit, data, theta)\n",
    "            result = sv.evolve(circuit)\n",
    "            start = i * 2**num_qubits\n",
    "            end = (i+1) * 2**num_qubits\n",
    "            results[start:end] = result.probabilities()\n",
    "    params = np.array(params)\n",
    "    x = np.array(x)      \n",
    "    \n",
    "     # specify number of parallel processes\n",
    "    num_processes = 2\n",
    "\n",
    "        # construct index set per process\n",
    "    indices = []\n",
    "    start = 0\n",
    "    size = len(x) // num_processes\n",
    "    for i in range(num_processes-1):\n",
    "        end = start + size\n",
    "        indices += [list(range(start, end))]\n",
    "        start = end\n",
    "    indices += [list(range(end, len(x)))]\n",
    "\n",
    "        # initialize shared array to store results (only supports 1D-array, needs reshaping later)\n",
    "    results = mp.Array('d', (len(x) * 2**num_qubits))\n",
    "\n",
    "        # construct processes to be run in parallel\n",
    "    processes = [mp.Process(target=get_probs, args=(inds, params[inds], x[inds], results))\n",
    "                     for inds in indices]\n",
    "\n",
    "    for p in processes:\n",
    "        p.start()\n",
    "    for p in processes:\n",
    "        p.join()\n",
    "    probabilities = []\n",
    "    num_probs = 2**num_qubits\n",
    "    for i in range(len(x)):\n",
    "        start = i * num_probs\n",
    "        end = (i+1) * num_probs\n",
    "        probabilities += [results[start:end]]\n",
    "\n",
    "    return probabilities"
   ]
  },
  {
   "cell_type": "code",
   "execution_count": 5,
   "id": "known-bundle",
   "metadata": {},
   "outputs": [],
   "source": [
    "def get_gradient(params, x):\n",
    "    grads = []\n",
    "    qc_plus = []\n",
    "    qc_minus = []\n",
    "    zeros = np.zeros(np.shape(params))\n",
    "    for i in range(d):\n",
    "        #print(i)\n",
    "        zeros[:, i] = np.pi / 2.\n",
    "        qc_plus += [get_probabilities(params+zeros, x)]\n",
    "        qc_minus += [get_probabilities(params-zeros, x)]\n",
    "        zeros[:, i] = 0\n",
    "        grads.append((np.array(qc_plus[i]) - np.array(qc_minus[i])) * 0.5)\n",
    "    grads = np.array(grads)\n",
    "    #print(grads)\n",
    "        # reshape the dp_thetas\n",
    "    full = np.zeros((len(x), d, 2**num_qubits))\n",
    "    for j in range(len(x)):\n",
    "        row = np.zeros((d, 2**num_qubits))\n",
    "        for i in range(d):\n",
    "            tensor = grads[i]\n",
    "            row[i] += tensor[j]\n",
    "        full[j] += row\n",
    "    return full"
   ]
  },
  {
   "cell_type": "code",
   "execution_count": 6,
   "id": "polished-toyota",
   "metadata": {},
   "outputs": [],
   "source": [
    "def forward(params, x):\n",
    "    def get_probs(inds, thetas, datas, results):\n",
    "        for i, theta, data in zip(inds, thetas, datas):\n",
    "            circuit = QuantumCircuit(2)\n",
    "            circ_ = final_circuit(circuit, data, theta)\n",
    "            result = sv.evolve(circuit)\n",
    "            start = i * 2**num_qubits\n",
    "            end = (i+1) * 2**num_qubits\n",
    "            results[start:end] = result.probabilities()\n",
    "        # map input to arrays\n",
    "    params = np.array(params)\n",
    "    x = np.array(x)\n",
    "        # specify number of parallel processes\n",
    "    num_processes = 2\n",
    "        # construct index set per process\n",
    "    indices = []\n",
    "    start = 0\n",
    "    size = len(x) // num_processes\n",
    "    for i in range(num_processes-1):\n",
    "        end = start + size\n",
    "        indices += [list(range(start, end))]\n",
    "        start = end\n",
    "    indices += [list(range(end, len(x)))]\n",
    "\n",
    "        # initialize shared array to store results (only supports 1D-array, needs reshaping later)\n",
    "    results = mp.Array('d', (len(x) * 2**num_qubits))\n",
    "\n",
    "        # construct processes to be run in parallel\n",
    "    processes = [mp.Process(target=get_probs, args=(inds, params[inds], x[inds], results))\n",
    "                     for inds in indices]\n",
    "\n",
    "    for p in processes:\n",
    "        p.start()\n",
    "    for p in processes:\n",
    "        p.join()\n",
    "\n",
    "    aggregated_results = np.zeros((len(x), outputsize))\n",
    "    num_probs = 2**num_qubits\n",
    "    for i in range(len(x)):\n",
    "        start = i * num_probs\n",
    "        end = (i+1) * num_probs\n",
    "        probabilities = results[start:end]\n",
    "        temp_ = []\n",
    "        for y in post_processing.keys():\n",
    "            index = post_processing[y]  # index for each label\n",
    "            temp_.append([sum(probabilities[u] for u in index)])\n",
    "        temp_ = np.reshape(temp_, (1, outputsize))\n",
    "        aggregated_results[i] = temp_\n",
    "    return aggregated_results"
   ]
  },
  {
   "cell_type": "code",
   "execution_count": 7,
   "id": "front-violence",
   "metadata": {},
   "outputs": [],
   "source": [
    "def get_fisher(gradients, model_output):\n",
    "    gradvectors = []\n",
    "    for k in range(len(gradients)):\n",
    "        jacobian = []\n",
    "        m_output = model_output[k]  # p_theta size: (1, outputsize)\n",
    "        jacobians_ = gradients[k, :, :]  # dp_theta size: (d, 2**num_qubits)\n",
    "        for idx, y in enumerate(post_processing.keys()):\n",
    "            index = post_processing[y]  # index for each label\n",
    "            denominator = m_output[idx]  # get correct model output sum(p_theta) for indices\n",
    "            for j in range(d):\n",
    "                row = jacobians_[j, :]\n",
    "                    # for each row of a particular dp_theta, do sum(dp_theta)/sum(p_theta) for indices\n",
    "                    # multiply by sqrt(sum(p_theta)) so that the outer product cross term is correct\n",
    "                jacobian.append(np.sqrt(denominator)*(sum(row[u] for u in index) / denominator))\n",
    "            # append gradient vectors for every output for all data points\n",
    "        gradvectors.append(np.reshape(jacobian, (outputsize, d)))\n",
    "        #print(np.reshape(jacobian, (outputsize, d)))\n",
    "        # full gradient vector\n",
    "    gradients = np.reshape(gradvectors, (len(gradients), outputsize, d))\n",
    "\n",
    "    fishers = np.zeros((len(gradients), d, d))\n",
    "    for i in range(len(gradients)):\n",
    "        grads = gradients[i]  # size = (outputsize, d)\n",
    "        temp_sum = np.zeros((outputsize, d, d))\n",
    "        for j in range(outputsize):\n",
    "            temp_sum[j] += np.array(np.outer(grads[j], np.transpose(grads[j])))\n",
    "        fishers[i] += np.sum(temp_sum, axis=0)  # sum the two matrices to get fisher estimate\n",
    "    return fishers"
   ]
  },
  {
   "cell_type": "code",
   "execution_count": 8,
   "id": "suitable-russian",
   "metadata": {},
   "outputs": [],
   "source": [
    "d = 4\n",
    "num_qubits = 2\n",
    "inputsize = 4\n",
    "outputsize = 2\n",
    "post_processing = OrderedDict(_parity())\n",
    "sv = Statevector.from_label('0' * num_qubits)\n",
    "\n",
    "num_inputs = 100\n",
    "num_thetas = 100\n",
    "thetamin = -1\n",
    "thetamax = 1\n",
    "\n",
    "rep_range = np.tile(np.array([num_inputs]), num_thetas)\n",
    "params_ = np.random.uniform(thetamin, thetamax, size=(num_thetas, d))\n",
    "params = np.repeat(params_, repeats=rep_range, axis=0)\n",
    "x_ = np.random.normal(0, 1, size=(num_inputs, inputsize))\n",
    "x = np.tile(x_, (num_thetas, 1))"
   ]
  },
  {
   "cell_type": "code",
   "execution_count": 9,
   "id": "provincial-tulsa",
   "metadata": {},
   "outputs": [],
   "source": [
    "def get_fhat():\n",
    "    grads = get_gradient(params, x)\n",
    "    output = forward(params, x)\n",
    "    fishers = get_fisher(grads, output)\n",
    "    fisher_trace = np.trace(np.average(fishers, axis=0))\n",
    "    fisher = np.average(np.reshape(fishers, (num_thetas, num_inputs, d, d)), axis=1)\n",
    "    f_hat = d * fisher / fisher_trace\n",
    "    return f_hat, fisher_trace"
   ]
  },
  {
   "cell_type": "code",
   "execution_count": 10,
   "id": "early-romance",
   "metadata": {},
   "outputs": [],
   "source": [
    "def eff_dim(f_hat, n):\n",
    "        effective_dim = []\n",
    "        for ns in n:\n",
    "            Fhat = f_hat * ns / (2 * pi * np.log(ns))\n",
    "            one_plus_F = np.eye(d) + Fhat\n",
    "            det = np.linalg.slogdet(one_plus_F)[1]  # log det because of overflow\n",
    "            r = det / 2  # divide by 2 because of sqrt\n",
    "            effective_dim.append(2 * (logsumexp(r) - np.log(num_thetas)) / np.log(ns / (2 * pi * np.log(ns))))\n",
    "        return np.array(effective_dim)/d"
   ]
  },
  {
   "cell_type": "code",
   "execution_count": 11,
   "id": "ecological-vertex",
   "metadata": {},
   "outputs": [],
   "source": [
    "n = [1000, 2000, 8000, 10000, 40000, 60000, 100000, 150000, 200000, 500000, 1000000]\n",
    "\n",
    "###################################################################################\n",
    "\n",
    "f, trace = get_fhat()"
   ]
  },
  {
   "cell_type": "code",
   "execution_count": 12,
   "id": "computational-judge",
   "metadata": {},
   "outputs": [],
   "source": [
    "effdim = eff_dim(f, n)"
   ]
  },
  {
   "cell_type": "code",
   "execution_count": 13,
   "id": "short-highland",
   "metadata": {},
   "outputs": [
    {
     "data": {
      "text/plain": [
       "array([0.98868336, 0.98457141, 0.98442691, 0.98473735, 0.98695015,\n",
       "       0.98757018, 0.98830002, 0.98883585, 0.98919286, 0.99021021,\n",
       "       0.99087204])"
      ]
     },
     "execution_count": 13,
     "metadata": {},
     "output_type": "execute_result"
    }
   ],
   "source": [
    "effdim"
   ]
  },
  {
   "cell_type": "code",
   "execution_count": 14,
   "id": "threaded-adoption",
   "metadata": {},
   "outputs": [],
   "source": [
    "import matplotlib.pyplot as plt"
   ]
  },
  {
   "cell_type": "code",
   "execution_count": 15,
   "id": "collect-spirit",
   "metadata": {},
   "outputs": [
    {
     "data": {
      "text/plain": [
       "Text(0.5, 1.0, 'Effective Dimension - 2 Layers, Hard Model (Classical Fisher Information Matrix)')"
      ]
     },
     "execution_count": 15,
     "metadata": {},
     "output_type": "execute_result"
    },
    {
     "data": {
      "image/png": "[encoded data removed]",
      "text/plain": [
       "<Figure size 432x288 with 1 Axes>"
      ]
     },
     "metadata": {
      "needs_background": "light"
     },
     "output_type": "display_data"
    }
   ],
   "source": [
    "plt.plot(n, effdim)\n",
    "plt.ylabel(\"normalised effective dimension\")\n",
    "plt.xlabel(\"number of data\")\n",
    "plt.title(\"Effective Dimension - 2 Layers, Hard Model (Classical Fisher Information Matrix)\")"
   ]
  },
  {
   "cell_type": "code",
   "execution_count": 16,
   "id": "positive-shirt",
   "metadata": {},
   "outputs": [],
   "source": [
    "np.save(\"Data/2qubits_2layerhard_f_hats_pauli.npy\", f)\n",
    "np.save(\"Data/2qubits_2layerhard_effective_dimension_pauli.npy\", effdim)"
   ]
  },
  {
   "cell_type": "code",
   "execution_count": 17,
   "id": "shared-miniature",
   "metadata": {},
   "outputs": [],
   "source": [
    "eff_dimeasy = np.load(\"Data/2qubits_2layer_effective_dimension_pauli.npy\", allow_pickle=True)"
   ]
  },
  {
   "cell_type": "code",
   "execution_count": 18,
   "id": "requested-algebra",
   "metadata": {},
   "outputs": [
    {
     "data": {
      "text/plain": [
       "<matplotlib.legend.Legend at 0x7f6cd92fd2b0>"
      ]
     },
     "execution_count": 18,
     "metadata": {},
     "output_type": "execute_result"
    },
    {
     "data": {
      "image/png": "[encoded data removed]",
      "text/plain": [
       "<Figure size 432x288 with 1 Axes>"
      ]
     },
     "metadata": {
      "needs_background": "light"
     },
     "output_type": "display_data"
    }
   ],
   "source": [
    "plt.plot(n, eff_dimeasy)\n",
    "plt.plot(n, effdim)\n",
    "\n",
    "plt.xlabel(\"number of data\")\n",
    "plt.ylabel(\"normalised effective dimension\")\n",
    "plt.title(\"Effective Dimension - 2 Layers (Data Reuploading, Qubits = 2)\")\n",
    "\n",
    "legendList = ['{}'.format(i) for i in [\"Easy Model\", \"Hard Model\"]]\n",
    "plt.legend(legendList)"
   ]
  }
 ],
 "metadata": {
  "kernelspec": {
   "display_name": "Python 3",
   "language": "python",
   "name": "python3"
  },
  "language_info": {
   "codemirror_mode": {
    "name": "ipython",
    "version": 3
   },
   "file_extension": ".py",
   "mimetype": "text/x-python",
   "name": "python",
   "nbconvert_exporter": "python",
   "pygments_lexer": "ipython3",
   "version": "3.7.3"
  }
 },
 "nbformat": 4,
 "nbformat_minor": 5
}

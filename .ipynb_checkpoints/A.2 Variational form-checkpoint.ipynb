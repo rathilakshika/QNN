{
 "cells": [
  {
   "cell_type": "markdown",
   "metadata": {},
   "source": [
    "Assuming two distinct feature vectors for two layers of RY gates"
   ]
  },
  {
   "cell_type": "code",
   "execution_count": 2,
   "metadata": {},
   "outputs": [],
   "source": [
    "theta1 = [1, 0.5, -1, -0.5]"
   ]
  },
  {
   "cell_type": "code",
   "execution_count": 3,
   "metadata": {},
   "outputs": [],
   "source": [
    "theta2 = [1, 0.5, -1, -0.5]"
   ]
  },
  {
   "cell_type": "code",
   "execution_count": 8,
   "metadata": {},
   "outputs": [],
   "source": [
    "numQubits = 4"
   ]
  },
  {
   "cell_type": "code",
   "execution_count": 9,
   "metadata": {},
   "outputs": [],
   "source": [
    "from qiskit import *\n",
    "from math import pi"
   ]
  },
  {
   "cell_type": "code",
   "execution_count": 10,
   "metadata": {},
   "outputs": [],
   "source": [
    "def make_circuit(numQubits):\n",
    "    qv = QuantumCircuit(numQubits, numQubits)\n",
    "    return qv"
   ]
  },
  {
   "cell_type": "code",
   "execution_count": 11,
   "metadata": {},
   "outputs": [],
   "source": [
    "def add_layer(qv, theta):\n",
    "    for i in range(len(theta)):\n",
    "        qv.ry(theta[i], i)\n",
    "    return qv"
   ]
  },
  {
   "cell_type": "code",
   "execution_count": 16,
   "metadata": {},
   "outputs": [],
   "source": [
    "def add_cnots(qv):\n",
    "    for i in range(0, numQubits-1):\n",
    "        for j in range(i+1, numQubits):\n",
    "            qv.cx(i, j)\n",
    "    qv.barrier()\n",
    "    return qv"
   ]
  },
  {
   "cell_type": "code",
   "execution_count": 17,
   "metadata": {},
   "outputs": [],
   "source": [
    "qv = make_circuit(numQubits)"
   ]
  },
  {
   "cell_type": "code",
   "execution_count": 18,
   "metadata": {},
   "outputs": [
    {
     "data": {
      "text/html": [
       "<pre style=\"word-wrap: normal;white-space: pre;background: #fff0;line-height: 1.1;font-family: &quot;Courier New&quot;,Courier,monospace\">      ┌───────┐                                 ░  ┌───────┐  \n",
       "q_0: ─┤ RY(1) ├────■────■────■──────────────────░──┤ RY(1) ├──\n",
       "     ┌┴───────┴┐ ┌─┴─┐  │    │                  ░ ┌┴───────┴┐ \n",
       "q_1: ┤ RY(0.5) ├─┤ X ├──┼────┼────■────■────────░─┤ RY(0.5) ├─\n",
       "     └┬────────┤ └───┘┌─┴─┐  │  ┌─┴─┐  │        ░ └┬────────┤ \n",
       "q_2: ─┤ RY(-1) ├──────┤ X ├──┼──┤ X ├──┼────■───░──┤ RY(-1) ├─\n",
       "     ┌┴────────┴┐     └───┘┌─┴─┐└───┘┌─┴─┐┌─┴─┐ ░ ┌┴────────┴┐\n",
       "q_3: ┤ RY(-0.5) ├──────────┤ X ├─────┤ X ├┤ X ├─░─┤ RY(-0.5) ├\n",
       "     └──────────┘          └───┘     └───┘└───┘ ░ └──────────┘\n",
       "c: 4/═════════════════════════════════════════════════════════\n",
       "                                                              </pre>"
      ],
      "text/plain": [
       "      ┌───────┐                                 ░  ┌───────┐  \n",
       "q_0: ─┤ RY(1) ├────■────■────■──────────────────░──┤ RY(1) ├──\n",
       "     ┌┴───────┴┐ ┌─┴─┐  │    │                  ░ ┌┴───────┴┐ \n",
       "q_1: ┤ RY(0.5) ├─┤ X ├──┼────┼────■────■────────░─┤ RY(0.5) ├─\n",
       "     └┬────────┤ └───┘┌─┴─┐  │  ┌─┴─┐  │        ░ └┬────────┤ \n",
       "q_2: ─┤ RY(-1) ├──────┤ X ├──┼──┤ X ├──┼────■───░──┤ RY(-1) ├─\n",
       "     ┌┴────────┴┐     └───┘┌─┴─┐└───┘┌─┴─┐┌─┴─┐ ░ ┌┴────────┴┐\n",
       "q_3: ┤ RY(-0.5) ├──────────┤ X ├─────┤ X ├┤ X ├─░─┤ RY(-0.5) ├\n",
       "     └──────────┘          └───┘     └───┘└───┘ ░ └──────────┘\n",
       "c: 4/═════════════════════════════════════════════════════════\n",
       "                                                              "
      ]
     },
     "execution_count": 18,
     "metadata": {},
     "output_type": "execute_result"
    }
   ],
   "source": [
    "add_layer(add_cnots(add_layer(qv, theta1)), theta2).draw()"
   ]
  }
 ],
 "metadata": {
  "kernelspec": {
   "display_name": "Python 3",
   "language": "python",
   "name": "python3"
  },
  "language_info": {
   "codemirror_mode": {
    "name": "ipython",
    "version": 3
   },
   "file_extension": ".py",
   "mimetype": "text/x-python",
   "name": "python",
   "nbconvert_exporter": "python",
   "pygments_lexer": "ipython3",
   "version": "3.7.3"
  }
 },
 "nbformat": 4,
 "nbformat_minor": 4
}

{
 "cells": [
  {
   "cell_type": "code",
   "execution_count": 1,
   "id": "friendly-volume",
   "metadata": {},
   "outputs": [],
   "source": [
    "from qiskit import *\n",
    "from math import pi\n",
    "import numpy as np\n",
    "from qiskit.aqua.operators import CircuitStateFn\n",
    "from qiskit.aqua.operators.gradients import QFI\n",
    "from qiskit.circuit import QuantumCircuit, ParameterVector, Parameter\n",
    "from sklearn import datasets\n",
    "import scipy\n",
    "from qiskit import *\n",
    "from math import pi\n",
    "import math\n",
    "import numpy as np\n",
    "from qiskit.aqua.operators import CircuitStateFn\n",
    "from qiskit.aqua.operators.gradients import QFI\n",
    "from qiskit.circuit import QuantumCircuit, ParameterVector, Parameter\n",
    "import scipy\n",
    "from sklearn import datasets\n",
    "import time"
   ]
  },
  {
   "cell_type": "code",
   "execution_count": 2,
   "id": "straight-passing",
   "metadata": {},
   "outputs": [],
   "source": [
    "iris = datasets.load_iris()\n",
    "X = iris.data[:, :][0:100]\n",
    "y = iris.target[0:100]"
   ]
  },
  {
   "cell_type": "code",
   "execution_count": 3,
   "id": "together-interview",
   "metadata": {},
   "outputs": [],
   "source": [
    "def normalize(v):\n",
    "    norm = np.linalg.norm(v)\n",
    "    if norm == 0: \n",
    "       return v\n",
    "    return v / norm"
   ]
  },
  {
   "cell_type": "code",
   "execution_count": 20,
   "id": "tender-mentor",
   "metadata": {},
   "outputs": [],
   "source": [
    "numQubits = 2\n",
    "depthVariational = 9   ##using formula d = (D+1)*S, taking d = 40 and S = 4\n",
    "d = 40"
   ]
  },
  {
   "cell_type": "code",
   "execution_count": 21,
   "id": "ahead-verse",
   "metadata": {},
   "outputs": [],
   "source": [
    "def make_feature_map(qf, data):\n",
    "    for i in range(2):\n",
    "        qf.h(i)\n",
    "    qf.barrier()\n",
    "    qf.rz(data[0], 0)\n",
    "    qf.rz(data[2], 1)\n",
    "    qf.ry(data[1], 0)\n",
    "    qf.rz(data[3], 1)"
   ]
  },
  {
   "cell_type": "code",
   "execution_count": 22,
   "id": "enhanced-bermuda",
   "metadata": {},
   "outputs": [],
   "source": [
    "def add_cnots(qf):\n",
    "    for i in range(0, numQubits-1):\n",
    "        for j in range(i+1, numQubits):\n",
    "            qf.cx(i, j)\n",
    "    qf.barrier()\n",
    "\n",
    "def add_layerRY(qf):\n",
    "    for qubit in range(numQubits):\n",
    "        qf.ry(next(theta_iter), qubit)\n",
    "    qf.barrier()\n",
    "\n",
    "def make_variationalCircuit(qf):\n",
    "    add_cnots(qf)\n",
    "    add_layerRY(qf)"
   ]
  },
  {
   "cell_type": "code",
   "execution_count": 27,
   "id": "reverse-description",
   "metadata": {},
   "outputs": [],
   "source": [
    "def make_final_circuit(qf, data, depth):\n",
    "    make_feature_map(qf, data)\n",
    "    #add_layerRY(qf)\n",
    "    #for i in range(depth):\n",
    "       # make_variationalCircuit(qf)"
   ]
  },
  {
   "cell_type": "code",
   "execution_count": 28,
   "id": "elegant-title",
   "metadata": {},
   "outputs": [],
   "source": [
    "qf = QuantumCircuit(QuantumRegister(2))\n",
    "params = ParameterVector('θ_', length = 20) \n",
    "theta_iter = iter(params)\n",
    "make_final_circuit(qf, normalize(X[0]), 9)"
   ]
  },
  {
   "cell_type": "code",
   "execution_count": 29,
   "id": "proud-amount",
   "metadata": {},
   "outputs": [
    {
     "data": {
      "image/png": "[encoded data removed]",
      "text/plain": [
       "<Figure size 340.378x144.48 with 1 Axes>"
      ]
     },
     "execution_count": 29,
     "metadata": {},
     "output_type": "execute_result"
    }
   ],
   "source": [
    "qf.draw('mpl')"
   ]
  },
  {
   "cell_type": "code",
   "execution_count": 31,
   "id": "printable-director",
   "metadata": {},
   "outputs": [],
   "source": [
    "all_eigenvals = []\n",
    "fisher_matrices = []"
   ]
  },
  {
   "cell_type": "code",
   "execution_count": 32,
   "id": "worst-liverpool",
   "metadata": {},
   "outputs": [],
   "source": [
    "for index in range(10):\n",
    "\n",
    "    data = normalize(X[index])\n",
    "    \n",
    "    params = ParameterVector('θ_', length = d) \n",
    "    theta_iter = iter(params)\n",
    "    print(params)\n",
    "    qf = QuantumCircuit(QuantumRegister(numQubits))\n",
    "    make_final_circuit(qf, data, depthVariational)\n",
    "    \n",
    "    state = CircuitStateFn(primitive=qf, coeff=1.)\n",
    "    qfi = qiskit.aqua.operators.gradients.QFI(qfi_method='lin_comb_full').convert(operator=state, params=params.params)\n",
    "    np.random.seed(0)\n",
    "    values_dict = {params: np.random.uniform(-1, 1, d)} \n",
    "    qfi_result = qfi.assign_parameters(values_dict).eval()\n",
    "    print(qfi_result)\n",
    "    fisher_matrix = np.real(np.array(qfi_result))\n",
    "    fisher_matrices.append(fisher_matrix)\n",
    "    eigvals,eigvecs=scipy.linalg.eigh(fisher_matrix)\n",
    "    print(eigvals)\n",
    "    all_eigenvals.append(eigvals)"
   ]
  },
  {
   "cell_type": "code",
   "execution_count": null,
   "id": "meaningful-concept",
   "metadata": {},
   "outputs": [],
   "source": []
  }
 ],
 "metadata": {
  "kernelspec": {
   "display_name": "Python 3",
   "language": "python",
   "name": "python3"
  },
  "language_info": {
   "codemirror_mode": {
    "name": "ipython",
    "version": 3
   },
   "file_extension": ".py",
   "mimetype": "text/x-python",
   "name": "python",
   "nbconvert_exporter": "python",
   "pygments_lexer": "ipython3",
   "version": "3.7.3"
  }
 },
 "nbformat": 4,
 "nbformat_minor": 5
}

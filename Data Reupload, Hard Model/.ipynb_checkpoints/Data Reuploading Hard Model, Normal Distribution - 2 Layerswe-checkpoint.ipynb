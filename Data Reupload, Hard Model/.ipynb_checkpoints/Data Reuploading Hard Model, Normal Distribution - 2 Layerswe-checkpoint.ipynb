{
 "cells": [
  {
   "cell_type": "code",
   "execution_count": 5,
   "id": "defined-franklin",
   "metadata": {},
   "outputs": [],
   "source": [
    "import sys\n",
    "import pennylane as qml\n",
    "from pennylane import numpy as np\n",
    "from math import pi\n",
    "from sklearn import datasets\n",
    "import scipy\n",
    "import numpy as np\n",
    "import time\n",
    "import math\n",
    "import pickle"
   ]
  },
  {
   "cell_type": "code",
   "execution_count": 6,
   "id": "preceding-value",
   "metadata": {},
   "outputs": [],
   "source": [
    "file_name = \"../PickleFiles/Data2Qubits.pkl\"    #Saving data in a pickle file\n",
    "\n",
    "open_file = open(file_name, \"rb\")\n",
    "loaded_list = pickle.load(open_file)\n",
    "open_file.close()\n",
    "\n",
    "dataVector = loaded_list[0]"
   ]
  },
  {
   "cell_type": "code",
   "execution_count": 7,
   "id": "weekly-investing",
   "metadata": {},
   "outputs": [],
   "source": [
    "numQubits = 2                  #No of qubits in the circuit\n",
    "layers = 1\n",
    "d = numQubits*layers\n",
    "dev = qml.device(\"default.qubit\", wires=numQubits)   "
   ]
  },
  {
   "cell_type": "code",
   "execution_count": 8,
   "id": "professional-vietnamese",
   "metadata": {},
   "outputs": [],
   "source": [
    "def add_layerRY(params):             \n",
    "    for qubit in range(numQubits):\n",
    "        qml.RY(params[qubit], wires = qubit)\n",
    "        \n",
    "def make_variational_ckt(params):\n",
    "    add_layerRY(params)\n",
    "    #qml.CNOT(wires=[0,1])\n",
    "    \n",
    "def make_circuit(data, params, layers):\n",
    "    angle_y = ((pi-data[0])*(pi-data[1]))\n",
    "    angle_z = ((pi-data[2])*(pi-data[3]))\n",
    "    for i in range(numQubits):\n",
    "        qml.Hadamard(wires=i)\n",
    "    for i in range(layers-1):\n",
    "        qml.RY(data[0], wires=0)\n",
    "        qml.RY(data[1], wires=1)\n",
    "        qml.RZ(data[2], wires=0)\n",
    "        qml.RZ(data[3], wires=1)\n",
    "        #qml.CNOT(wires=[0,1])\n",
    "        qml.RY(angle_y, wires=0)\n",
    "        qml.RZ(angle_z, wires=1)\n",
    "        #qml.CNOT(wires=[0,1])\n",
    "        make_variational_ckt(params[i*numQubits:(i+1)*numQubits])\n",
    "        \n",
    "    qml.RY(data[0], wires=0)\n",
    "    qml.RY(data[1], wires=1)\n",
    "    qml.RZ(data[2], wires=0)\n",
    "    qml.RZ(data[3], wires=1)\n",
    "    #qml.CNOT(wires=[0,1])\n",
    "    qml.RY(angle_y, wires=0)\n",
    "    qml.RZ(angle_z, wires=1)\n",
    "    #qml.CNOT(wires=[0,1])\n",
    "    for i in range(numQubits):\n",
    "        qml.RY(params[(layers-1)*numQubits+i], wires=i)"
   ]
  },
  {
   "cell_type": "code",
   "execution_count": 9,
   "id": "multiple-margin",
   "metadata": {},
   "outputs": [],
   "source": [
    "@qml.qnode(dev)\n",
    "def fubini_qnode(data, params, layers):          #Returns the state of the circuit as a matrix\n",
    "    make_circuit(data, params, layers)\n",
    "    return qml.state()"
   ]
  },
  {
   "cell_type": "code",
   "execution_count": 10,
   "id": "interpreted-training",
   "metadata": {},
   "outputs": [],
   "source": [
    "def fubini_calculate(data, params,depth):     #calculates fubini matrix given the data vector and parameters\n",
    "    fubini = np.zeros([d, d], dtype=np.float64)\n",
    "    base = np.conj(fubini_qnode(data,params,depth))\n",
    "    for i in range(d):\n",
    "        for j in range(d):\n",
    "            params[i] += np.pi/2\n",
    "            params[j] += np.pi/2\n",
    "            plusplus = np.abs(np.dot(base, fubini_qnode(data, params,depth))) ** 2\n",
    "            params[j] -= np.pi\n",
    "            plusminus = np.abs(np.dot(base, fubini_qnode(data, params,depth))) ** 2\n",
    "            params[i] -= np.pi\n",
    "            minusminus = np.abs(np.dot(base, fubini_qnode(data, params,depth))) ** 2\n",
    "            params[j] += np.pi\n",
    "            minusplus = np.abs(np.dot(base, fubini_qnode(data, params,depth))) ** 2\n",
    "            fubini[i, j] = (-plusplus-minusminus+plusminus+minusplus)/8\n",
    "            params[i] += np.pi/2\n",
    "            params[j] -= np.pi/2\n",
    "    return fubini"
   ]
  },
  {
   "cell_type": "code",
   "execution_count": 11,
   "id": "sharing-experiment",
   "metadata": {},
   "outputs": [],
   "source": [
    "paramsVector = []\n",
    "\n",
    "for i in range(100):\n",
    "    np.random.seed(i)\n",
    "    params = np.random.uniform(-1,1,d)\n",
    "    paramsVector.append(params)"
   ]
  },
  {
   "cell_type": "code",
   "execution_count": 12,
   "id": "composite-printer",
   "metadata": {},
   "outputs": [],
   "source": [
    "fubini_matrices = []\n",
    "avg_fubini = []\n",
    "\n",
    "eigen_vals = []\n",
    "avg_eigen = []"
   ]
  },
  {
   "cell_type": "code",
   "execution_count": null,
   "id": "verified-cassette",
   "metadata": {},
   "outputs": [
    {
     "name": "stdout",
     "output_type": "stream",
     "text": [
      "Parameters 0\n",
      "0\n",
      "1\n",
      "2\n",
      "3\n",
      "4\n",
      "5\n",
      "6\n",
      "7\n",
      "8\n",
      "9\n",
      "10\n",
      "11\n",
      "12\n",
      "13\n",
      "14\n",
      "15\n",
      "16\n",
      "17\n",
      "18\n",
      "19\n",
      "20\n",
      "21\n",
      "22\n",
      "23\n",
      "24\n",
      "25\n",
      "26\n",
      "27\n",
      "28\n",
      "29\n",
      "30\n",
      "31\n",
      "32\n",
      "33\n",
      "34\n",
      "35\n",
      "36\n",
      "37\n",
      "38\n",
      "39\n",
      "40\n",
      "41\n",
      "42\n",
      "43\n",
      "44\n",
      "45\n",
      "46\n",
      "47\n",
      "48\n",
      "49\n",
      "50\n",
      "51\n",
      "52\n",
      "53\n",
      "54\n",
      "55\n",
      "56\n",
      "57\n",
      "58\n",
      "59\n",
      "60\n",
      "61\n",
      "62\n",
      "63\n",
      "64\n",
      "65\n",
      "66\n",
      "67\n",
      "68\n",
      "69\n",
      "70\n",
      "71\n",
      "72\n",
      "73\n",
      "74\n",
      "75\n",
      "76\n",
      "77\n",
      "78\n",
      "79\n",
      "80\n",
      "81\n",
      "82\n",
      "83\n",
      "84\n",
      "85\n",
      "86\n",
      "87\n",
      "88\n",
      "89\n",
      "90\n",
      "91\n",
      "92\n",
      "93\n",
      "94\n",
      "95\n",
      "96\n",
      "97\n",
      "98\n",
      "99\n",
      "Parameters 1\n",
      "0\n",
      "1\n",
      "2\n",
      "3\n"
     ]
    }
   ],
   "source": [
    "for i in range(100):\n",
    "    print(\"Parameters\", i)\n",
    "    params = paramsVector[i]\n",
    "    sum_matrices = 0\n",
    "    for j in range(len(dataVector)):\n",
    "        print(j)\n",
    "        data = dataVector[j]\n",
    "        fubini = fubini_calculate(data, params, layers)\n",
    "        fubini_matrices.append(fubini)\n",
    "        \n",
    "        sum_matrices += fubini\n",
    "        eigvals,eigvecs=scipy.linalg.eigh(fubini)\n",
    "        eigen_vals.append(eigvals)\n",
    "    sum_matrices /= len(dataVector)\n",
    "    avg_fubini.append(sum_matrices)\n",
    "    \n",
    "    eigvals_avg,eigvecs_avg=scipy.linalg.eigh(avg_fubini[i])\n",
    "    avg_eigen.append(eigvals_avg)"
   ]
  },
  {
   "cell_type": "code",
   "execution_count": null,
   "id": "positive-prisoner",
   "metadata": {},
   "outputs": [],
   "source": [
    "len(avg_eigen)"
   ]
  },
  {
   "cell_type": "code",
   "execution_count": null,
   "id": "illegal-tokyo",
   "metadata": {},
   "outputs": [],
   "source": [
    "import pickle\n",
    "file_name = \"DataReupload21HardNormalwe.pkl\"    #Saving data in a pickle file\n",
    "\n",
    "open_file = open(file_name, \"wb\")\n",
    "pickle.dump([paramsVector, dataVector,fubini_matrices, avg_fubini, eigen_vals, avg_eigen], open_file)\n",
    "pickle.dump(fubini_matrices, open_file)\n",
    "open_file.close()"
   ]
  },
  {
   "cell_type": "code",
   "execution_count": null,
   "id": "fatty-silence",
   "metadata": {},
   "outputs": [],
   "source": [
    "import pickle\n",
    "file_name = \"DataReupload21HardNormalwe.pkl\"    #Saving data in a pickle file\n",
    "\n",
    "open_file = open(file_name, \"rb\")\n",
    "loaded_list = pickle.load(open_file)\n",
    "open_file.close()"
   ]
  },
  {
   "cell_type": "code",
   "execution_count": null,
   "id": "tough-characteristic",
   "metadata": {},
   "outputs": [],
   "source": [
    "avg_eigen = loaded_list[5]"
   ]
  },
  {
   "cell_type": "code",
   "execution_count": null,
   "id": "related-connectivity",
   "metadata": {},
   "outputs": [],
   "source": [
    "eigen_values = []\n",
    "for i in range(len(avg_eigen)):\n",
    "    for j in range(len(avg_eigen[0])):\n",
    "        eigen_values.append(4*avg_eigen[i][j])       #Stores all the eigen_values, multiplication by 4 to match the Qiskit equivalent"
   ]
  },
  {
   "cell_type": "code",
   "execution_count": null,
   "id": "proud-narrow",
   "metadata": {},
   "outputs": [],
   "source": [
    "len(eigen_values)"
   ]
  },
  {
   "cell_type": "code",
   "execution_count": null,
   "id": "attempted-index",
   "metadata": {},
   "outputs": [],
   "source": [
    "import matplotlib.pyplot as plt\n",
    "plt.hist(eigen_values, bins = 5, density=True)\n",
    "plt.title(\"Data Reuploading, d = 2, 100 trials\")        #Eigen Values Distribution of 500 Fisher Matrices\n",
    "plt.xlabel(\"Eigen Values\")\n",
    "plt.ylabel(\"Normalised Counts\")\n",
    "plt.show()"
   ]
  }
 ],
 "metadata": {
  "kernelspec": {
   "display_name": "Python 3",
   "language": "python",
   "name": "python3"
  },
  "language_info": {
   "codemirror_mode": {
    "name": "ipython",
    "version": 3
   },
   "file_extension": ".py",
   "mimetype": "text/x-python",
   "name": "python",
   "nbconvert_exporter": "python",
   "pygments_lexer": "ipython3",
   "version": "3.7.3"
  }
 },
 "nbformat": 4,
 "nbformat_minor": 5
}

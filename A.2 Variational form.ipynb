{
 "cells": [
  {
   "cell_type": "markdown",
   "metadata": {},
   "source": [
    "Assuming two distinct feature vectors for two layers of RY gates"
   ]
  },
  {
   "cell_type": "code",
   "execution_count": 12,
   "metadata": {},
   "outputs": [],
   "source": [
    "from qiskit import *\n",
    "from math import pi"
   ]
  },
  {
   "cell_type": "code",
   "execution_count": 13,
   "metadata": {},
   "outputs": [],
   "source": [
    "theta1 = circuit.Parameter('θ1')"
   ]
  },
  {
   "cell_type": "code",
   "execution_count": 14,
   "metadata": {},
   "outputs": [],
   "source": [
    "theta2 = circuit.Parameter('θ2')"
   ]
  },
  {
   "cell_type": "code",
   "execution_count": 22,
   "metadata": {},
   "outputs": [],
   "source": [
    "numQubits = 4"
   ]
  },
  {
   "cell_type": "code",
   "execution_count": 23,
   "metadata": {},
   "outputs": [],
   "source": [
    "def make_circuit():\n",
    "    qv = QuantumCircuit(numQubits, numQubits)\n",
    "    return qv"
   ]
  },
  {
   "cell_type": "code",
   "execution_count": 24,
   "metadata": {},
   "outputs": [],
   "source": [
    "def add_layer(qv, theta):\n",
    "    qv.ry(theta, range(numQubits))\n",
    "    qv.barrier()\n",
    "    return qv"
   ]
  },
  {
   "cell_type": "code",
   "execution_count": 25,
   "metadata": {},
   "outputs": [],
   "source": [
    "def add_cnots(qv):\n",
    "    for i in range(0, numQubits-1):\n",
    "        for j in range(i+1, numQubits):\n",
    "            qv.cx(i, j)\n",
    "    qv.barrier()\n",
    "    return qv"
   ]
  },
  {
   "cell_type": "code",
   "execution_count": 26,
   "metadata": {},
   "outputs": [],
   "source": [
    "qv = make_circuit()"
   ]
  },
  {
   "cell_type": "code",
   "execution_count": 27,
   "metadata": {},
   "outputs": [
    {
     "data": {
      "text/html": [
       "<pre style=\"word-wrap: normal;white-space: pre;background: #fff0;line-height: 1.1;font-family: &quot;Courier New&quot;,Courier,monospace\">     ┌────────┐ ░                                ░ ┌────────┐ ░ \n",
       "q_0: ┤ RY(θ1) ├─░───■────■────■──────────────────░─┤ RY(θ2) ├─░─\n",
       "     ├────────┤ ░ ┌─┴─┐  │    │                  ░ ├────────┤ ░ \n",
       "q_1: ┤ RY(θ1) ├─░─┤ X ├──┼────┼────■────■────────░─┤ RY(θ2) ├─░─\n",
       "     ├────────┤ ░ └───┘┌─┴─┐  │  ┌─┴─┐  │        ░ ├────────┤ ░ \n",
       "q_2: ┤ RY(θ1) ├─░──────┤ X ├──┼──┤ X ├──┼────■───░─┤ RY(θ2) ├─░─\n",
       "     ├────────┤ ░      └───┘┌─┴─┐└───┘┌─┴─┐┌─┴─┐ ░ ├────────┤ ░ \n",
       "q_3: ┤ RY(θ1) ├─░───────────┤ X ├─────┤ X ├┤ X ├─░─┤ RY(θ2) ├─░─\n",
       "     └────────┘ ░           └───┘     └───┘└───┘ ░ └────────┘ ░ \n",
       "c: 4/═══════════════════════════════════════════════════════════\n",
       "                                                                </pre>"
      ],
      "text/plain": [
       "     ┌────────┐ ░                                ░ ┌────────┐ ░ \n",
       "q_0: ┤ RY(θ1) ├─░───■────■────■──────────────────░─┤ RY(θ2) ├─░─\n",
       "     ├────────┤ ░ ┌─┴─┐  │    │                  ░ ├────────┤ ░ \n",
       "q_1: ┤ RY(θ1) ├─░─┤ X ├──┼────┼────■────■────────░─┤ RY(θ2) ├─░─\n",
       "     ├────────┤ ░ └───┘┌─┴─┐  │  ┌─┴─┐  │        ░ ├────────┤ ░ \n",
       "q_2: ┤ RY(θ1) ├─░──────┤ X ├──┼──┤ X ├──┼────■───░─┤ RY(θ2) ├─░─\n",
       "     ├────────┤ ░      └───┘┌─┴─┐└───┘┌─┴─┐┌─┴─┐ ░ ├────────┤ ░ \n",
       "q_3: ┤ RY(θ1) ├─░───────────┤ X ├─────┤ X ├┤ X ├─░─┤ RY(θ2) ├─░─\n",
       "     └────────┘ ░           └───┘     └───┘└───┘ ░ └────────┘ ░ \n",
       "c: 4/═══════════════════════════════════════════════════════════\n",
       "                                                                "
      ]
     },
     "execution_count": 27,
     "metadata": {},
     "output_type": "execute_result"
    }
   ],
   "source": [
    "add_layer(add_cnots(add_layer(qv, theta1)), theta2).draw()"
   ]
  }
 ],
 "metadata": {
  "kernelspec": {
   "display_name": "Python 3",
   "language": "python",
   "name": "python3"
  },
  "language_info": {
   "codemirror_mode": {
    "name": "ipython",
    "version": 3
   },
   "file_extension": ".py",
   "mimetype": "text/x-python",
   "name": "python",
   "nbconvert_exporter": "python",
   "pygments_lexer": "ipython3",
   "version": "3.7.3"
  }
 },
 "nbformat": 4,
 "nbformat_minor": 4
}

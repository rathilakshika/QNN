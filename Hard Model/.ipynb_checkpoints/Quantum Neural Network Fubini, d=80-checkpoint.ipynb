{
 "cells": [
  {
   "cell_type": "code",
   "execution_count": 1,
   "id": "defined-franklin",
   "metadata": {},
   "outputs": [],
   "source": [
    "import sys\n",
    "import pennylane as qml\n",
    "from pennylane import numpy as np\n",
    "from math import pi\n",
    "from sklearn import datasets\n",
    "import scipy\n",
    "import numpy as np\n",
    "import time\n",
    "import math"
   ]
  },
  {
   "cell_type": "code",
   "execution_count": 2,
   "id": "weekly-investing",
   "metadata": {},
   "outputs": [],
   "source": [
    "numQubits = 8\n",
    "depth = 9    ##using d = (D+1)*S\n",
    "d = 80"
   ]
  },
  {
   "cell_type": "code",
   "execution_count": 3,
   "id": "drawn-allowance",
   "metadata": {},
   "outputs": [],
   "source": [
    "dev = qml.device(\"default.qubit\", wires=numQubits)"
   ]
  },
  {
   "cell_type": "code",
   "execution_count": 4,
   "id": "typical-counter",
   "metadata": {},
   "outputs": [],
   "source": [
    "def add_layerRZ(data):\n",
    "    for i in range(numQubits):\n",
    "        qml.RZ(data[i], wires = i)\n",
    "\n",
    "def add_layerRZZ(data):\n",
    "    for i in range(0, numQubits-1):\n",
    "        for j in range(i+1, numQubits):\n",
    "            qml.CNOT(wires = [i, j])\n",
    "            qml.RZ((pi-data[i])*(pi-data[j]), wires = j)\n",
    "            qml.CNOT(wires = [i, j])\n",
    "\n",
    "def make_feature_map(data):\n",
    "    for i in range(numQubits):\n",
    "        qml.Hadamard(wires = i)\n",
    "    for i in range(2):\n",
    "        add_layerRZ(data)\n",
    "        add_layerRZZ(data)"
   ]
  },
  {
   "cell_type": "code",
   "execution_count": 5,
   "id": "suited-burke",
   "metadata": {},
   "outputs": [],
   "source": [
    "def add_cnots():\n",
    "    for i in range(0, numQubits-1):\n",
    "        for j in range(i+1, numQubits):\n",
    "            qml.CNOT(wires = [i, j])\n",
    "\n",
    "def add_layerRY(params):\n",
    "    for qubit in range(numQubits):\n",
    "        qml.RY(params[qubit], wires = qubit)\n",
    "        \n",
    "def make_variationalCircuit(params):\n",
    "    add_cnots()\n",
    "    add_layerRY(params)"
   ]
  },
  {
   "cell_type": "code",
   "execution_count": 6,
   "id": "dirty-bachelor",
   "metadata": {},
   "outputs": [],
   "source": [
    "def make_final_circuit(data, params, depth):\n",
    "    make_feature_map(data)\n",
    "    add_layerRY(params[0:numQubits])\n",
    "    for i in range(depth):\n",
    "        make_variationalCircuit(params[numQubits*(i+1):numQubits*(i+2)])"
   ]
  },
  {
   "cell_type": "code",
   "execution_count": 7,
   "id": "conventional-bleeding",
   "metadata": {},
   "outputs": [],
   "source": [
    "@qml.qnode(dev)\n",
    "def qnode(params):\n",
    "    make_final_circuit(data, params, depth)\n",
    "    return qml.expval(qml.PauliX(1))"
   ]
  },
  {
   "cell_type": "code",
   "execution_count": 8,
   "id": "multiple-margin",
   "metadata": {},
   "outputs": [],
   "source": [
    "@qml.qnode(dev)\n",
    "def fubini_qnode(data, params,depth):\n",
    "    make_final_circuit(data, params,depth)\n",
    "    return qml.state()"
   ]
  },
  {
   "cell_type": "code",
   "execution_count": 9,
   "id": "interpreted-training",
   "metadata": {},
   "outputs": [],
   "source": [
    "def fubini_calculate(data, params,depth):\n",
    "    fubini = np.zeros([d, d], dtype=np.float64)\n",
    "    base = np.conj(fubini_qnode(data,params,depth))\n",
    "    for i in range(d):\n",
    "        for j in range(d):\n",
    "            params[i] += np.pi/2\n",
    "            params[j] += np.pi/2\n",
    "            plusplus = np.abs(np.dot(base, fubini_qnode(data, params,depth))) ** 2\n",
    "            params[j] -= np.pi\n",
    "            plusminus = np.abs(np.dot(base, fubini_qnode(data, params,depth))) ** 2\n",
    "            params[i] -= np.pi\n",
    "            minusminus = np.abs(np.dot(base, fubini_qnode(data, params,depth))) ** 2\n",
    "            params[j] += np.pi\n",
    "            minusplus = np.abs(np.dot(base, fubini_qnode(data, params,depth))) ** 2\n",
    "            fubini[i, j] = (-plusplus-minusminus+plusminus+minusplus)/8\n",
    "            params[i] += np.pi/2\n",
    "            params[j] -= np.pi/2\n",
    "    return fubini"
   ]
  },
  {
   "cell_type": "code",
   "execution_count": 10,
   "id": "sweet-kenya",
   "metadata": {},
   "outputs": [],
   "source": [
    "fubini_matrices = []\n",
    "eigen_vals = []"
   ]
  },
  {
   "cell_type": "code",
   "execution_count": 11,
   "id": "european-research",
   "metadata": {},
   "outputs": [
    {
     "data": {
      "text/plain": [
       "array([ 0.09762701,  0.43037873,  0.20552675,  0.08976637, -0.1526904 ,\n",
       "        0.29178823, -0.12482558,  0.783546  ,  0.92732552, -0.23311696,\n",
       "        0.58345008,  0.05778984,  0.13608912,  0.85119328, -0.85792788,\n",
       "       -0.8257414 , -0.95956321,  0.66523969,  0.5563135 ,  0.7400243 ,\n",
       "        0.95723668,  0.59831713, -0.07704128,  0.56105835, -0.76345115,\n",
       "        0.27984204, -0.71329343,  0.88933783,  0.04369664, -0.17067612,\n",
       "       -0.47088878,  0.54846738, -0.08769934,  0.1368679 , -0.9624204 ,\n",
       "        0.23527099,  0.22419145,  0.23386799,  0.88749616,  0.3636406 ,\n",
       "       -0.2809842 , -0.12593609,  0.39526239, -0.87954906,  0.33353343,\n",
       "        0.34127574, -0.57923488, -0.7421474 , -0.3691433 , -0.27257846,\n",
       "        0.14039354, -0.12279697,  0.97674768, -0.79591038, -0.58224649,\n",
       "       -0.67738096,  0.30621665, -0.49341679, -0.06737845, -0.51114882,\n",
       "       -0.68206083, -0.77924972,  0.31265918, -0.7236341 , -0.60683528,\n",
       "       -0.26254966,  0.64198646, -0.80579745,  0.67588981, -0.80780318,\n",
       "        0.95291893, -0.0626976 ,  0.95352218,  0.20969104,  0.47852716,\n",
       "       -0.92162442, -0.43438607, -0.75960688, -0.4077196 , -0.76254456])"
      ]
     },
     "execution_count": 11,
     "metadata": {},
     "output_type": "execute_result"
    }
   ],
   "source": [
    "np.random.seed(0)\n",
    "params = np.random.uniform(-1, 1, d)\n",
    "params"
   ]
  },
  {
   "cell_type": "code",
   "execution_count": null,
   "id": "breathing-campbell",
   "metadata": {},
   "outputs": [
    {
     "name": "stdout",
     "output_type": "stream",
     "text": [
      "[-0.36403364 -0.17147401 -0.87170501  0.38494424  0.13320291 -0.46922102\n",
      "  0.04649611 -0.81211898]\n"
     ]
    }
   ],
   "source": [
    "start_qfi = time.time()\n",
    "\n",
    "for i in range(10) :\n",
    "    data = np.random.uniform(-1, 1, numQubits)\n",
    "    print(data)\n",
    "    fubini = fubini_calculate(data, params, depth)\n",
    "    print(fubini)\n",
    "    fubini_matrices.append(fubini)\n",
    "    eigvals,eigvecs=scipy.linalg.eigh(fubini)\n",
    "    eigen_vals.append(eigvals)\n",
    "    \n",
    "end_qfi = time.time()\n",
    "print(end_qfi - start_qfi)"
   ]
  },
  {
   "cell_type": "code",
   "execution_count": null,
   "id": "german-upper",
   "metadata": {},
   "outputs": [],
   "source": [
    "len(eigen_vals)"
   ]
  },
  {
   "cell_type": "code",
   "execution_count": null,
   "id": "related-connectivity",
   "metadata": {},
   "outputs": [],
   "source": [
    "eigen_values = []\n",
    "for i in range(0,len(eigen_vals)):\n",
    "    for j in range(len(eigen_vals[0])):\n",
    "        eigen_values.append(4*eigen_vals[i][j])"
   ]
  },
  {
   "cell_type": "code",
   "execution_count": null,
   "id": "technological-region",
   "metadata": {},
   "outputs": [],
   "source": [
    "len(eigen_values)"
   ]
  },
  {
   "cell_type": "code",
   "execution_count": null,
   "id": "sought-carrier",
   "metadata": {},
   "outputs": [],
   "source": [
    "import matplotlib.pyplot as plt\n",
    "plt.hist(eigen_values, bins = 5)\n",
    "plt.show()"
   ]
  },
  {
   "cell_type": "code",
   "execution_count": null,
   "id": "infinite-brick",
   "metadata": {},
   "outputs": [],
   "source": [
    "eigvals_bw01=[eigen_values[i] for i in range(len(eigen_values)) if eigen_values[i] <= 1]"
   ]
  },
  {
   "cell_type": "code",
   "execution_count": null,
   "id": "variable-postage",
   "metadata": {},
   "outputs": [],
   "source": [
    "eigvals_bw01"
   ]
  },
  {
   "cell_type": "code",
   "execution_count": null,
   "id": "packed-collect",
   "metadata": {},
   "outputs": [],
   "source": [
    "import matplotlib.pyplot as plt\n",
    "plt.hist(eigvals_bw01, bins = 5)\n",
    "plt.show()"
   ]
  },
  {
   "cell_type": "code",
   "execution_count": null,
   "id": "rental-minute",
   "metadata": {},
   "outputs": [],
   "source": [
    "eigen_values"
   ]
  }
 ],
 "metadata": {
  "kernelspec": {
   "display_name": "Python 3",
   "language": "python",
   "name": "python3"
  },
  "language_info": {
   "codemirror_mode": {
    "name": "ipython",
    "version": 3
   },
   "file_extension": ".py",
   "mimetype": "text/x-python",
   "name": "python",
   "nbconvert_exporter": "python",
   "pygments_lexer": "ipython3",
   "version": "3.7.3"
  }
 },
 "nbformat": 4,
 "nbformat_minor": 5
}

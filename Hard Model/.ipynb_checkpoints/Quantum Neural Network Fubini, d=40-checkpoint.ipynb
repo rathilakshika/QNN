{
 "cells": [
  {
   "cell_type": "code",
   "execution_count": 1,
   "id": "defined-franklin",
   "metadata": {},
   "outputs": [],
   "source": [
    "import sys\n",
    "import pennylane as qml\n",
    "from pennylane import numpy as np\n",
    "from math import pi\n",
    "from sklearn import datasets\n",
    "import scipy\n",
    "import numpy as np\n",
    "import time\n",
    "import math"
   ]
  },
  {
   "cell_type": "code",
   "execution_count": 2,
   "id": "weekly-investing",
   "metadata": {},
   "outputs": [],
   "source": [
    "numQubits = 4\n",
    "depth = 9    ##using d = (D+1)*S\n",
    "d = 40"
   ]
  },
  {
   "cell_type": "code",
   "execution_count": 3,
   "id": "drawn-allowance",
   "metadata": {},
   "outputs": [],
   "source": [
    "dev = qml.device(\"default.qubit\", wires=numQubits)"
   ]
  },
  {
   "cell_type": "code",
   "execution_count": 4,
   "id": "typical-counter",
   "metadata": {},
   "outputs": [],
   "source": [
    "def add_layerRZ(data):\n",
    "    for i in range(numQubits):\n",
    "        qml.RZ(data[i], wires = i)\n",
    "\n",
    "def add_layerRZZ(data):\n",
    "    for i in range(0, numQubits-1):\n",
    "        for j in range(i+1, numQubits):\n",
    "            qml.CNOT(wires = [i, j])\n",
    "            qml.RZ((pi-data[i])*(pi-data[j]), wires = j)\n",
    "            qml.CNOT(wires = [i, j])\n",
    "\n",
    "def make_feature_map(data):\n",
    "    for i in range(numQubits):\n",
    "        qml.Hadamard(wires = i)\n",
    "    for i in range(2):\n",
    "        add_layerRZ(data)\n",
    "        add_layerRZZ(data)"
   ]
  },
  {
   "cell_type": "code",
   "execution_count": 5,
   "id": "suited-burke",
   "metadata": {},
   "outputs": [],
   "source": [
    "def add_cnots():\n",
    "    for i in range(0, numQubits-1):\n",
    "        for j in range(i+1, numQubits):\n",
    "            qml.CNOT(wires = [i, j])\n",
    "\n",
    "def add_layerRY(params):\n",
    "    for qubit in range(numQubits):\n",
    "        qml.RY(params[qubit], wires = qubit)\n",
    "        \n",
    "def make_variationalCircuit(params):\n",
    "    add_cnots()\n",
    "    add_layerRY(params)"
   ]
  },
  {
   "cell_type": "code",
   "execution_count": 6,
   "id": "dirty-bachelor",
   "metadata": {},
   "outputs": [],
   "source": [
    "def make_final_circuit(data, params, depth):\n",
    "    make_feature_map(data)\n",
    "    add_layerRY(params[0:numQubits])\n",
    "    for i in range(depth):\n",
    "        make_variationalCircuit(params[numQubits*(i+1):numQubits*(i+2)])"
   ]
  },
  {
   "cell_type": "code",
   "execution_count": 7,
   "id": "conventional-bleeding",
   "metadata": {},
   "outputs": [],
   "source": [
    "@qml.qnode(dev)\n",
    "def qnode(params):\n",
    "    make_final_circuit(data, params, depth)\n",
    "    return qml.expval(qml.PauliX(1))"
   ]
  },
  {
   "cell_type": "code",
   "execution_count": 8,
   "id": "multiple-margin",
   "metadata": {},
   "outputs": [],
   "source": [
    "@qml.qnode(dev)\n",
    "def fubini_qnode(data, params,depth):\n",
    "    make_final_circuit(data, params,depth)\n",
    "    return qml.state()"
   ]
  },
  {
   "cell_type": "code",
   "execution_count": 9,
   "id": "interpreted-training",
   "metadata": {},
   "outputs": [],
   "source": [
    "def fubini_calculate(data, params,depth):\n",
    "    fubini = np.zeros([d, d], dtype=np.float64)\n",
    "    base = np.conj(fubini_qnode(data,params,depth))\n",
    "    for i in range(d):\n",
    "        for j in range(d):\n",
    "            params[i] += np.pi/2\n",
    "            params[j] += np.pi/2\n",
    "            plusplus = np.abs(np.dot(base, fubini_qnode(data, params,depth))) ** 2\n",
    "            params[j] -= np.pi\n",
    "            plusminus = np.abs(np.dot(base, fubini_qnode(data, params,depth))) ** 2\n",
    "            params[i] -= np.pi\n",
    "            minusminus = np.abs(np.dot(base, fubini_qnode(data, params,depth))) ** 2\n",
    "            params[j] += np.pi\n",
    "            minusplus = np.abs(np.dot(base, fubini_qnode(data, params,depth))) ** 2\n",
    "            fubini[i, j] = (-plusplus-minusminus+plusminus+minusplus)/8\n",
    "            params[i] += np.pi/2\n",
    "            params[j] -= np.pi/2\n",
    "    return fubini"
   ]
  },
  {
   "cell_type": "code",
   "execution_count": 10,
   "id": "sweet-kenya",
   "metadata": {},
   "outputs": [],
   "source": [
    "fubini_matrices = []\n",
    "eigen_vals = []\n",
    "paramsV = []\n",
    "dataV = []"
   ]
  },
  {
   "cell_type": "code",
   "execution_count": 12,
   "id": "breathing-campbell",
   "metadata": {},
   "outputs": [
    {
     "name": "stdout",
     "output_type": "stream",
     "text": [
      "300\n",
      "301\n",
      "302\n",
      "303\n",
      "304\n",
      "305\n",
      "306\n",
      "307\n",
      "308\n",
      "309\n",
      "310\n",
      "311\n",
      "312\n",
      "313\n",
      "314\n",
      "315\n",
      "316\n",
      "317\n",
      "318\n",
      "319\n",
      "320\n",
      "321\n",
      "322\n",
      "323\n",
      "324\n",
      "325\n",
      "326\n",
      "327\n",
      "328\n",
      "329\n",
      "330\n",
      "331\n",
      "332\n",
      "333\n",
      "334\n",
      "335\n",
      "336\n",
      "337\n",
      "338\n",
      "339\n",
      "340\n",
      "341\n",
      "342\n",
      "343\n",
      "344\n",
      "345\n",
      "346\n",
      "347\n",
      "348\n",
      "349\n",
      "350\n",
      "351\n",
      "352\n",
      "353\n",
      "354\n",
      "355\n",
      "356\n",
      "357\n",
      "358\n",
      "359\n",
      "360\n",
      "361\n",
      "362\n",
      "363\n",
      "364\n",
      "365\n",
      "366\n",
      "367\n",
      "368\n",
      "369\n",
      "370\n",
      "371\n",
      "372\n",
      "373\n",
      "374\n",
      "375\n",
      "376\n",
      "377\n",
      "378\n",
      "379\n",
      "380\n",
      "381\n",
      "382\n",
      "383\n",
      "384\n",
      "385\n",
      "386\n",
      "387\n",
      "388\n",
      "389\n",
      "390\n",
      "391\n",
      "392\n",
      "393\n",
      "394\n",
      "395\n",
      "396\n",
      "397\n",
      "398\n",
      "399\n",
      "400\n",
      "401\n",
      "402\n",
      "403\n",
      "404\n",
      "405\n",
      "406\n",
      "407\n",
      "408\n",
      "409\n",
      "410\n",
      "411\n",
      "412\n",
      "413\n",
      "414\n",
      "415\n",
      "416\n",
      "417\n",
      "418\n",
      "419\n",
      "420\n",
      "421\n",
      "422\n",
      "423\n",
      "424\n",
      "425\n",
      "426\n",
      "427\n",
      "428\n",
      "429\n",
      "430\n",
      "431\n",
      "432\n",
      "433\n",
      "434\n",
      "435\n",
      "436\n",
      "437\n",
      "438\n",
      "439\n",
      "440\n",
      "441\n",
      "442\n",
      "443\n",
      "444\n",
      "445\n",
      "446\n",
      "447\n",
      "448\n",
      "449\n",
      "450\n",
      "451\n",
      "452\n",
      "453\n",
      "454\n",
      "455\n",
      "456\n",
      "457\n",
      "458\n",
      "459\n",
      "460\n",
      "461\n",
      "462\n",
      "463\n",
      "464\n",
      "465\n",
      "466\n",
      "467\n",
      "468\n",
      "469\n",
      "470\n",
      "471\n",
      "472\n",
      "473\n",
      "474\n",
      "475\n",
      "476\n",
      "477\n",
      "478\n",
      "479\n",
      "480\n",
      "481\n",
      "482\n",
      "483\n",
      "484\n",
      "485\n",
      "486\n",
      "487\n",
      "488\n",
      "489\n",
      "490\n",
      "491\n",
      "492\n",
      "493\n",
      "494\n",
      "495\n",
      "496\n",
      "497\n",
      "498\n",
      "499\n",
      "27426.176276683807\n"
     ]
    }
   ],
   "source": [
    "start_qfi = time.time()\n",
    "\n",
    "for i in range(300, 500):\n",
    "    print(i)\n",
    "    np.random.seed(i)\n",
    "    data = np.random.uniform(-1,1,numQubits) \n",
    "    dataV.append(data)\n",
    "    params = np.random.uniform(-1,1,d)\n",
    "    paramsV.append(params)\n",
    "    fubini = fubini_calculate(data, params, depth)\n",
    "    fubini_matrices.append(fubini)\n",
    "    eigvals,eigvecs=scipy.linalg.eigh(fubini)\n",
    "    eigen_vals.append(eigvals)\n",
    "    \n",
    "end_qfi = time.time()\n",
    "print(end_qfi - start_qfi)\n"
   ]
  },
  {
   "cell_type": "code",
   "execution_count": 46,
   "id": "widespread-vegetation",
   "metadata": {},
   "outputs": [
    {
     "name": "stdout",
     "output_type": "stream",
     "text": [
      "500\n"
     ]
    }
   ],
   "source": [
    "import pickle\n",
    "file_name = \"PickleFiles/QNN40300.pkl\"\n",
    "open_file = open(file_name, \"rb\")\n",
    "loaded_list = pickle.load(open_file)\n",
    "open_file.close()\n",
    "\n",
    "eigen_300 = loaded_list[2]\n",
    "fubini_matrices.extend(loaded_list[1])\n",
    "print(len(fubini_matrices))"
   ]
  },
  {
   "cell_type": "code",
   "execution_count": 47,
   "id": "related-connectivity",
   "metadata": {},
   "outputs": [],
   "source": [
    "eigenVals = eigen_vals[0:200]\n",
    "eigenVals.extend(eigen_300)\n",
    "eigen_values = []\n",
    "for i in range(0,len(eigenVals)):\n",
    "    for j in range(len(eigenVals[0])):\n",
    "        eigen_values.append(4*eigenVals[i][j])"
   ]
  },
  {
   "cell_type": "code",
   "execution_count": 48,
   "id": "technological-region",
   "metadata": {},
   "outputs": [
    {
     "data": {
      "text/plain": [
       "20000"
      ]
     },
     "execution_count": 48,
     "metadata": {},
     "output_type": "execute_result"
    }
   ],
   "source": [
    "len(eigen_values)"
   ]
  },
  {
   "cell_type": "code",
   "execution_count": 49,
   "id": "sought-carrier",
   "metadata": {},
   "outputs": [
    {
     "data": {
      "image/png": "[encoded data removed]",
      "text/plain": [
       "<Figure size 432x288 with 1 Axes>"
      ]
     },
     "metadata": {
      "needs_background": "light"
     },
     "output_type": "display_data"
    }
   ],
   "source": [
    "import matplotlib.pyplot as plt\n",
    "plt.hist(eigen_values, bins = 5, density=True)\n",
    "plt.title(\"Quantum Neural Network Model, d = 40, 500 trials\")\n",
    "plt.xlabel(\"Eigen Values\")\n",
    "plt.ylabel(\"Normalised Counts\")\n",
    "plt.savefig(\"Plots/QNN40500\")\n",
    "plt.show()"
   ]
  },
  {
   "cell_type": "code",
   "execution_count": 50,
   "id": "welsh-manor",
   "metadata": {},
   "outputs": [],
   "source": [
    "import pickle\n",
    "file_name = \"PickleFiles/QNN40500.pkl\"\n",
    "\n",
    "open_file = open(file_name, \"wb\")\n",
    "pickle.dump([data,fubini_matrices,eigen_vals,paramsV,eigen_values], open_file)\n",
    "pickle.dump(fubini_matrices, open_file)\n",
    "open_file.close()\n"
   ]
  },
  {
   "cell_type": "code",
   "execution_count": 51,
   "id": "exterior-respect",
   "metadata": {},
   "outputs": [
    {
     "name": "stdout",
     "output_type": "stream",
     "text": [
      "500\n"
     ]
    }
   ],
   "source": [
    "open_file = open(file_name, \"rb\")\n",
    "loaded_list = pickle.load(open_file)\n",
    "open_file.close()\n",
    "print(len(loaded_list[1]))"
   ]
  },
  {
   "cell_type": "code",
   "execution_count": 52,
   "id": "dress-inclusion",
   "metadata": {},
   "outputs": [],
   "source": [
    "eigvals_bw01=[eigen_values[i] for i in range(len(eigen_values)) if eigen_values[i] <= 1]"
   ]
  },
  {
   "cell_type": "code",
   "execution_count": 53,
   "id": "committed-analyst",
   "metadata": {},
   "outputs": [
    {
     "data": {
      "image/png": "[encoded data removed]",
      "text/plain": [
       "<Figure size 432x288 with 1 Axes>"
      ]
     },
     "metadata": {
      "needs_background": "light"
     },
     "output_type": "display_data"
    }
   ],
   "source": [
    "import matplotlib.pyplot as plt\n",
    "plt.hist(eigvals_bw01, bins = 5, density=True)\n",
    "plt.title(\"Quantum Neural Network Model, d = 40, 500 trials, eigen-values<=1\")\n",
    "plt.xlabel(\"Eigen Values\")\n",
    "plt.ylabel(\"Normalised Counts\")\n",
    "plt.savefig(\"QNN40500bw01\")\n",
    "plt.show()"
   ]
  }
 ],
 "metadata": {
  "kernelspec": {
   "display_name": "Python 3",
   "language": "python",
   "name": "python3"
  },
  "language_info": {
   "codemirror_mode": {
    "name": "ipython",
    "version": 3
   },
   "file_extension": ".py",
   "mimetype": "text/x-python",
   "name": "python",
   "nbconvert_exporter": "python",
   "pygments_lexer": "ipython3",
   "version": "3.7.3"
  }
 },
 "nbformat": 4,
 "nbformat_minor": 5
}

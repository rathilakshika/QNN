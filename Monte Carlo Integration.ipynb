{
 "cells": [
  {
   "cell_type": "code",
   "execution_count": 1,
   "id": "acquired-shift",
   "metadata": {},
   "outputs": [],
   "source": [
    "from math import pi\n",
    "import numpy as np\n",
    "import math\n",
    "import random"
   ]
  },
  {
   "cell_type": "code",
   "execution_count": 2,
   "id": "young-exemption",
   "metadata": {},
   "outputs": [],
   "source": [
    "l_limit = -1          #Limits of the integration over theta space\n",
    "u_limit = 1\n",
    "d = 40               #no of parameters in the circuit\n",
    "gamma = 0.5          #hyperparameter in calculation of effective dimension\n",
    "# n = number of data samples"
   ]
  },
  {
   "cell_type": "markdown",
   "id": "alleged-sphere",
   "metadata": {},
   "source": [
    "<img src=\"Images/Vtheta.png\">"
   ]
  },
  {
   "cell_type": "code",
   "execution_count": 3,
   "id": "amber-river",
   "metadata": {},
   "outputs": [],
   "source": [
    "Vtheta = (u_limit - l_limit)**d      #Volume integral over the theta space (as the formula above)"
   ]
  },
  {
   "cell_type": "markdown",
   "id": "opened-blind",
   "metadata": {},
   "source": [
    "<img src=\"Images/sum_traces.png\">"
   ]
  },
  {
   "cell_type": "code",
   "execution_count": 4,
   "id": "grave-graham",
   "metadata": {},
   "outputs": [],
   "source": [
    "def sum_traces(fubini_matrices):     #Calculates the sum of traces of all the Fubini Matrices, to be used in integration       \n",
    "    sTrace = 0\n",
    "    for i in range(len(fubini_matrices)):\n",
    "        sTrace += np.trace(fubini_matrices[i])\n",
    "    return sTrace\n",
    "\n",
    "def int_traces(fubini_matrices, n):   #Computed the integral of tr(F(theta)) over theta space\n",
    "    return ((u_limit-l_limit)**d)*sum_traces(fubini_matrices)/n"
   ]
  },
  {
   "cell_type": "markdown",
   "id": "honey-curve",
   "metadata": {},
   "source": [
    "<img src=\"Images/normalisedFisher.png\">"
   ]
  },
  {
   "cell_type": "code",
   "execution_count": 5,
   "id": "supreme-reducing",
   "metadata": {},
   "outputs": [],
   "source": [
    "def normalisedFisher(ind, fubini_matrices, n):  #Computes the normalised Fisher Matrix for a single Fubini Matrix at index ind in the list\n",
    "    return d*Vtheta*(fubini_matrices[ind])/(int_traces(fubini_matrices, n))"
   ]
  },
  {
   "cell_type": "markdown",
   "id": "protected-transition",
   "metadata": {},
   "source": [
    "<img src=\"Images/func_eff.png\">"
   ]
  },
  {
   "cell_type": "code",
   "execution_count": 6,
   "id": "celtic-cincinnati",
   "metadata": {},
   "outputs": [],
   "source": [
    "def func_effDim(matrix, n, gamma):  #Computes the function inside the integral (square root term in numerator) for effective dimension calculation\n",
    "    factor = gamma*n/(2*pi*math.log10(n))\n",
    "    determinant_value = np.identity(d) + factor*matrix\n",
    "    return (np.linalg.det(determinant_value))**0.5"
   ]
  },
  {
   "cell_type": "markdown",
   "id": "surrounded-attention",
   "metadata": {},
   "source": [
    "<img src=\"Images/int_eff.png\">"
   ]
  },
  {
   "cell_type": "code",
   "execution_count": 7,
   "id": "compound-courtesy",
   "metadata": {},
   "outputs": [],
   "source": [
    "def int_effDim(normalisedMatrices, n): #Computes the integral present in numerator of effective dimension formula\n",
    "    sum_dets = 0\n",
    "    for i in range(len(normalisedMatrices)):\n",
    "        sum_dets += func_effDim(normalisedMatrices[i], n, gamma)\n",
    "    return ((u_limit-l_limit)**d)*sum_dets/n"
   ]
  },
  {
   "cell_type": "markdown",
   "id": "irish-coverage",
   "metadata": {},
   "source": [
    "<img src=\"Images/eff_dim.png\">"
   ]
  },
  {
   "cell_type": "code",
   "execution_count": 8,
   "id": "distinguished-campbell",
   "metadata": {},
   "outputs": [],
   "source": [
    "def eff_dim(fubini_matrices, n, gamma):  #Computes the effective dimension according to the equation-2 (given above)\n",
    "    normalisedMatrices = []\n",
    "    for i in range(len(fubini_matrices)):\n",
    "        normalisedMatrices.append(normalisedFisher(i, fubini_matrices, n))\n",
    "    factor = gamma*n/(2*pi*math.log10(n))\n",
    "    return 2*math.log10(int_effDim(normalisedMatrices, n)/Vtheta)/math.log10(factor)"
   ]
  },
  {
   "cell_type": "code",
   "execution_count": 9,
   "id": "boxed-forward",
   "metadata": {},
   "outputs": [],
   "source": [
    "import pickle    #importing the fisher matrices stored in the pickle file\n",
    "file_name = \"EasyQuantum40500-10.pkl\"\n",
    "open_file = open(file_name, \"rb\")\n",
    "loaded_list = pickle.load(open_file)\n",
    "open_file.close()"
   ]
  },
  {
   "cell_type": "code",
   "execution_count": 10,
   "id": "regulated-texture",
   "metadata": {},
   "outputs": [
    {
     "name": "stdout",
     "output_type": "stream",
     "text": [
      "500\n"
     ]
    }
   ],
   "source": [
    "fubini_matrices = loaded_list[1]\n",
    "print(len(fubini_matrices))"
   ]
  },
  {
   "cell_type": "code",
   "execution_count": 11,
   "id": "applied-storm",
   "metadata": {},
   "outputs": [
    {
     "data": {
      "text/plain": [
       "1000000"
      ]
     },
     "execution_count": 11,
     "metadata": {},
     "output_type": "execute_result"
    }
   ],
   "source": [
    "fubini = fubini_matrices*2000\n",
    "len(fubini)\n",
    "#random.shuffle(fubini)"
   ]
  },
  {
   "cell_type": "code",
   "execution_count": 12,
   "id": "dried-decline",
   "metadata": {},
   "outputs": [],
   "source": [
    "from sklearn.utils import shuffle\n",
    "fubini = shuffle(fubini, random_state=0)"
   ]
  },
  {
   "cell_type": "code",
   "execution_count": null,
   "id": "empty-zoning",
   "metadata": {},
   "outputs": [],
   "source": [
    "eff_dims = [ ]           #Computes effective dimension for the 500 fisher matrices \n",
    "dataV = [ ]   \n",
    " \n",
    "for i in np.linspace(0.1, 1.0, 20): #gamma values\n",
    "    eff_dimV = []\n",
    "    data = []\n",
    "    for j in range(200000, 1200000, 200000):   #no of datapoints\n",
    "        data.append(j)\n",
    "        eff_dimV.append(eff_dim(fubini[:j], j, i) / d)\n",
    "    \n",
    "    eff_dims.append(eff_dimV)\n",
    "    dataV.append(data)"
   ]
  },
  {
   "cell_type": "code",
   "execution_count": null,
   "id": "basic-interaction",
   "metadata": {},
   "outputs": [],
   "source": [
    "dataPoints = [i for i in range(200000, 1200000, 200000)]"
   ]
  },
  {
   "cell_type": "code",
   "execution_count": null,
   "id": "wicked-commerce",
   "metadata": {},
   "outputs": [],
   "source": [
    "import matplotlib.pyplot as plt\n",
    "plt.figure(figsize=[20, 16])\n",
    "\n",
    "for i in range(20):\n",
    "    plt.plot(dataPoints, eff_dims[i])\n",
    "        \n",
    "legendList = ['{}'.format(i) for i in np.linspace(0.1, 1.0, num = 20)]\n",
    "plt.xlabel('Data Points')\n",
    "plt.ylabel('Effective Dimension')\n",
    "plt.legend(legendList)\n",
    "plt.savefig('EffDimsGraphQNN')\n",
    "plt.show()"
   ]
  }
 ],
 "metadata": {
  "kernelspec": {
   "display_name": "Python 3",
   "language": "python",
   "name": "python3"
  },
  "language_info": {
   "codemirror_mode": {
    "name": "ipython",
    "version": 3
   },
   "file_extension": ".py",
   "mimetype": "text/x-python",
   "name": "python",
   "nbconvert_exporter": "python",
   "pygments_lexer": "ipython3",
   "version": "3.7.3"
  }
 },
 "nbformat": 4,
 "nbformat_minor": 5
}

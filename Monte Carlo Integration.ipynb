{
 "cells": [
  {
   "cell_type": "code",
   "execution_count": 45,
   "id": "acquired-shift",
   "metadata": {},
   "outputs": [],
   "source": [
    "from math import pi\n",
    "import numpy as np\n",
    "import math"
   ]
  },
  {
   "cell_type": "code",
   "execution_count": 81,
   "id": "young-exemption",
   "metadata": {},
   "outputs": [],
   "source": [
    "l_limit = 0\n",
    "u_limit = 2*pi\n",
    "N = 100\n",
    "d = 40\n",
    "gamma = 0.4"
   ]
  },
  {
   "cell_type": "code",
   "execution_count": 23,
   "id": "amber-river",
   "metadata": {},
   "outputs": [],
   "source": [
    "Vtheta = (u_limit - l_limit)**40"
   ]
  },
  {
   "cell_type": "code",
   "execution_count": 86,
   "id": "laden-iraqi",
   "metadata": {},
   "outputs": [],
   "source": [
    "import pickle\n",
    "file_name = \"EasyQuantum40.pkl\"\n",
    "open_file = open(file_name, \"rb\")\n",
    "loaded_list = pickle.load(open_file)\n",
    "open_file.close()\n",
    "\n",
    "fubini_matrices = loaded_list[1]"
   ]
  },
  {
   "cell_type": "code",
   "execution_count": 87,
   "id": "grave-graham",
   "metadata": {},
   "outputs": [],
   "source": [
    "def sum_traces(fubini_matrices):\n",
    "    sTrace = 0\n",
    "    for i in range(len(fubini_matrices)):\n",
    "        sTrace += np.trace(fubini_matrices[i])\n",
    "    return sTrace"
   ]
  },
  {
   "cell_type": "code",
   "execution_count": 88,
   "id": "attractive-network",
   "metadata": {},
   "outputs": [],
   "source": [
    "def int_traces(fubini_matrices):\n",
    "    return ((u_limit-l_limit)**d)*sum_traces(fubini_matrices)/N"
   ]
  },
  {
   "cell_type": "code",
   "execution_count": 89,
   "id": "supreme-reducing",
   "metadata": {},
   "outputs": [],
   "source": [
    "def normalisedFisher(n, fubini_matrices):\n",
    "    return d*Vtheta*(fubini_matrices[n])/(int_traces(fubini_matrices))"
   ]
  },
  {
   "cell_type": "code",
   "execution_count": 90,
   "id": "celtic-cincinnati",
   "metadata": {},
   "outputs": [],
   "source": [
    "def func_effDim(matrix):\n",
    "    determinant_value = np.identity(d) + factor*matrix\n",
    "    return (np.linalg.det(determinant_value))**0.5"
   ]
  },
  {
   "cell_type": "code",
   "execution_count": 91,
   "id": "compound-courtesy",
   "metadata": {},
   "outputs": [],
   "source": [
    "def int_effDim(normalisedMatrices):\n",
    "    sum_dets = 0\n",
    "    for i in range(len(normalisedMatrices)):\n",
    "        sum_dets += func_effDim(normalisedMatrices[i])\n",
    "    return ((u_limit-l_limit)**d)*sum_dets/N"
   ]
  },
  {
   "cell_type": "code",
   "execution_count": 92,
   "id": "sunset-toronto",
   "metadata": {},
   "outputs": [],
   "source": [
    "effective_dimension = 2*math.log10(int_effDim(normalisedMatrices)/Vtheta)/math.log10(factor)"
   ]
  },
  {
   "cell_type": "code",
   "execution_count": 93,
   "id": "distinguished-campbell",
   "metadata": {},
   "outputs": [],
   "source": [
    "def effective_dimension(fubini_matrices):\n",
    "    sTraceFubini = sum_traces(fubini_matrices)\n",
    "    normalisedMatrices = []\n",
    "    for i in range(len(fubini_matrices)):\n",
    "        normalisedMatrices.append(normalisedFisher(i, fubini_matrices))\n",
    "    print(int_traces(normalisedMatrices)/Vtheta)\n",
    "    factor = gamma*N/(2*pi*math.log10(N))\n",
    "    return 2*math.log10(int_effDim(normalisedMatrices)/Vtheta)/math.log10(factor)"
   ]
  },
  {
   "cell_type": "code",
   "execution_count": 94,
   "id": "extensive-soccer",
   "metadata": {},
   "outputs": [
    {
     "name": "stdout",
     "output_type": "stream",
     "text": [
      "40.000000000000036\n"
     ]
    },
    {
     "data": {
      "text/plain": [
       "37.8694072213001"
      ]
     },
     "execution_count": 94,
     "metadata": {},
     "output_type": "execute_result"
    }
   ],
   "source": [
    "effective_dimension(fubini_matrices)"
   ]
  },
  {
   "cell_type": "code",
   "execution_count": 95,
   "id": "vietnamese-postcard",
   "metadata": {},
   "outputs": [],
   "source": [
    "file_name = \"QNN40.pkl\"\n",
    "open_file = open(file_name, \"rb\")\n",
    "loaded_list = pickle.load(open_file)\n",
    "open_file.close()\n",
    "\n",
    "fubini_matricesQNN = loaded_list[1]"
   ]
  },
  {
   "cell_type": "code",
   "execution_count": 96,
   "id": "weird-source",
   "metadata": {},
   "outputs": [
    {
     "name": "stdout",
     "output_type": "stream",
     "text": [
      "39.99999999999999\n"
     ]
    },
    {
     "data": {
      "text/plain": [
       "38.54973247684529"
      ]
     },
     "execution_count": 96,
     "metadata": {},
     "output_type": "execute_result"
    }
   ],
   "source": [
    "effective_dimension(fubini_matricesQNN)"
   ]
  }
 ],
 "metadata": {
  "kernelspec": {
   "display_name": "Python 3",
   "language": "python",
   "name": "python3"
  },
  "language_info": {
   "codemirror_mode": {
    "name": "ipython",
    "version": 3
   },
   "file_extension": ".py",
   "mimetype": "text/x-python",
   "name": "python",
   "nbconvert_exporter": "python",
   "pygments_lexer": "ipython3",
   "version": "3.7.3"
  }
 },
 "nbformat": 4,
 "nbformat_minor": 5
}

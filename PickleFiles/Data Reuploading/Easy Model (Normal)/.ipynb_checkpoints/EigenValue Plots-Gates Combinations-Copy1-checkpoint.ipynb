{
 "cells": [
  {
   "cell_type": "code",
   "execution_count": 32,
   "id": "choice-control",
   "metadata": {},
   "outputs": [],
   "source": [
    "import numpy as np\n",
    "import matplotlib.pyplot as plt\n",
    "from scipy import interpolate\n",
    "import pickle\n",
    "\n",
    "# colors:\n",
    "rooi = np.array([255, 29, 0])/255\n",
    "blou = np.array([0, 150, 236])/255\n",
    "groen = np.array([0,208,0])/255"
   ]
  },
  {
   "cell_type": "code",
   "execution_count": 33,
   "id": "attempted-russia",
   "metadata": {},
   "outputs": [
    {
     "data": {
      "text/plain": [
       "200"
      ]
     },
     "execution_count": 33,
     "metadata": {},
     "output_type": "execute_result"
    }
   ],
   "source": [
    "file_name = \"DataReupload21Normal.pkl\"\n",
    "open_file = open(file_name, \"rb\")\n",
    "loaded_list1 = pickle.load(open_file)\n",
    "open_file.close()\n",
    "\n",
    "eigen_vals1 = loaded_list1[5]\n",
    "len(eigen_vals1)\n",
    "\n",
    "eigen_values1 = []\n",
    "for i in range(len(eigen_vals1)):\n",
    "    for j in range(len(eigen_vals1[0])):\n",
    "        eigen_values1.append(4*eigen_vals1[i][j])\n",
    "        \n",
    "len(eigen_values1)"
   ]
  },
  {
   "cell_type": "code",
   "execution_count": 34,
   "id": "early-switch",
   "metadata": {},
   "outputs": [
    {
     "data": {
      "text/plain": [
       "200"
      ]
     },
     "execution_count": 34,
     "metadata": {},
     "output_type": "execute_result"
    }
   ],
   "source": [
    "file_name = \"DataReupload21Normalwe.pkl\"\n",
    "open_file = open(file_name, \"rb\")\n",
    "loaded_list2 = pickle.load(open_file)\n",
    "open_file.close()\n",
    "\n",
    "eigen_vals2 = loaded_list2[5]\n",
    "len(eigen_vals2)\n",
    "\n",
    "eigen_values1we = []\n",
    "for i in range(len(eigen_vals2)):\n",
    "    for j in range(len(eigen_vals2[0])):\n",
    "        eigen_values1we.append(4*eigen_vals2[i][j])\n",
    "        \n",
    "len(eigen_values1we)"
   ]
  },
  {
   "cell_type": "code",
   "execution_count": 35,
   "id": "regional-minister",
   "metadata": {},
   "outputs": [
    {
     "data": {
      "text/plain": [
       "400"
      ]
     },
     "execution_count": 35,
     "metadata": {},
     "output_type": "execute_result"
    }
   ],
   "source": [
    "file_name = \"DataReupload22Normal.pkl\"\n",
    "open_file = open(file_name, \"rb\")\n",
    "loaded_list3 = pickle.load(open_file)\n",
    "open_file.close()\n",
    "\n",
    "eigen_vals3 = loaded_list3[5]\n",
    "len(eigen_vals3)\n",
    "\n",
    "eigen_values2 = []\n",
    "for i in range(len(eigen_vals3)):\n",
    "    for j in range(len(eigen_vals3[0])):\n",
    "        eigen_values2.append(4*eigen_vals3[i][j])\n",
    "        \n",
    "len(eigen_values2)"
   ]
  },
  {
   "cell_type": "code",
   "execution_count": 36,
   "id": "atmospheric-fusion",
   "metadata": {},
   "outputs": [
    {
     "data": {
      "text/plain": [
       "400"
      ]
     },
     "execution_count": 36,
     "metadata": {},
     "output_type": "execute_result"
    }
   ],
   "source": [
    "file_name = \"DataReupload22Normalwe.pkl\"\n",
    "open_file = open(file_name, \"rb\")\n",
    "loaded_list4 = pickle.load(open_file)\n",
    "open_file.close()\n",
    "\n",
    "eigen_vals4 = loaded_list4[5]\n",
    "len(eigen_vals4)\n",
    "\n",
    "eigen_values2we = []\n",
    "for i in range(len(eigen_vals4)):\n",
    "    for j in range(len(eigen_vals4[0])):\n",
    "        eigen_values2we.append(4*eigen_vals4[i][j])\n",
    "        \n",
    "len(eigen_values2we)"
   ]
  },
  {
   "cell_type": "code",
   "execution_count": 37,
   "id": "sublime-lodging",
   "metadata": {},
   "outputs": [
    {
     "data": {
      "text/plain": [
       "600"
      ]
     },
     "execution_count": 37,
     "metadata": {},
     "output_type": "execute_result"
    }
   ],
   "source": [
    "file_name = \"DataReupload23Normal.pkl\"\n",
    "open_file = open(file_name, \"rb\")\n",
    "loaded_list5 = pickle.load(open_file)\n",
    "open_file.close()\n",
    "\n",
    "eigen_vals5 = loaded_list5[5]\n",
    "len(eigen_vals5)\n",
    "\n",
    "eigen_values23 = []\n",
    "for i in range(len(eigen_vals5)):\n",
    "    for j in range(len(eigen_vals5[0])):\n",
    "        eigen_values23.append(4*eigen_vals5[i][j])\n",
    "        \n",
    "len(eigen_values23)"
   ]
  },
  {
   "cell_type": "code",
   "execution_count": 38,
   "id": "enclosed-activity",
   "metadata": {},
   "outputs": [
    {
     "data": {
      "text/plain": [
       "600"
      ]
     },
     "execution_count": 38,
     "metadata": {},
     "output_type": "execute_result"
    }
   ],
   "source": [
    "file_name = \"DataReupload23Normalwe.pkl\"\n",
    "open_file = open(file_name, \"rb\")\n",
    "loaded_list6 = pickle.load(open_file)\n",
    "open_file.close()\n",
    "\n",
    "eigen_vals6 = loaded_list6[5]\n",
    "len(eigen_vals6)\n",
    "\n",
    "eigen_values3we = []\n",
    "for i in range(len(eigen_vals6)):\n",
    "    for j in range(len(eigen_vals6[0])):\n",
    "        eigen_values3we.append(4*eigen_vals6[i][j])\n",
    "        \n",
    "len(eigen_values3we)"
   ]
  },
  {
   "cell_type": "code",
   "execution_count": 39,
   "id": "perceived-vienna",
   "metadata": {},
   "outputs": [
    {
     "data": {
      "text/plain": [
       "800"
      ]
     },
     "execution_count": 39,
     "metadata": {},
     "output_type": "execute_result"
    }
   ],
   "source": [
    "file_name = \"DataReupload24Normal.pkl\"\n",
    "open_file = open(file_name, \"rb\")\n",
    "loaded_list6 = pickle.load(open_file)\n",
    "open_file.close()\n",
    "\n",
    "eigen_vals6 = loaded_list6[5]\n",
    "len(eigen_vals6)\n",
    "\n",
    "eigen_values24 = []\n",
    "for i in range(len(eigen_vals6)):\n",
    "    for j in range(len(eigen_vals6[0])):\n",
    "        eigen_values24.append(4*eigen_vals6[i][j])\n",
    "        \n",
    "len(eigen_values24)"
   ]
  },
  {
   "cell_type": "code",
   "execution_count": 40,
   "id": "complicated-spell",
   "metadata": {},
   "outputs": [
    {
     "data": {
      "text/plain": [
       "800"
      ]
     },
     "execution_count": 40,
     "metadata": {},
     "output_type": "execute_result"
    }
   ],
   "source": [
    "file_name = \"DataReupload24Normalwe.pkl\"\n",
    "open_file = open(file_name, \"rb\")\n",
    "loaded_list6 = pickle.load(open_file)\n",
    "open_file.close()\n",
    "\n",
    "eigen_vals6 = loaded_list6[5]\n",
    "len(eigen_vals6)\n",
    "\n",
    "eigen_values4we = []\n",
    "for i in range(len(eigen_vals6)):\n",
    "    for j in range(len(eigen_vals6[0])):\n",
    "        eigen_values4we.append(4*eigen_vals6[i][j])\n",
    "        \n",
    "len(eigen_values4we)"
   ]
  },
  {
   "cell_type": "code",
   "execution_count": 41,
   "id": "governing-coordinate",
   "metadata": {},
   "outputs": [
    {
     "data": {
      "text/plain": [
       "1000"
      ]
     },
     "execution_count": 41,
     "metadata": {},
     "output_type": "execute_result"
    }
   ],
   "source": [
    "file_name = \"DataReupload25Normal.pkl\"\n",
    "open_file = open(file_name, \"rb\")\n",
    "loaded_list6 = pickle.load(open_file)\n",
    "open_file.close()\n",
    "\n",
    "eigen_vals6 = loaded_list6[5]\n",
    "len(eigen_vals6)\n",
    "\n",
    "eigen_values25 = []\n",
    "for i in range(len(eigen_vals6)):\n",
    "    for j in range(len(eigen_vals6[0])):\n",
    "        eigen_values25.append(4*eigen_vals6[i][j])\n",
    "        \n",
    "len(eigen_values25)"
   ]
  },
  {
   "cell_type": "code",
   "execution_count": 42,
   "id": "multiple-brooklyn",
   "metadata": {},
   "outputs": [
    {
     "data": {
      "text/plain": [
       "1000"
      ]
     },
     "execution_count": 42,
     "metadata": {},
     "output_type": "execute_result"
    }
   ],
   "source": [
    "file_name = \"DataReupload25Normalwe.pkl\"\n",
    "open_file = open(file_name, \"rb\")\n",
    "loaded_list6 = pickle.load(open_file)\n",
    "open_file.close()\n",
    "\n",
    "eigen_vals6 = loaded_list6[5]\n",
    "len(eigen_vals6)\n",
    "\n",
    "eigen_values25we = []\n",
    "for i in range(len(eigen_vals6)):\n",
    "    for j in range(len(eigen_vals6[0])):\n",
    "        eigen_values25we.append(4*eigen_vals6[i][j])\n",
    "        \n",
    "len(eigen_values25we)"
   ]
  },
  {
   "cell_type": "code",
   "execution_count": 43,
   "id": "flush-intake",
   "metadata": {
    "scrolled": true
   },
   "outputs": [
    {
     "data": {
      "image/png": "[encoded data removed]",
      "text/plain": [
       "<Figure size 432x288 with 1 Axes>"
      ]
     },
     "metadata": {
      "needs_background": "light"
     },
     "output_type": "display_data"
    }
   ],
   "source": [
    "hist1, bins1, ax1 = plt.hist(eigen_values1, bins = 5)\n",
    "freq1 = hist1/np.sum(hist1)\n",
    "\n",
    "hist2, bins2, ax2 = plt.hist(eigen_values1we, bins = 5)\n",
    "freq1we = hist2/np.sum(hist2)\n",
    "\n",
    "hist3, bins3, ax3 = plt.hist(eigen_values2, bins = 5)\n",
    "freq2 = hist3/np.sum(hist3)\n",
    "\n",
    "hist4, bins4, ax4 = plt.hist(eigen_values2we, bins = 5)\n",
    "freq2we = hist4/np.sum(hist4)\n",
    "\n",
    "hist5, bins5, ax5 = plt.hist(eigen_values23, bins = 5)\n",
    "freq3 = hist5/np.sum(hist5)\n",
    "\n",
    "hist6, bins6, ax6 = plt.hist(eigen_values3we, bins = 5)\n",
    "freq3we = hist6/np.sum(hist6)\n",
    "\n",
    "hist7, bins7, ax7 = plt.hist(eigen_values24, bins = 5)\n",
    "freq4 = hist7/np.sum(hist7)\n",
    "\n",
    "hist8, bins8, ax8 = plt.hist(eigen_values4we, bins = 5)\n",
    "freq4we = hist8/np.sum(hist8)\n",
    "\n",
    "hist9, bins9, ax9 = plt.hist(eigen_values25, bins = 5)\n",
    "freq5 = hist9/np.sum(hist9)\n",
    "\n",
    "hist10, bins10, ax10 = plt.hist(eigen_values25we, bins = 5)\n",
    "freq5we = hist10/np.sum(hist10)"
   ]
  },
  {
   "cell_type": "code",
   "execution_count": 54,
   "id": "affected-buffalo",
   "metadata": {},
   "outputs": [
    {
     "data": {
      "text/plain": [
       "Text(0.5, 1.0, '5 Layers - Without CNOT gates')"
      ]
     },
     "execution_count": 54,
     "metadata": {},
     "output_type": "execute_result"
    },
    {
     "data": {
      "image/png": "[encoded data removed]",
      "text/plain": [
       "<Figure size 1152x1080 with 10 Axes>"
      ]
     },
     "metadata": {
      "needs_background": "light"
     },
     "output_type": "display_data"
    }
   ],
   "source": [
    "plt.figure(figsize=(16,15))\n",
    "plt.suptitle(\"Qubits = 2, Easy Model\")\n",
    "\n",
    "plt.subplot(4,3,1)\n",
    "plt.bar(bins1[:-1], freq1, align=\"edge\")  #color=\n",
    "plt.ylim(0,1)\n",
    "plt.title(\"1 Layer\")\n",
    "\n",
    "plt.subplot(4,3,2)\n",
    "plt.bar(bins2[:-1], freq1we, align=\"edge\")\n",
    "plt.ylim(0,1)\n",
    "plt.title(\"1 Layer - Without CNOT gates\")\n",
    "\n",
    "plt.subplot(4,3,3)\n",
    "plt.bar(bins3[:-1], freq2, align=\"edge\")\n",
    "plt.ylim(0,1)\n",
    "plt.title(\"2 Layers\")\n",
    "\n",
    "plt.subplot(4,3,4)\n",
    "plt.bar(bins4[:-1], freq2we, align=\"edge\")\n",
    "plt.ylim(0,1)\n",
    "plt.title(\"2 Layers - Without CNOT gates\")\n",
    "\n",
    "plt.subplot(4,3,5)\n",
    "plt.bar(bins5[:-1], freq3, align=\"edge\")\n",
    "plt.ylim(0,1)\n",
    "plt.title(\"3 Layers\")\n",
    "\n",
    "plt.subplot(4,3,6)\n",
    "plt.bar(bins6[:-1], freq3we, align=\"edge\")\n",
    "plt.ylim(0,1)\n",
    "plt.title(\"3 Layers - Without CNOT gates\")\n",
    "\n",
    "plt.subplot(4,3,7)\n",
    "plt.bar(bins7[:-1], freq4, align=\"edge\")\n",
    "plt.ylim(0,1)\n",
    "plt.title(\"4 Layers\")\n",
    "\n",
    "plt.subplot(4,3,8)\n",
    "plt.bar(bins8[:-1], freq4we, align=\"edge\")\n",
    "plt.ylim(0,1)\n",
    "plt.title(\"4 Layers - Without CNOT gates\")\n",
    "\n",
    "plt.subplot(4,3,9)\n",
    "plt.bar(bins9[:-1], freq5, align=\"edge\")\n",
    "plt.ylim(0,1)\n",
    "plt.title(\"5 Layers\")\n",
    "\n",
    "plt.subplot(4,3,10)\n",
    "plt.bar(bins9[:-1], freq5we, align=\"edge\")\n",
    "plt.ylim(0,1)\n",
    "plt.title(\"5 Layers - Without CNOT gates\")"
   ]
  },
  {
   "cell_type": "code",
   "execution_count": null,
   "id": "exterior-animation",
   "metadata": {},
   "outputs": [],
   "source": []
  }
 ],
 "metadata": {
  "kernelspec": {
   "display_name": "Python 3",
   "language": "python",
   "name": "python3"
  },
  "language_info": {
   "codemirror_mode": {
    "name": "ipython",
    "version": 3
   },
   "file_extension": ".py",
   "mimetype": "text/x-python",
   "name": "python",
   "nbconvert_exporter": "python",
   "pygments_lexer": "ipython3",
   "version": "3.7.3"
  }
 },
 "nbformat": 4,
 "nbformat_minor": 5
}

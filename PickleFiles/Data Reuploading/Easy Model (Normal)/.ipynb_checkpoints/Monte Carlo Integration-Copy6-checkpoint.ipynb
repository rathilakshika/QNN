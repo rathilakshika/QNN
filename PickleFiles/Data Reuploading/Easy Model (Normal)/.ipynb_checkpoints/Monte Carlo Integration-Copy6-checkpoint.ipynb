{
 "cells": [
  {
   "cell_type": "code",
   "execution_count": 1,
   "id": "acquired-shift",
   "metadata": {},
   "outputs": [],
   "source": [
    "from math import pi\n",
    "import numpy as np\n",
    "import math\n",
    "import random"
   ]
  },
  {
   "cell_type": "code",
   "execution_count": 2,
   "id": "young-exemption",
   "metadata": {},
   "outputs": [],
   "source": [
    "l_limit = -1          #Limits of the integration over theta space\n",
    "u_limit = 1              #no of parameters in the circuit"
   ]
  },
  {
   "cell_type": "markdown",
   "id": "alleged-sphere",
   "metadata": {},
   "source": [
    "<img src=\"Images/Vtheta.png\">"
   ]
  },
  {
   "cell_type": "code",
   "execution_count": 3,
   "id": "amber-river",
   "metadata": {},
   "outputs": [],
   "source": [
    "def Vtheta(d):\n",
    "    return (u_limit - l_limit)**d      #Volume integral over the theta space (as the formula above)"
   ]
  },
  {
   "cell_type": "markdown",
   "id": "opened-blind",
   "metadata": {},
   "source": [
    "<img src=\"Images/sum_traces.png\">"
   ]
  },
  {
   "cell_type": "code",
   "execution_count": 4,
   "id": "grave-graham",
   "metadata": {},
   "outputs": [],
   "source": [
    "def sum_traces(fubini_matrices):     #Calculates the sum of traces of all the Fubini Matrices, to be used in integration       \n",
    "    sTrace = 0\n",
    "    for i in range(len(fubini_matrices)):\n",
    "        sTrace += np.trace(fubini_matrices[i])\n",
    "    return sTrace\n",
    "\n",
    "def int_traces(fubini_matrices, num_matrices):   #Computed the integral of tr(F(theta)) over theta space\n",
    "    return sum_traces(fubini_matrices)/num_matrices"
   ]
  },
  {
   "cell_type": "markdown",
   "id": "honey-curve",
   "metadata": {},
   "source": [
    "<img src=\"Images/normalisedFisher.png\">"
   ]
  },
  {
   "cell_type": "code",
   "execution_count": 5,
   "id": "supreme-reducing",
   "metadata": {},
   "outputs": [],
   "source": [
    "def normalisedFisher(ind, fubini_matrices, num_matrices,d):  #Computes the normalised Fisher Matrix for a single Fubini Matrix at index ind in the list\n",
    "    return d*(fubini_matrices[ind])/(int_traces(fubini_matrices, num_matrices))"
   ]
  },
  {
   "cell_type": "markdown",
   "id": "protected-transition",
   "metadata": {},
   "source": [
    "<img src=\"Images/func_eff.png\">"
   ]
  },
  {
   "cell_type": "code",
   "execution_count": 6,
   "id": "celtic-cincinnati",
   "metadata": {},
   "outputs": [],
   "source": [
    "def func_effDim(matrix, n, gamma, d):  #Computes the function inside the integral (square root term in numerator) for effective dimension calculation\n",
    "    factor = gamma*n/(2*pi*math.log10(n))\n",
    "    determinant_value = np.identity(d) + factor*matrix\n",
    "    return (np.linalg.det(determinant_value))**0.5"
   ]
  },
  {
   "cell_type": "markdown",
   "id": "surrounded-attention",
   "metadata": {},
   "source": [
    "<img src=\"Images/int_eff.png\">"
   ]
  },
  {
   "cell_type": "code",
   "execution_count": 7,
   "id": "compound-courtesy",
   "metadata": {},
   "outputs": [],
   "source": [
    "def int_effDim(normalisedMatrices, n, num_matrices,d,gamma): #Computes the integral present in numerator of effective dimension formula\n",
    "    sum_dets = 0\n",
    "    for i in range(len(normalisedMatrices)):\n",
    "        sum_dets += func_effDim(normalisedMatrices[i], n, gamma,d)\n",
    "    return sum_dets/num_matrices"
   ]
  },
  {
   "cell_type": "markdown",
   "id": "irish-coverage",
   "metadata": {},
   "source": [
    "<img src=\"Images/eff_dim.png\">"
   ]
  },
  {
   "cell_type": "code",
   "execution_count": 8,
   "id": "distinguished-campbell",
   "metadata": {},
   "outputs": [],
   "source": [
    "def eff_dim(fubini_matrices, n, gamma, num_matrices,d):  #Computes the effective dimension according to the equation-2 (given above)\n",
    "    normalisedMatrices = []\n",
    "    for i in range(len(fubini_matrices)):\n",
    "        normalisedMatrices.append(normalisedFisher(i, fubini_matrices, num_matrices,d))\n",
    "    factor = gamma*n/(2*pi*math.log10(n))\n",
    "    return 2*math.log10(int_effDim(normalisedMatrices, n, num_matrices,d,gamma))/math.log10(factor)"
   ]
  },
  {
   "cell_type": "code",
   "execution_count": 9,
   "id": "frank-gazette",
   "metadata": {},
   "outputs": [
    {
     "data": {
      "text/plain": [
       "100"
      ]
     },
     "execution_count": 9,
     "metadata": {},
     "output_type": "execute_result"
    }
   ],
   "source": [
    "import pickle    #importing the fisher matrices stored in the pickle file\n",
    "file_name = \"DataReupload21HardNormal.pkl\"\n",
    "open_file = open(file_name, \"rb\")\n",
    "loaded_list1 = pickle.load(open_file)\n",
    "open_file.close()\n",
    "\n",
    "fubini_matrices1 = loaded_list1[3]\n",
    "len(fubini_matrices1)"
   ]
  },
  {
   "cell_type": "code",
   "execution_count": 10,
   "id": "tested-monroe",
   "metadata": {},
   "outputs": [
    {
     "data": {
      "text/plain": [
       "100"
      ]
     },
     "execution_count": 10,
     "metadata": {},
     "output_type": "execute_result"
    }
   ],
   "source": [
    "import pickle    #importing the fisher matrices stored in the pickle file\n",
    "file_name = \"DataReupload21HardNormalwe.pkl\"\n",
    "open_file = open(file_name, \"rb\")\n",
    "loaded_list2 = pickle.load(open_file)\n",
    "open_file.close()\n",
    "\n",
    "fubini_matrices1we = loaded_list2[3]\n",
    "len(fubini_matrices1we)"
   ]
  },
  {
   "cell_type": "code",
   "execution_count": 11,
   "id": "lasting-residence",
   "metadata": {},
   "outputs": [
    {
     "data": {
      "text/plain": [
       "100"
      ]
     },
     "execution_count": 11,
     "metadata": {},
     "output_type": "execute_result"
    }
   ],
   "source": [
    "import pickle    #importing the fisher matrices stored in the pickle file\n",
    "file_name = \"DataReupload22HardNormal.pkl\"\n",
    "open_file = open(file_name, \"rb\")\n",
    "loaded_list3 = pickle.load(open_file)\n",
    "open_file.close()\n",
    "\n",
    "fubini_matrices2 = loaded_list3[3]\n",
    "len(fubini_matrices2)"
   ]
  },
  {
   "cell_type": "code",
   "execution_count": 12,
   "id": "handled-grain",
   "metadata": {},
   "outputs": [
    {
     "data": {
      "text/plain": [
       "100"
      ]
     },
     "execution_count": 12,
     "metadata": {},
     "output_type": "execute_result"
    }
   ],
   "source": [
    "import pickle    #importing the fisher matrices stored in the pickle file\n",
    "file_name = \"DataReupload22HardNormalwe.pkl\"\n",
    "open_file = open(file_name, \"rb\")\n",
    "loaded_list4 = pickle.load(open_file)\n",
    "open_file.close()\n",
    "\n",
    "fubini_matrices2we = loaded_list4[3]\n",
    "len(fubini_matrices2we)"
   ]
  },
  {
   "cell_type": "code",
   "execution_count": 13,
   "id": "centered-louis",
   "metadata": {},
   "outputs": [
    {
     "data": {
      "text/plain": [
       "100"
      ]
     },
     "execution_count": 13,
     "metadata": {},
     "output_type": "execute_result"
    }
   ],
   "source": [
    "import pickle    #importing the fisher matrices stored in the pickle file\n",
    "file_name = \"DataReupload23HardNormal.pkl\"\n",
    "open_file = open(file_name, \"rb\")\n",
    "loaded_list5 = pickle.load(open_file)\n",
    "open_file.close()\n",
    "\n",
    "fubini_matrices3 = loaded_list5[3]\n",
    "len(fubini_matrices3)"
   ]
  },
  {
   "cell_type": "code",
   "execution_count": 14,
   "id": "authorized-airline",
   "metadata": {},
   "outputs": [
    {
     "data": {
      "text/plain": [
       "100"
      ]
     },
     "execution_count": 14,
     "metadata": {},
     "output_type": "execute_result"
    }
   ],
   "source": [
    "import pickle    #importing the fisher matrices stored in the pickle file\n",
    "file_name = \"DataReupload23HardNormalwe.pkl\"\n",
    "open_file = open(file_name, \"rb\")\n",
    "loaded_list5 = pickle.load(open_file)\n",
    "open_file.close()\n",
    "\n",
    "fubini_matrices3we = loaded_list5[3]\n",
    "len(fubini_matrices3we)"
   ]
  },
  {
   "cell_type": "code",
   "execution_count": 15,
   "id": "governing-sherman",
   "metadata": {},
   "outputs": [
    {
     "data": {
      "text/plain": [
       "100"
      ]
     },
     "execution_count": 15,
     "metadata": {},
     "output_type": "execute_result"
    }
   ],
   "source": [
    "import pickle    #importing the fisher matrices stored in the pickle file\n",
    "file_name = \"DataReupload24HardNormal.pkl\"\n",
    "open_file = open(file_name, \"rb\")\n",
    "loaded_list7 = pickle.load(open_file)\n",
    "open_file.close()\n",
    "\n",
    "fubini_matrices4 = loaded_list7[3]\n",
    "len(fubini_matrices4)"
   ]
  },
  {
   "cell_type": "code",
   "execution_count": 17,
   "id": "comparable-praise",
   "metadata": {},
   "outputs": [
    {
     "data": {
      "text/plain": [
       "100"
      ]
     },
     "execution_count": 17,
     "metadata": {},
     "output_type": "execute_result"
    }
   ],
   "source": [
    "import pickle    #importing the fisher matrices stored in the pickle file\n",
    "file_name = \"DataReupload24HardNormalwe.pkl\"\n",
    "open_file = open(file_name, \"rb\")\n",
    "loaded_list7 = pickle.load(open_file)\n",
    "open_file.close()\n",
    "\n",
    "fubini_matrices4we = loaded_list7[3]\n",
    "len(fubini_matrices4we)"
   ]
  },
  {
   "cell_type": "code",
   "execution_count": 18,
   "id": "supported-protein",
   "metadata": {},
   "outputs": [
    {
     "data": {
      "text/plain": [
       "100"
      ]
     },
     "execution_count": 18,
     "metadata": {},
     "output_type": "execute_result"
    }
   ],
   "source": [
    "import pickle    #importing the fisher matrices stored in the pickle file\n",
    "file_name = \"DataReupload25HardNormal.pkl\"\n",
    "open_file = open(file_name, \"rb\")\n",
    "loaded_list7 = pickle.load(open_file)\n",
    "open_file.close()\n",
    "\n",
    "fubini_matrices5 = loaded_list7[3]\n",
    "len(fubini_matrices5)"
   ]
  },
  {
   "cell_type": "code",
   "execution_count": 19,
   "id": "decreased-active",
   "metadata": {},
   "outputs": [
    {
     "data": {
      "text/plain": [
       "10"
      ]
     },
     "execution_count": 19,
     "metadata": {},
     "output_type": "execute_result"
    }
   ],
   "source": [
    "import pickle    #importing the fisher matrices stored in the pickle file\n",
    "file_name = \"DataReupload25HardNormalwe.pkl\"\n",
    "open_file = open(file_name, \"rb\")\n",
    "loaded_list7 = pickle.load(open_file)\n",
    "open_file.close()\n",
    "\n",
    "fubini_matrices5we = loaded_list7[3]\n",
    "len(fubini_matrices5we[0])"
   ]
  },
  {
   "cell_type": "code",
   "execution_count": 23,
   "id": "crude-consolidation",
   "metadata": {},
   "outputs": [
    {
     "data": {
      "text/plain": [
       "(16.0, 104.0, 0.91, 1.002)"
      ]
     },
     "execution_count": 23,
     "metadata": {},
     "output_type": "execute_result"
    },
    {
     "data": {
      "image/png": "[encoded data removed]",
      "text/plain": [
       "<Figure size 1440x1152 with 1 Axes>"
      ]
     },
     "metadata": {
      "needs_background": "light"
     },
     "output_type": "display_data"
    }
   ],
   "source": [
    "import matplotlib.pyplot as plt\n",
    "plt.figure(figsize=[20, 16])\n",
    "\n",
    "eff_dims1 = []\n",
    "eff_dims1we = []\n",
    "eff_dims2 = []\n",
    "eff_dims2we = []\n",
    "eff_dims3 = []\n",
    "eff_dims3we = []\n",
    "eff_dims4 = []\n",
    "eff_dims4we = []\n",
    "eff_dims5 = []\n",
    "eff_dims5we = []\n",
    "\n",
    "for j in range(20, 101, 20):   #no of datapoints\n",
    "    eff_dims1.append(eff_dim(fubini_matrices1[:j], 10**6, 1, j, 2) / 2)\n",
    "    eff_dims1we.append(eff_dim(fubini_matrices1we[:j], 10**6, 1, j, 2) / 2)\n",
    "    \n",
    "    eff_dims2.append(eff_dim(fubini_matrices2[:j], 10**6, 1, j, 4) / 4)\n",
    "    eff_dims2we.append(eff_dim(fubini_matrices2we[:j], 10**6, 1, j, 4) / 4)\n",
    "    \n",
    "    eff_dims3.append(eff_dim(fubini_matrices3[:j], 10**6, 1, j, 6) / 6)\n",
    "    eff_dims3we.append(eff_dim(fubini_matrices3we[:j], 10**6, 1, j, 6) / 6)\n",
    "    \n",
    "    eff_dims4.append(eff_dim(fubini_matrices4[:j], 10**6, 1, j, 8) / 8)\n",
    "    eff_dims4we.append(eff_dim(fubini_matrices4we[:j], 10**6, 1, j, 8) / 8)\n",
    "    \n",
    "    eff_dims5.append(eff_dim(fubini_matrices5[:j], 10**6, 1, j, 10) / 10)\n",
    "    eff_dims5we.append(eff_dim(fubini_matrices5we[:j], 10**6, 1, j, 10) / 10)\n",
    "    \n",
    "plt.plot([20,40,60,80,100], eff_dims1)\n",
    "plt.plot([20,40,60,80,100], eff_dims1we)\n",
    "\n",
    "plt.plot([20,40,60,80,100], eff_dims2)\n",
    "plt.plot([20,40,60,80,100], eff_dims2we)\n",
    "\n",
    "plt.plot([20,40,60,80,100], eff_dims3)\n",
    "plt.plot([20,40,60,80,100], eff_dims3we)\n",
    "\n",
    "plt.plot([20,40,60,80,100], eff_dims4)\n",
    "plt.plot([20,40,60,80,100], eff_dims4we)\n",
    "\n",
    "plt.plot([20,40,60,80,100], eff_dims5)\n",
    "plt.plot([20,40,60,80,100], eff_dims5we)\n",
    "\n",
    "plt.xlabel('Data Points')\n",
    "plt.ylabel('Effective Dimension')\n",
    "\n",
    "plt.title(\"Number of Qubits = 2, Hard Model\")\n",
    "legendList = ['{}'.format(i) for i in [\"1 Layer\",\"1 Layer - Without CNOT gates\",\"2 Layers\",\"2 Layers - Without CNOT gates\",\"3 Layers\",\"3 Layers - Without CNOT gates\",\"4 Layers\",\"4 Layers - Without CNOT gates\",\"5 Layers\",\"5 Layers - Without CNOT gates\"]]\n",
    "plt.legend(legendList)\n",
    "x1,x2,y1,y2 = plt.axis()  \n",
    "plt.axis((x1,x2,0.91,1.002))"
   ]
  }
 ],
 "metadata": {
  "kernelspec": {
   "display_name": "Python 3",
   "language": "python",
   "name": "python3"
  },
  "language_info": {
   "codemirror_mode": {
    "name": "ipython",
    "version": 3
   },
   "file_extension": ".py",
   "mimetype": "text/x-python",
   "name": "python",
   "nbconvert_exporter": "python",
   "pygments_lexer": "ipython3",
   "version": "3.7.3"
  }
 },
 "nbformat": 4,
 "nbformat_minor": 5
}

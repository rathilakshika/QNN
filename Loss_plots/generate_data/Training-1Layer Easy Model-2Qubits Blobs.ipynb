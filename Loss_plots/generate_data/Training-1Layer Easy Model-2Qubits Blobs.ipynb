{
 "cells": [
  {
   "cell_type": "code",
   "execution_count": 25,
   "id": "instrumental-barrel",
   "metadata": {},
   "outputs": [],
   "source": [
    "from adam import ADAM\n",
    "from qiskit import QuantumCircuit\n",
    "from qiskit.circuit.library import RealAmplitudes, ZFeatureMap\n",
    "import numpy as np\n",
    "from qiskit.quantum_info import Statevector\n",
    "from math import log\n",
    "\n",
    "import matplotlib.pyplot as plt\n",
    "from sklearn.datasets import make_blobs\n",
    "from sklearn.model_selection import train_test_split"
   ]
  },
  {
   "cell_type": "code",
   "execution_count": 26,
   "id": "adequate-chase",
   "metadata": {},
   "outputs": [],
   "source": [
    "X, y = make_blobs(n_samples=1000, centers=2, n_features=4, random_state=0)"
   ]
  },
  {
   "cell_type": "code",
   "execution_count": 27,
   "id": "lesser-drinking",
   "metadata": {},
   "outputs": [
    {
     "name": "stdout",
     "output_type": "stream",
     "text": [
      "(800, 4) (200, 4) (800,) (200,)\n"
     ]
    }
   ],
   "source": [
    "X_train, X_test, y_train, y_test = train_test_split(X, y, test_size=0.2)\n",
    "print(X_train.shape, X_test.shape, y_train.shape, y_test.shape)"
   ]
  },
  {
   "cell_type": "code",
   "execution_count": 28,
   "id": "removable-maple",
   "metadata": {},
   "outputs": [],
   "source": [
    "x1_train = [X_train[i] for i in range(len(X_train)) if y[i] == 0]\n",
    "x2_train = [X_train[i] for i in range(len(X_train)) if y[i] == 1]\n",
    "\n",
    "x1_train = np.array(x1_train)\n",
    "x2_train = np.array(x2_train)"
   ]
  },
  {
   "cell_type": "code",
   "execution_count": 29,
   "id": "polar-decimal",
   "metadata": {},
   "outputs": [],
   "source": [
    "x1_test = [X_test[i] for i in range(len(X_test)) if y[i] == 0]\n",
    "x2_test = [X_test[i] for i in range(len(X_test)) if y[i] == 1]\n",
    "\n",
    "x1_test = np.array(x1_test)\n",
    "x2_test = np.array(x2_test)"
   ]
  },
  {
   "cell_type": "code",
   "execution_count": 31,
   "id": "complex-edmonton",
   "metadata": {},
   "outputs": [],
   "source": [
    "# size of training data set\n",
    "training_size = 800\n",
    "test_size = 200\n",
    "# dimension of data sets\n",
    "n = 2\n",
    "training_input = {'A':x1_train, 'B':x2_train}\n",
    "test_input = {'A':x1_test, 'B':x2_test}\n",
    "class_labels = ['A', 'B']\n",
    "sv = Statevector.from_label('0' * n)"
   ]
  },
  {
   "cell_type": "code",
   "execution_count": 32,
   "id": "raised-temperature",
   "metadata": {},
   "outputs": [],
   "source": [
    "def final_circuit(circuit, data, params):\n",
    "    for i in range(n):\n",
    "        circuit.h(i)\n",
    "        circuit.rz(data[i],i)\n",
    "        circuit.ry(data[i+2],i)\n",
    "        circuit.ry(params[i], i)\n",
    "    circuit.cx(0,1)"
   ]
  },
  {
   "cell_type": "code",
   "execution_count": 33,
   "id": "regional-estonia",
   "metadata": {},
   "outputs": [
    {
     "data": {
      "image/png": "[encoded data removed]",
      "text/plain": [
       "<Figure size 387.452x144.48 with 1 Axes>"
      ]
     },
     "execution_count": 33,
     "metadata": {},
     "output_type": "execute_result"
    }
   ],
   "source": [
    "cir = QuantumCircuit(2)\n",
    "final_circuit(cir, x1_train[0],[1,1])\n",
    "cir.draw('mpl')"
   ]
  },
  {
   "cell_type": "code",
   "execution_count": 46,
   "id": "seven-sudan",
   "metadata": {
    "scrolled": true
   },
   "outputs": [
    {
     "name": "stdout",
     "output_type": "stream",
     "text": [
      "[0.09762701 0.43037873]\n",
      "[0.9153482717635123, 0.9114919109089012, 0.9063439137502036, 0.9015099599995993, 0.8976945067396922, 0.8963706236123555, 0.8959806551352786, 0.8932298229885894, 0.8920372504051164, 0.8945106746131084, 0.8967264003523884, 0.8969540137094418, 0.8958115353183449, 0.8937443783406485, 0.8922281151823044, 0.8919800543438111, 0.8927887449399958, 0.8937815342700287, 0.8942276578604432, 0.8939903934608661, 0.8932425486260885, 0.8924054507779177, 0.8919427408313066, 0.8920433482280389, 0.8925108603971439, 0.8929289413035142, 0.8929867399103943, 0.8926770965016699, 0.8922386207160818, 0.8919512171239623, 0.8919517215172139, 0.8921645649966189, 0.892387308044587, 0.8924506142360221, 0.8923225628142126, 0.8921039123927436, 0.8919426090149233, 0.8919286657509784, 0.8920363378428986, 0.892154994746431, 0.8921835578672987, 0.8921057817157825, 0.8919889118676515, 0.8919195423432889, 0.8919346385065567, 0.8920008324688249, 0.8920517093006103, 0.8920445115295447, 0.8919893183085871, 0.8919328295069403, 0.8919161868683976, 0.8919424311841317, 0.8919787727792907, 0.891989313266263, 0.8919661853523764, 0.8919320104189126, 0.8919155928998019, 0.8919257190400687, 0.8919466241022724, 0.891955899946058, 0.8919453849564302, 0.8919261815783567, 0.8919156823728926, 0.8919207072521539, 0.8919326172279791, 0.8919377990883587, 0.8919313423632778, 0.8919204415119552, 0.8919155058614396, 0.8919194555825678, 0.8919260870440893, 0.8919276889854553, 0.8919228679503827, 0.891917010057695, 0.8919157337522424, 0.8919190835031969, 0.8919223480328042, 0.8919217142984336, 0.8919181543771397, 0.891915625193711, 0.8919163677588642, 0.8919187466824942, 0.8919196359778574, 0.8919180749629504, 0.891916004008347, 0.8919156174076374, 0.8919168683067359, 0.8919178879670876, 0.8919173989448024, 0.891916090708732, 0.8919155074368414, 0.891916090488446, 0.8919168451871893, 0.8919167483887582, 0.8919159856350888, 0.8919155102894749, 0.8919157790034455, 0.8919162694687937, 0.8919162848845634, 0.8919158241662957]\n",
      "[ 0.74267698 -0.34709651]\n",
      "[-0.16595599  0.44064899]\n",
      "[0.9155671238538754, 0.9123061937431056, 0.9071372419157555, 0.9023487015800442, 0.8983110899403697, 0.8965497065884541, 0.8959592548280425, 0.8944391795196622, 0.8919371181325607, 0.8934408587563487, 0.8963859964832348, 0.897338794557473, 0.89741894920299, 0.8974107313198845, 0.8972327689707822, 0.8959514989281893, 0.8937488081434158, 0.8902808316144605, 0.8873662645139807, 0.8844073890269128, 0.8822555448182932, 0.8839625406497896, 0.8867422105713968, 0.8833165675955259, 0.877174831025069, 0.8739567951088598, 0.8716987071579017, 0.8702990186341415, 0.8686445625360656, 0.8674716306301633, 0.8674652878807676, 0.868379352386747, 0.8697696235872577, 0.8710630962268724, 0.8718565237762738, 0.8720069645319903, 0.8715513186283124, 0.8706402486708573, 0.8695137512899529, 0.8684573786544884, 0.8677070691450104, 0.8673623705570066, 0.867392771373, 0.8676984813340208, 0.8681255194961132, 0.8685039925082281, 0.8687265836882382, 0.8687626987766751, 0.8686229625138492, 0.868343109990392, 0.8679909763782393, 0.8676596874779255, 0.8674297193893911, 0.867336450785832, 0.8673698804112123, 0.8674891494249731, 0.8676365493963903, 0.8677540689739367, 0.86780150931386, 0.8677678597078065, 0.8676709026863968, 0.8675462693706733, 0.8674325808650161, 0.8673580167273998, 0.8673339585247587, 0.8673549002553607, 0.8674028174032314, 0.8674541935914634, 0.8674882412308155, 0.8674934244363631, 0.8674702537581773, 0.8674289295810624, 0.8673844083223199, 0.8673504124793996, 0.8673347985625354, 0.8673380219010789, 0.8673541611214353, 0.8673739416715361, 0.8673883563842982, 0.867391902588706, 0.8673841012993553, 0.8673687705049667, 0.867351939244763, 0.8673392929904833, 0.8673340607117735, 0.8673362354411887, 0.8673430906212706, 0.867350629882898, 0.8673553050971292, 0.8673553222949281, 0.8673510092867805, 0.8673444560232864, 0.867338297761518, 0.8673346099291149, 0.8673341422447861, 0.8673362400124718, 0.867339345485176, 0.8673417733942246, 0.8673424137761621, 0.8673411314793554]\n",
      "[-0.88389755 -1.26705213]\n",
      "[-0.1280102  -0.94814754]\n",
      "[0.8718768029587883, 0.8696000439257981, 0.8674771158338749, 0.8678251571371957, 0.8694010823374037, 0.8701781822962141, 0.8697655779785727, 0.8687441795944895, 0.8677982634821052, 0.8673541272339397, 0.8674625961894562, 0.8679102781145025, 0.8683343313502385, 0.8684842217409401, 0.8683278595509398, 0.8679659987528743, 0.8675851017846636, 0.8673617984799159, 0.8673590940713551, 0.8675225245701259, 0.867723583181394, 0.8678302029140245, 0.8677851398988987, 0.8676280808418197, 0.8674536562262257, 0.8673478820131928, 0.8673453545067524, 0.8674219337011544, 0.8675144960708601, 0.8675601429855127, 0.8675334920014225, 0.867456161400427, 0.8673763377145093, 0.8673357458164778, 0.8673468822355995, 0.8673904522525656, 0.8674308419495543, 0.8674398125037386, 0.8674135663413702, 0.8673715665115911, 0.8673403323115592, 0.867335411223578, 0.8673532937560764, 0.8673763305938509, 0.8673863212553147, 0.867376812719741, 0.867355893907647, 0.8673383478525214, 0.8673343962473092, 0.8673432633692758, 0.8673553888954388, 0.8673604408542575, 0.8673549130222501, 0.8673437535102865, 0.8673353136561495, 0.8673347070975801, 0.8673403797449253, 0.8673463156572503, 0.8673472755081865, 0.8673428051546529, 0.8673368703650195, 0.8673339853831936, 0.867335529643046, 0.8673391012059111, 0.8673410940481494, 0.8673398146066076, 0.8673365813778249, 0.8673342208782664, 0.8673343268158878, 0.8673361732799286, 0.8673376672344617, 0.8673373943495606, 0.8673357137521431, 0.8673342193915292, 0.8673340787354129, 0.867335062988925, 0.8673359799482916, 0.8673358843103968, 0.8673349452633008, 0.867334092515544, 0.8673340426841254, 0.8673346244226559, 0.8673350941791459, 0.8673349694984753, 0.867334413491269, 0.8673339910234596, 0.8673340505221576, 0.8673344042907146, 0.8673345979948108, 0.8673344321586411, 0.8673341022838363, 0.8673339546691241, 0.8673340868646237, 0.8673342851878836, 0.8673343035782579, 0.8673341388990674, 0.8673339766482784, 0.8673339789133679, 0.8673341063120613, 0.8673341787315048]\n",
      "[-1.35425937 -1.26174921]\n",
      "[0.10159581 0.41629565]\n",
      "[0.9150538852393898, 0.9103221651210159, 0.9051775884653481, 0.9003798968649629, 0.8970882945736429, 0.8961282726344818, 0.8955404319036318, 0.8920997734463505, 0.8932813688005524, 0.8965364036549994, 0.897368315727103, 0.8974203835197777, 0.8973983408403519, 0.897015837433086, 0.8951611006269943, 0.8923061424289915, 0.8887541829465616, 0.8858801337525216, 0.8828330330296181, 0.8828033040108418, 0.8863182219844599, 0.8852719906301987, 0.8783892321501616, 0.8745429328848805, 0.8721133167345103, 0.8705665481622232, 0.8689745128659332, 0.8675938522998414, 0.8673932301960835, 0.8681916164870649, 0.8695716840015654, 0.8709461753690632, 0.871859917407923, 0.8721297006171385, 0.8717689029370443, 0.8709110696777143, 0.8697828160809449, 0.868670487726671, 0.8678321358928051, 0.8673993784135595, 0.8673616790024752, 0.8676286038494472, 0.8680537413052967, 0.8684604096863976, 0.8687232168751301, 0.8687993731368508, 0.8686939679590143, 0.8684366121820473, 0.8680871648232414, 0.8677364956201061, 0.8674734573029553, 0.8673459028067549, 0.8673531533454957, 0.8674595507602385, 0.8676088546625617, 0.8677402631280315, 0.8678070928147129, 0.8677909980112953, 0.8677039440477669, 0.8675796135952153, 0.8674580172711699, 0.8673712454614134, 0.8673350308310289, 0.8673473401090638, 0.8673921125420564, 0.8674458889035415, 0.8674861225951521, 0.8674984761165851, 0.8674806098206618, 0.867441195323046, 0.8673950398848643, 0.8673569471755926, 0.8673365529612432, 0.8673359925367196, 0.8673504149988936, 0.867370699745071, 0.8673872719899945, 0.8673935179820105, 0.8673877809794704, 0.8673731975958112, 0.8673557313566788, 0.8673415056367716, 0.8673344855100155, 0.8673353419719995, 0.8673417367949051, 0.8673496611125371, 0.8673552145809815, 0.8673561493251789, 0.8673524352651499, 0.86734595023445, 0.8673393742890464, 0.8673350373174816, 0.8673340123099592, 0.8673358442071248, 0.8673390205460914, 0.8673417611843213, 0.8673427698193861, 0.8673417339300328, 0.8673392603921047, 0.8673364947122775]\n",
      "[ 0.0578148  -1.26444315]\n",
      "[0.93405968 0.0944645 ]\n",
      "[0.8987055281240843, 0.8965745862685632, 0.8959594044107354, 0.8946440055998356, 0.8919480567891738, 0.8934439408400862, 0.8951926567745225, 0.8946012623199838, 0.893017711978003, 0.8919938361557394, 0.8921405856723358, 0.8929577619443475, 0.8934935690286817, 0.893340395614575, 0.8927081824431418, 0.8920973750763603, 0.8919241200245499, 0.8922157829729666, 0.8926113883670718, 0.892724927265618, 0.8924850089112651, 0.8921223976676549, 0.8919220175992868, 0.89199231215594, 0.8922051354563653, 0.8923409678451668, 0.8922857358470848, 0.892100873489699, 0.8919437729440205, 0.8919281901077087, 0.8920328731404991, 0.8921341636915947, 0.892131054307976, 0.8920340654262832, 0.891937355726932, 0.8919202444615292, 0.8919770599660367, 0.8920355960521621, 0.8920348312892314, 0.8919796286538058, 0.8919257237682481, 0.8919198430982823, 0.8919555220258136, 0.8919860906131681, 0.891977657776797, 0.8919417977323074, 0.8919167742560136, 0.8919235891723677, 0.8919469429865934, 0.8919569446398209, 0.8919430520688827, 0.8919220243348006, 0.8919159943014867, 0.8919273814899258, 0.8919389411824941, 0.8919361296481051, 0.8919232372544534, 0.8919155771966968, 0.8919199435056306, 0.8919281366194296, 0.8919289029592626, 0.8919217643212346, 0.891915842227471, 0.8919173895955315, 0.8919225912890337, 0.8919237831996253, 0.8919196119282904, 0.8919157664955342, 0.8919166261804964, 0.8919198709945029, 0.8919205365741605, 0.891917840142993, 0.8919155914053353, 0.8919163936204666, 0.8919183915237706, 0.8919184231946129, 0.8919165721434332, 0.8919155055380683, 0.8919163840896411, 0.8919174830659468, 0.8919170677011752, 0.8919158457361692, 0.8919155800947876, 0.8919163710826419, 0.8919167726412612, 0.8919161664434708, 0.891915537725083, 0.8919157293158712, 0.891916239474453, 0.8919161744754662, 0.8919156804213161, 0.8919155232798793, 0.8919158423462654, 0.891916034812245, 0.8919157818248878, 0.891915514890991, 0.8919156168881723, 0.8919158274588105, 0.8919157548242851, 0.8919155452469054]\n",
      "[ 1.3872849  -0.34584521]\n"
     ]
    }
   ],
   "source": [
    "def assign_label(bit_string, class_labels):\n",
    "    hamming_weight = sum([int(k) for k in list(bit_string)])\n",
    "    is_odd_parity = hamming_weight & 1\n",
    "    if is_odd_parity:\n",
    "        return class_labels[1]\n",
    "    else:\n",
    "        return class_labels[0]\n",
    "\n",
    "def return_probabilities(counts, class_labels):\n",
    "    shots = sum(counts.values())\n",
    "    result = {class_labels[0]: 0,\n",
    "              class_labels[1]: 0}\n",
    "    for key, item in counts.items():\n",
    "        label = assign_label(key, class_labels)\n",
    "        result[label] += counts[key]/shots\n",
    "    return result\n",
    "\n",
    "def classify(x_list, params, class_labels):\n",
    "    qc_list = []\n",
    "    for x in x_list:\n",
    "        circuit = QuantumCircuit(n)\n",
    "        circ_ = final_circuit(circuit, x, params)\n",
    "        qc = sv.evolve(circuit)\n",
    "        qc_list += [qc]\n",
    "    probs = []\n",
    "    for qc in qc_list:\n",
    "        counts = qc.probabilities_dict()\n",
    "        prob = return_probabilities(counts, class_labels)\n",
    "        probs += [prob]\n",
    "    return probs\n",
    "\n",
    "\n",
    "def CrossEntropy(yHat, y):\n",
    "    if y == 'A':\n",
    "      return -log(yHat['A'])\n",
    "    else:\n",
    "      return -log(1-yHat['A'])\n",
    "\n",
    "\n",
    "def cost_function(training_input, class_labels, params, shots=100, print_value=False):\n",
    "    # map training input to list of labels and list of samples\n",
    "    cost = 0\n",
    "    training_labels = []\n",
    "    training_samples = []\n",
    "    for label, samples in training_input.items():\n",
    "        for sample in samples:\n",
    "            training_labels += [label]\n",
    "            training_samples += [sample]\n",
    "\n",
    "    # classify all samples\n",
    "    probs = classify(training_samples, params, class_labels)\n",
    "\n",
    "    # evaluate costs for all classified samples\n",
    "    for i, prob in enumerate(probs):\n",
    "        cost += CrossEntropy(yHat=prob, y=training_labels[i])\n",
    "    cost /= len(training_samples)\n",
    "\n",
    "    # return objective value\n",
    "    #print(cost)\n",
    "    return cost\n",
    "\n",
    "\n",
    "# setup the optimizer\n",
    "optimizer = ADAM(maxiter=100, lr=0.1)\n",
    "\n",
    "# define objective function for training\n",
    "objective_function = lambda params: cost_function(training_input, class_labels, params, print_value=True)\n",
    "\n",
    "d = 2  # num of trainable params\n",
    "for i in range(5):\n",
    "    np.random.seed(i)\n",
    "    init_params = np.random.uniform(-1,1,d)\n",
    "    print(init_params)\n",
    "    # train classifier\n",
    "    opt_params, value, _, loss = optimizer.optimize(len(init_params), objective_function, initial_point=init_params)\n",
    "    print(loss)\n",
    "    print(opt_params)\n",
    "    # print results\n",
    "    f1 = 'Data/1Layer/Layer1Easy/quantum_loss_easy_layer1blobs1000_%d.npy' %i\n",
    "    f2 = 'Data/1Layer/Layer1Easy/opt_params_easy_layer1blobs1000_%d.npy'%i\n",
    "    np.save(f2, opt_params)\n",
    "    np.save(f1, loss)"
   ]
  },
  {
   "cell_type": "code",
   "execution_count": 35,
   "id": "expected-westminster",
   "metadata": {},
   "outputs": [],
   "source": [
    "opt_params = np.load('Data/1Layer/Layer1Easy/opt_params_easy_layer1blobs1000_0.npy')"
   ]
  },
  {
   "cell_type": "code",
   "execution_count": 36,
   "id": "august-venue",
   "metadata": {},
   "outputs": [],
   "source": [
    "cost = cost_function(test_input, class_labels, opt_params)"
   ]
  },
  {
   "cell_type": "code",
   "execution_count": 37,
   "id": "direct-advertising",
   "metadata": {},
   "outputs": [
    {
     "data": {
      "text/plain": [
       "0.9436361359077696"
      ]
     },
     "execution_count": 37,
     "metadata": {},
     "output_type": "execute_result"
    }
   ],
   "source": [
    "cost"
   ]
  },
  {
   "cell_type": "code",
   "execution_count": 39,
   "id": "crucial-haven",
   "metadata": {},
   "outputs": [],
   "source": [
    "loss = np.load('Data/1Layer/Layer1Easy/quantum_loss_easy_layer1blobs1000_0.npy')"
   ]
  },
  {
   "cell_type": "code",
   "execution_count": 45,
   "id": "little-currency",
   "metadata": {
    "scrolled": true
   },
   "outputs": [
    {
     "ename": "ValueError",
     "evalue": "x and y must have same first dimension, but have shapes (1000,) and (100,)",
     "output_type": "error",
     "traceback": [
      "\u001b[0;31m---------------------------------------------------------------------------\u001b[0m",
      "\u001b[0;31mValueError\u001b[0m                                Traceback (most recent call last)",
      "\u001b[0;32m<ipython-input-45-76fbff572aad>\u001b[0m in \u001b[0;36m<module>\u001b[0;34m\u001b[0m\n\u001b[1;32m      5\u001b[0m \u001b[0msd\u001b[0m \u001b[0;34m=\u001b[0m \u001b[0mnp\u001b[0m\u001b[0;34m.\u001b[0m\u001b[0mstd\u001b[0m\u001b[0;34m(\u001b[0m\u001b[0mloss\u001b[0m\u001b[0;34m,\u001b[0m \u001b[0maxis\u001b[0m\u001b[0;34m=\u001b[0m\u001b[0;36m0\u001b[0m\u001b[0;34m)\u001b[0m\u001b[0;34m\u001b[0m\u001b[0;34m\u001b[0m\u001b[0m\n\u001b[1;32m      6\u001b[0m \u001b[0mav\u001b[0m \u001b[0;34m=\u001b[0m \u001b[0mnp\u001b[0m\u001b[0;34m.\u001b[0m\u001b[0maverage\u001b[0m\u001b[0;34m(\u001b[0m\u001b[0mloss\u001b[0m\u001b[0;34m,\u001b[0m \u001b[0maxis\u001b[0m\u001b[0;34m=\u001b[0m\u001b[0;36m0\u001b[0m\u001b[0;34m)\u001b[0m\u001b[0;34m\u001b[0m\u001b[0;34m\u001b[0m\u001b[0m\n\u001b[0;32m----> 7\u001b[0;31m \u001b[0mplt\u001b[0m\u001b[0;34m.\u001b[0m\u001b[0mplot\u001b[0m\u001b[0;34m(\u001b[0m\u001b[0mrange\u001b[0m\u001b[0;34m(\u001b[0m\u001b[0;36m1000\u001b[0m\u001b[0;34m)\u001b[0m\u001b[0;34m,\u001b[0m \u001b[0mloss\u001b[0m\u001b[0;34m)\u001b[0m\u001b[0;34m\u001b[0m\u001b[0;34m\u001b[0m\u001b[0m\n\u001b[0m\u001b[1;32m      8\u001b[0m \u001b[0mplt\u001b[0m\u001b[0;34m.\u001b[0m\u001b[0mfill_between\u001b[0m\u001b[0;34m(\u001b[0m\u001b[0mrange\u001b[0m\u001b[0;34m(\u001b[0m\u001b[0;36m100\u001b[0m\u001b[0;34m)\u001b[0m\u001b[0;34m,\u001b[0m \u001b[0mav\u001b[0m\u001b[0;34m+\u001b[0m\u001b[0mnp\u001b[0m\u001b[0;34m.\u001b[0m\u001b[0marray\u001b[0m\u001b[0;34m(\u001b[0m\u001b[0msd\u001b[0m\u001b[0;34m)\u001b[0m\u001b[0;34m,\u001b[0m \u001b[0mav\u001b[0m\u001b[0;34m-\u001b[0m\u001b[0mnp\u001b[0m\u001b[0;34m.\u001b[0m\u001b[0marray\u001b[0m\u001b[0;34m(\u001b[0m\u001b[0msd\u001b[0m\u001b[0;34m)\u001b[0m\u001b[0;34m,\u001b[0m \u001b[0malpha\u001b[0m\u001b[0;34m=\u001b[0m\u001b[0;36m0.1\u001b[0m\u001b[0;34m)\u001b[0m\u001b[0;34m\u001b[0m\u001b[0;34m\u001b[0m\u001b[0m\n\u001b[1;32m      9\u001b[0m \u001b[0mstddevs\u001b[0m\u001b[0;34m.\u001b[0m\u001b[0mappend\u001b[0m\u001b[0;34m(\u001b[0m\u001b[0msd\u001b[0m\u001b[0;34m)\u001b[0m\u001b[0;34m\u001b[0m\u001b[0;34m\u001b[0m\u001b[0m\n",
      "\u001b[0;32m~/.local/lib/python3.7/site-packages/matplotlib/pyplot.py\u001b[0m in \u001b[0;36mplot\u001b[0;34m(scalex, scaley, data, *args, **kwargs)\u001b[0m\n\u001b[1;32m   2761\u001b[0m     return gca().plot(\n\u001b[1;32m   2762\u001b[0m         *args, scalex=scalex, scaley=scaley, **({\"data\": data} if data\n\u001b[0;32m-> 2763\u001b[0;31m         is not None else {}), **kwargs)\n\u001b[0m\u001b[1;32m   2764\u001b[0m \u001b[0;34m\u001b[0m\u001b[0m\n\u001b[1;32m   2765\u001b[0m \u001b[0;34m\u001b[0m\u001b[0m\n",
      "\u001b[0;32m~/.local/lib/python3.7/site-packages/matplotlib/axes/_axes.py\u001b[0m in \u001b[0;36mplot\u001b[0;34m(self, scalex, scaley, data, *args, **kwargs)\u001b[0m\n\u001b[1;32m   1644\u001b[0m         \"\"\"\n\u001b[1;32m   1645\u001b[0m         \u001b[0mkwargs\u001b[0m \u001b[0;34m=\u001b[0m \u001b[0mcbook\u001b[0m\u001b[0;34m.\u001b[0m\u001b[0mnormalize_kwargs\u001b[0m\u001b[0;34m(\u001b[0m\u001b[0mkwargs\u001b[0m\u001b[0;34m,\u001b[0m \u001b[0mmlines\u001b[0m\u001b[0;34m.\u001b[0m\u001b[0mLine2D\u001b[0m\u001b[0;34m)\u001b[0m\u001b[0;34m\u001b[0m\u001b[0;34m\u001b[0m\u001b[0m\n\u001b[0;32m-> 1646\u001b[0;31m         \u001b[0mlines\u001b[0m \u001b[0;34m=\u001b[0m \u001b[0;34m[\u001b[0m\u001b[0;34m*\u001b[0m\u001b[0mself\u001b[0m\u001b[0;34m.\u001b[0m\u001b[0m_get_lines\u001b[0m\u001b[0;34m(\u001b[0m\u001b[0;34m*\u001b[0m\u001b[0margs\u001b[0m\u001b[0;34m,\u001b[0m \u001b[0mdata\u001b[0m\u001b[0;34m=\u001b[0m\u001b[0mdata\u001b[0m\u001b[0;34m,\u001b[0m \u001b[0;34m**\u001b[0m\u001b[0mkwargs\u001b[0m\u001b[0;34m)\u001b[0m\u001b[0;34m]\u001b[0m\u001b[0;34m\u001b[0m\u001b[0;34m\u001b[0m\u001b[0m\n\u001b[0m\u001b[1;32m   1647\u001b[0m         \u001b[0;32mfor\u001b[0m \u001b[0mline\u001b[0m \u001b[0;32min\u001b[0m \u001b[0mlines\u001b[0m\u001b[0;34m:\u001b[0m\u001b[0;34m\u001b[0m\u001b[0;34m\u001b[0m\u001b[0m\n\u001b[1;32m   1648\u001b[0m             \u001b[0mself\u001b[0m\u001b[0;34m.\u001b[0m\u001b[0madd_line\u001b[0m\u001b[0;34m(\u001b[0m\u001b[0mline\u001b[0m\u001b[0;34m)\u001b[0m\u001b[0;34m\u001b[0m\u001b[0;34m\u001b[0m\u001b[0m\n",
      "\u001b[0;32m~/.local/lib/python3.7/site-packages/matplotlib/axes/_base.py\u001b[0m in \u001b[0;36m__call__\u001b[0;34m(self, *args, **kwargs)\u001b[0m\n\u001b[1;32m    214\u001b[0m                 \u001b[0mthis\u001b[0m \u001b[0;34m+=\u001b[0m \u001b[0margs\u001b[0m\u001b[0;34m[\u001b[0m\u001b[0;36m0\u001b[0m\u001b[0;34m]\u001b[0m\u001b[0;34m,\u001b[0m\u001b[0;34m\u001b[0m\u001b[0;34m\u001b[0m\u001b[0m\n\u001b[1;32m    215\u001b[0m                 \u001b[0margs\u001b[0m \u001b[0;34m=\u001b[0m \u001b[0margs\u001b[0m\u001b[0;34m[\u001b[0m\u001b[0;36m1\u001b[0m\u001b[0;34m:\u001b[0m\u001b[0;34m]\u001b[0m\u001b[0;34m\u001b[0m\u001b[0;34m\u001b[0m\u001b[0m\n\u001b[0;32m--> 216\u001b[0;31m             \u001b[0;32myield\u001b[0m \u001b[0;32mfrom\u001b[0m \u001b[0mself\u001b[0m\u001b[0;34m.\u001b[0m\u001b[0m_plot_args\u001b[0m\u001b[0;34m(\u001b[0m\u001b[0mthis\u001b[0m\u001b[0;34m,\u001b[0m \u001b[0mkwargs\u001b[0m\u001b[0;34m)\u001b[0m\u001b[0;34m\u001b[0m\u001b[0;34m\u001b[0m\u001b[0m\n\u001b[0m\u001b[1;32m    217\u001b[0m \u001b[0;34m\u001b[0m\u001b[0m\n\u001b[1;32m    218\u001b[0m     \u001b[0;32mdef\u001b[0m \u001b[0mget_next_color\u001b[0m\u001b[0;34m(\u001b[0m\u001b[0mself\u001b[0m\u001b[0;34m)\u001b[0m\u001b[0;34m:\u001b[0m\u001b[0;34m\u001b[0m\u001b[0;34m\u001b[0m\u001b[0m\n",
      "\u001b[0;32m~/.local/lib/python3.7/site-packages/matplotlib/axes/_base.py\u001b[0m in \u001b[0;36m_plot_args\u001b[0;34m(self, tup, kwargs)\u001b[0m\n\u001b[1;32m    340\u001b[0m \u001b[0;34m\u001b[0m\u001b[0m\n\u001b[1;32m    341\u001b[0m         \u001b[0;32mif\u001b[0m \u001b[0mx\u001b[0m\u001b[0;34m.\u001b[0m\u001b[0mshape\u001b[0m\u001b[0;34m[\u001b[0m\u001b[0;36m0\u001b[0m\u001b[0;34m]\u001b[0m \u001b[0;34m!=\u001b[0m \u001b[0my\u001b[0m\u001b[0;34m.\u001b[0m\u001b[0mshape\u001b[0m\u001b[0;34m[\u001b[0m\u001b[0;36m0\u001b[0m\u001b[0;34m]\u001b[0m\u001b[0;34m:\u001b[0m\u001b[0;34m\u001b[0m\u001b[0;34m\u001b[0m\u001b[0m\n\u001b[0;32m--> 342\u001b[0;31m             raise ValueError(f\"x and y must have same first dimension, but \"\n\u001b[0m\u001b[1;32m    343\u001b[0m                              f\"have shapes {x.shape} and {y.shape}\")\n\u001b[1;32m    344\u001b[0m         \u001b[0;32mif\u001b[0m \u001b[0mx\u001b[0m\u001b[0;34m.\u001b[0m\u001b[0mndim\u001b[0m \u001b[0;34m>\u001b[0m \u001b[0;36m2\u001b[0m \u001b[0;32mor\u001b[0m \u001b[0my\u001b[0m\u001b[0;34m.\u001b[0m\u001b[0mndim\u001b[0m \u001b[0;34m>\u001b[0m \u001b[0;36m2\u001b[0m\u001b[0;34m:\u001b[0m\u001b[0;34m\u001b[0m\u001b[0;34m\u001b[0m\u001b[0m\n",
      "\u001b[0;31mValueError\u001b[0m: x and y must have same first dimension, but have shapes (1000,) and (100,)"
     ]
    },
    {
     "data": {
      "image/png": "[encoded data removed]",
      "text/plain": [
       "<Figure size 432x288 with 1 Axes>"
      ]
     },
     "metadata": {
      "needs_background": "light"
     },
     "output_type": "display_data"
    }
   ],
   "source": [
    "import matplotlib.pyplot as plt\n",
    "groen = np.array([0,208,0])/255\n",
    "stddevs =[]\n",
    "averages =[]\n",
    "sd = np.std(loss, axis=0)\n",
    "av = np.average(loss, axis=0)\n",
    "plt.plot(range(1000), loss)\n",
    "plt.fill_between(range(100), av+np.array(sd), av-np.array(sd), alpha=0.1)\n",
    "stddevs.append(sd)\n",
    "averages.append(av)\n",
    "\n",
    "plt.xlabel(\"Number of Iterations\")\n",
    "plt.ylabel(\"Loss\")\n",
    "plt.title(\"Training - 1 Layer (Data Reuploading, Qubits = 2, Easy Model, Blobs)\")"
   ]
  },
  {
   "cell_type": "code",
   "execution_count": 42,
   "id": "subject-medicare",
   "metadata": {},
   "outputs": [],
   "source": [
    "sd = np.std(loss, axis=0)"
   ]
  },
  {
   "cell_type": "code",
   "execution_count": 43,
   "id": "binary-hierarchy",
   "metadata": {},
   "outputs": [
    {
     "data": {
      "text/plain": [
       "0.0035480867438742545"
      ]
     },
     "execution_count": 43,
     "metadata": {},
     "output_type": "execute_result"
    }
   ],
   "source": [
    "sd"
   ]
  },
  {
   "cell_type": "code",
   "execution_count": null,
   "id": "creative-shift",
   "metadata": {},
   "outputs": [],
   "source": []
  }
 ],
 "metadata": {
  "kernelspec": {
   "display_name": "Python 3",
   "language": "python",
   "name": "python3"
  },
  "language_info": {
   "codemirror_mode": {
    "name": "ipython",
    "version": 3
   },
   "file_extension": ".py",
   "mimetype": "text/x-python",
   "name": "python",
   "nbconvert_exporter": "python",
   "pygments_lexer": "ipython3",
   "version": "3.7.3"
  }
 },
 "nbformat": 4,
 "nbformat_minor": 5
}

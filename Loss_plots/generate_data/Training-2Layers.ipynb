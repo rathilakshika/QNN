{
 "cells": [
  {
   "cell_type": "code",
   "execution_count": 17,
   "id": "instrumental-barrel",
   "metadata": {},
   "outputs": [],
   "source": [
    "from adam import ADAM\n",
    "from qiskit import QuantumCircuit\n",
    "from qiskit.circuit.library import RealAmplitudes, ZFeatureMap\n",
    "import numpy as np\n",
    "from qiskit.quantum_info import Statevector\n",
    "from math import log"
   ]
  },
  {
   "cell_type": "code",
   "execution_count": 18,
   "id": "complex-edmonton",
   "metadata": {},
   "outputs": [],
   "source": [
    "# size of training data set\n",
    "training_size = 100\n",
    "# dimension of data sets\n",
    "n = 2\n",
    "from sklearn import datasets\n",
    "from sklearn import preprocessing\n",
    "iris = datasets.load_iris()\n",
    "# load iris and normalise\n",
    "x = preprocessing.normalize(iris.data)\n",
    "x1_train = x[0:49, :] # class A\n",
    "x2_train = x[50:99, :] # class B\n",
    "training_input = {'A':x1_train, 'B':x2_train}\n",
    "class_labels = ['A', 'B']"
   ]
  },
  {
   "cell_type": "code",
   "execution_count": 19,
   "id": "equal-acoustic",
   "metadata": {},
   "outputs": [],
   "source": [
    "sv = Statevector.from_label('0' * n)"
   ]
  },
  {
   "cell_type": "code",
   "execution_count": 20,
   "id": "raised-temperature",
   "metadata": {},
   "outputs": [],
   "source": [
    "def final_circuit(circuit, data, params):\n",
    "    for i in range(n):\n",
    "        circuit.h(i)\n",
    "        circuit.rz(data[i],i)\n",
    "        circuit.ry(data[i+2],i)\n",
    "        circuit.ry(params[i], i)\n",
    "    circuit.cx(0,1)\n",
    "    for i in range(n):\n",
    "        circuit.rz(data[i],i)\n",
    "        circuit.ry(data[i+2],i)\n",
    "        circuit.ry(params[i+2], i)"
   ]
  },
  {
   "cell_type": "code",
   "execution_count": 21,
   "id": "seven-sudan",
   "metadata": {
    "scrolled": true
   },
   "outputs": [
    {
     "ename": "TypeError",
     "evalue": "'module' object is not callable",
     "output_type": "error",
     "traceback": [
      "\u001b[0;31m---------------------------------------------------------------------------\u001b[0m",
      "\u001b[0;31mTypeError\u001b[0m                                 Traceback (most recent call last)",
      "\u001b[0;32m<ipython-input-21-2dfd299b723b>\u001b[0m in \u001b[0;36m<module>\u001b[0;34m\u001b[0m\n\u001b[1;32m     64\u001b[0m \u001b[0;34m\u001b[0m\u001b[0m\n\u001b[1;32m     65\u001b[0m \u001b[0;31m# setup the optimizer\u001b[0m\u001b[0;34m\u001b[0m\u001b[0;34m\u001b[0m\u001b[0;34m\u001b[0m\u001b[0m\n\u001b[0;32m---> 66\u001b[0;31m \u001b[0moptimizer\u001b[0m \u001b[0;34m=\u001b[0m \u001b[0mADAM\u001b[0m\u001b[0;34m(\u001b[0m\u001b[0mmaxiter\u001b[0m\u001b[0;34m=\u001b[0m\u001b[0;36m100\u001b[0m\u001b[0;34m,\u001b[0m \u001b[0mlr\u001b[0m\u001b[0;34m=\u001b[0m\u001b[0;36m0.1\u001b[0m\u001b[0;34m)\u001b[0m\u001b[0;34m\u001b[0m\u001b[0;34m\u001b[0m\u001b[0m\n\u001b[0m\u001b[1;32m     67\u001b[0m \u001b[0;34m\u001b[0m\u001b[0m\n\u001b[1;32m     68\u001b[0m \u001b[0;31m# define objective function for training\u001b[0m\u001b[0;34m\u001b[0m\u001b[0;34m\u001b[0m\u001b[0;34m\u001b[0m\u001b[0m\n",
      "\u001b[0;31mTypeError\u001b[0m: 'module' object is not callable"
     ]
    }
   ],
   "source": [
    "def assign_label(bit_string, class_labels):\n",
    "    hamming_weight = sum([int(k) for k in list(bit_string)])\n",
    "    is_odd_parity = hamming_weight & 1\n",
    "    if is_odd_parity:\n",
    "        return class_labels[1]\n",
    "    else:\n",
    "        return class_labels[0]\n",
    "\n",
    "def return_probabilities(counts, class_labels):\n",
    "    shots = sum(counts.values())\n",
    "    result = {class_labels[0]: 0,\n",
    "              class_labels[1]: 0}\n",
    "    for key, item in counts.items():\n",
    "        label = assign_label(key, class_labels)\n",
    "        result[label] += counts[key]/shots\n",
    "    return result\n",
    "\n",
    "def classify(x_list, params, class_labels):\n",
    "    qc_list = []\n",
    "    for x in x_list:\n",
    "        circuit = QuantumCircuit(n)\n",
    "        circ_ = final_circuit(circuit, x, params)\n",
    "        #circ_ = circuit.assign_parameters(get_data_dict(params, x))\n",
    "        qc = sv.evolve(circuit)\n",
    "        qc_list += [qc]\n",
    "    probs = []\n",
    "    for qc in qc_list:\n",
    "        counts = qc.probabilities_dict()\n",
    "        prob = return_probabilities(counts, class_labels)\n",
    "        probs += [prob]\n",
    "    return probs\n",
    "\n",
    "\n",
    "def CrossEntropy(yHat, y):\n",
    "    if y == 'A':\n",
    "      return -log(yHat['A'])\n",
    "    else:\n",
    "      return -log(1-yHat['A'])\n",
    "\n",
    "\n",
    "def cost_function(training_input, class_labels, params, shots=100, print_value=False):\n",
    "    # map training input to list of labels and list of samples\n",
    "    cost = 0\n",
    "    training_labels = []\n",
    "    training_samples = []\n",
    "    for label, samples in training_input.items():\n",
    "        for sample in samples:\n",
    "            training_labels += [label]\n",
    "            training_samples += [sample]\n",
    "\n",
    "    # classify all samples\n",
    "    probs = classify(training_samples, params, class_labels)\n",
    "\n",
    "    # evaluate costs for all classified samples\n",
    "    for i, prob in enumerate(probs):\n",
    "        # cost += cost_estimate_sigmoid(prob, training_labels[i])\n",
    "        cost += CrossEntropy(yHat=prob, y=training_labels[i])\n",
    "    cost /= len(training_samples)\n",
    "\n",
    "    # return objective value\n",
    "    #print(cost)\n",
    "    return cost\n",
    "\n",
    "\n",
    "# setup the optimizer\n",
    "optimizer = ADAM(maxiter=100, lr=0.1)\n",
    "\n",
    "# define objective function for training\n",
    "objective_function = lambda params: cost_function(training_input, class_labels, params, print_value=True)\n",
    "\n",
    "d = 8  # num of trainable params\n",
    "for i in range(100):\n",
    "    np.random.seed(i)\n",
    "    # randomly initialize the parameters\n",
    "    init_params = np.random.uniform(-1,1,4)\n",
    "    print(init_params)\n",
    "    # train classifier\n",
    "    init_params = np.random.uniform(-1,1,4)\n",
    "    opt_params, value, _, loss = optimizer.optimize(len(init_params), objective_function, initial_point=init_params)\n",
    "    print(loss)\n",
    "    print(opt_params)\n",
    "    # print results\n",
    "    f1 = 'quantum_loss_easy_layer2h_%d.npy' %i\n",
    "    f2 = 'opt_params_easy_layer2h_%d.npy'%i\n",
    "    np.save(f2, opt_params)\n",
    "    np.save(f1, loss)"
   ]
  },
  {
   "cell_type": "code",
   "execution_count": 22,
   "id": "million-compact",
   "metadata": {},
   "outputs": [
    {
     "ename": "FileNotFoundError",
     "evalue": "[Errno 2] No such file or directory: 'quantum_loss_easy_layer2h_1.npy'",
     "output_type": "error",
     "traceback": [
      "\u001b[0;31m---------------------------------------------------------------------------\u001b[0m",
      "\u001b[0;31mFileNotFoundError\u001b[0m                         Traceback (most recent call last)",
      "\u001b[0;32m<ipython-input-22-6a56bd47706c>\u001b[0m in \u001b[0;36m<module>\u001b[0;34m\u001b[0m\n\u001b[0;32m----> 1\u001b[0;31m \u001b[0mloss_eqnn_d1\u001b[0m \u001b[0;34m=\u001b[0m \u001b[0mnp\u001b[0m\u001b[0;34m.\u001b[0m\u001b[0mload\u001b[0m\u001b[0;34m(\u001b[0m\u001b[0;34m'quantum_loss_easy_layer2h_1.npy'\u001b[0m\u001b[0;34m)\u001b[0m\u001b[0;34m\u001b[0m\u001b[0;34m\u001b[0m\u001b[0m\n\u001b[0m",
      "\u001b[0;32m/usr/local/lib/python3.7/dist-packages/numpy/lib/npyio.py\u001b[0m in \u001b[0;36mload\u001b[0;34m(file, mmap_mode, allow_pickle, fix_imports, encoding)\u001b[0m\n\u001b[1;32m    426\u001b[0m         \u001b[0mown_fid\u001b[0m \u001b[0;34m=\u001b[0m \u001b[0;32mFalse\u001b[0m\u001b[0;34m\u001b[0m\u001b[0;34m\u001b[0m\u001b[0m\n\u001b[1;32m    427\u001b[0m     \u001b[0;32melse\u001b[0m\u001b[0;34m:\u001b[0m\u001b[0;34m\u001b[0m\u001b[0;34m\u001b[0m\u001b[0m\n\u001b[0;32m--> 428\u001b[0;31m         \u001b[0mfid\u001b[0m \u001b[0;34m=\u001b[0m \u001b[0mopen\u001b[0m\u001b[0;34m(\u001b[0m\u001b[0mos_fspath\u001b[0m\u001b[0;34m(\u001b[0m\u001b[0mfile\u001b[0m\u001b[0;34m)\u001b[0m\u001b[0;34m,\u001b[0m \u001b[0;34m\"rb\"\u001b[0m\u001b[0;34m)\u001b[0m\u001b[0;34m\u001b[0m\u001b[0;34m\u001b[0m\u001b[0m\n\u001b[0m\u001b[1;32m    429\u001b[0m         \u001b[0mown_fid\u001b[0m \u001b[0;34m=\u001b[0m \u001b[0;32mTrue\u001b[0m\u001b[0;34m\u001b[0m\u001b[0;34m\u001b[0m\u001b[0m\n\u001b[1;32m    430\u001b[0m \u001b[0;34m\u001b[0m\u001b[0m\n",
      "\u001b[0;31mFileNotFoundError\u001b[0m: [Errno 2] No such file or directory: 'quantum_loss_easy_layer2h_1.npy'"
     ]
    }
   ],
   "source": [
    "loss_eqnn_d1 = np.load('quantum_loss_easy_layer2h_1.npy')"
   ]
  },
  {
   "cell_type": "code",
   "execution_count": 15,
   "id": "biblical-windsor",
   "metadata": {},
   "outputs": [
    {
     "ename": "NameError",
     "evalue": "name 'loss_eqnn_d1' is not defined",
     "output_type": "error",
     "traceback": [
      "\u001b[0;31m---------------------------------------------------------------------------\u001b[0m",
      "\u001b[0;31mNameError\u001b[0m                                 Traceback (most recent call last)",
      "\u001b[0;32m<ipython-input-15-b32821fc3501>\u001b[0m in \u001b[0;36m<module>\u001b[0;34m\u001b[0m\n\u001b[0;32m----> 1\u001b[0;31m \u001b[0mloss_eqnn_d1\u001b[0m\u001b[0;34m.\u001b[0m\u001b[0mshape\u001b[0m\u001b[0;34m\u001b[0m\u001b[0;34m\u001b[0m\u001b[0m\n\u001b[0m",
      "\u001b[0;31mNameError\u001b[0m: name 'loss_eqnn_d1' is not defined"
     ]
    }
   ],
   "source": [
    "loss_eqnn_d1.shape"
   ]
  },
  {
   "cell_type": "code",
   "execution_count": 16,
   "id": "accurate-jacob",
   "metadata": {},
   "outputs": [
    {
     "ename": "FileNotFoundError",
     "evalue": "[Errno 2] No such file or directory: 'quantum_loss_easy_layer2h_0.npy'",
     "output_type": "error",
     "traceback": [
      "\u001b[0;31m---------------------------------------------------------------------------\u001b[0m",
      "\u001b[0;31mFileNotFoundError\u001b[0m                         Traceback (most recent call last)",
      "\u001b[0;32m<ipython-input-16-54c1cad204d5>\u001b[0m in \u001b[0;36m<module>\u001b[0;34m\u001b[0m\n\u001b[1;32m      2\u001b[0m \u001b[0;32mfor\u001b[0m \u001b[0mi\u001b[0m \u001b[0;32min\u001b[0m \u001b[0mrange\u001b[0m\u001b[0;34m(\u001b[0m\u001b[0;36m100\u001b[0m\u001b[0;34m)\u001b[0m\u001b[0;34m:\u001b[0m\u001b[0;34m\u001b[0m\u001b[0;34m\u001b[0m\u001b[0m\n\u001b[1;32m      3\u001b[0m     \u001b[0mfile\u001b[0m \u001b[0;34m=\u001b[0m \u001b[0;34m'quantum_loss_easy_layer2h_%d.npy'\u001b[0m\u001b[0;34m%\u001b[0m\u001b[0mi\u001b[0m\u001b[0;34m\u001b[0m\u001b[0;34m\u001b[0m\u001b[0m\n\u001b[0;32m----> 4\u001b[0;31m     \u001b[0mloss\u001b[0m\u001b[0;34m[\u001b[0m\u001b[0mi\u001b[0m\u001b[0;34m]\u001b[0m \u001b[0;34m+=\u001b[0m \u001b[0mnp\u001b[0m\u001b[0;34m.\u001b[0m\u001b[0mload\u001b[0m\u001b[0;34m(\u001b[0m\u001b[0mfile\u001b[0m\u001b[0;34m,\u001b[0m \u001b[0mallow_pickle\u001b[0m\u001b[0;34m=\u001b[0m\u001b[0;32mTrue\u001b[0m\u001b[0;34m)\u001b[0m\u001b[0;34m\u001b[0m\u001b[0;34m\u001b[0m\u001b[0m\n\u001b[0m",
      "\u001b[0;32m/usr/local/lib/python3.7/dist-packages/numpy/lib/npyio.py\u001b[0m in \u001b[0;36mload\u001b[0;34m(file, mmap_mode, allow_pickle, fix_imports, encoding)\u001b[0m\n\u001b[1;32m    426\u001b[0m         \u001b[0mown_fid\u001b[0m \u001b[0;34m=\u001b[0m \u001b[0;32mFalse\u001b[0m\u001b[0;34m\u001b[0m\u001b[0;34m\u001b[0m\u001b[0m\n\u001b[1;32m    427\u001b[0m     \u001b[0;32melse\u001b[0m\u001b[0;34m:\u001b[0m\u001b[0;34m\u001b[0m\u001b[0;34m\u001b[0m\u001b[0m\n\u001b[0;32m--> 428\u001b[0;31m         \u001b[0mfid\u001b[0m \u001b[0;34m=\u001b[0m \u001b[0mopen\u001b[0m\u001b[0;34m(\u001b[0m\u001b[0mos_fspath\u001b[0m\u001b[0;34m(\u001b[0m\u001b[0mfile\u001b[0m\u001b[0;34m)\u001b[0m\u001b[0;34m,\u001b[0m \u001b[0;34m\"rb\"\u001b[0m\u001b[0;34m)\u001b[0m\u001b[0;34m\u001b[0m\u001b[0;34m\u001b[0m\u001b[0m\n\u001b[0m\u001b[1;32m    429\u001b[0m         \u001b[0mown_fid\u001b[0m \u001b[0;34m=\u001b[0m \u001b[0;32mTrue\u001b[0m\u001b[0;34m\u001b[0m\u001b[0;34m\u001b[0m\u001b[0m\n\u001b[1;32m    430\u001b[0m \u001b[0;34m\u001b[0m\u001b[0m\n",
      "\u001b[0;31mFileNotFoundError\u001b[0m: [Errno 2] No such file or directory: 'quantum_loss_easy_layer2h_0.npy'"
     ]
    }
   ],
   "source": [
    "loss = np.zeros((100,100))\n",
    "for i in range(100):\n",
    "    file = 'quantum_loss_easy_layer2h_%d.npy'%i\n",
    "    loss[i] += np.load(file, allow_pickle=True)"
   ]
  },
  {
   "cell_type": "code",
   "execution_count": 18,
   "id": "dietary-forest",
   "metadata": {},
   "outputs": [
    {
     "data": {
      "text/plain": [
       "(100, 100)"
      ]
     },
     "execution_count": 18,
     "metadata": {},
     "output_type": "execute_result"
    }
   ],
   "source": [
    "loss.shape"
   ]
  },
  {
   "cell_type": "code",
   "execution_count": 20,
   "id": "corresponding-negotiation",
   "metadata": {},
   "outputs": [
    {
     "data": {
      "text/plain": [
       "Text(0.5, 1.0, 'Training 2 Layers (Data Reuploading, Qubits = 2, Easy Model)')"
      ]
     },
     "execution_count": 20,
     "metadata": {},
     "output_type": "execute_result"
    },
    {
     "data": {
      "image/png": "[encoded data removed]",
      "text/plain": [
       "<Figure size 432x288 with 1 Axes>"
      ]
     },
     "metadata": {
      "needs_background": "light"
     },
     "output_type": "display_data"
    }
   ],
   "source": [
    "import matplotlib.pyplot as plt\n",
    "groen = np.array([0,208,0])/255\n",
    "stddevs =[]\n",
    "averages =[]\n",
    "sd = np.std(loss, axis=0)\n",
    "av = np.average(loss, axis=0)\n",
    "plt.plot(range(100), av)\n",
    "plt.fill_between(range(100), av+np.array(sd), av-np.array(sd), alpha=0.1)\n",
    "stddevs.append(sd)\n",
    "averages.append(av)\n",
    "\n",
    "\n",
    "plt.xlabel(\"Number of Iterations\")\n",
    "plt.ylabel(\"Loss\")\n",
    "plt.title(\"Training 2 Layers (Data Reuploading, Qubits = 2, Easy Model)\")"
   ]
  },
  {
   "cell_type": "code",
   "execution_count": null,
   "id": "handed-proportion",
   "metadata": {},
   "outputs": [],
   "source": []
  }
 ],
 "metadata": {
  "kernelspec": {
   "display_name": "Python 3",
   "language": "python",
   "name": "python3"
  },
  "language_info": {
   "codemirror_mode": {
    "name": "ipython",
    "version": 3
   },
   "file_extension": ".py",
   "mimetype": "text/x-python",
   "name": "python",
   "nbconvert_exporter": "python",
   "pygments_lexer": "ipython3",
   "version": "3.7.3"
  }
 },
 "nbformat": 4,
 "nbformat_minor": 5
}

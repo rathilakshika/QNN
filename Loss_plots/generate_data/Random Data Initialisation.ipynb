{
 "cells": [
  {
   "cell_type": "code",
   "execution_count": 84,
   "id": "beautiful-mounting",
   "metadata": {},
   "outputs": [],
   "source": [
    "import numpy as np\n",
    "from math import log\n",
    "\n",
    "import matplotlib.pyplot as plt"
   ]
  },
  {
   "cell_type": "code",
   "execution_count": 88,
   "id": "dominant-industry",
   "metadata": {},
   "outputs": [],
   "source": [
    "def circle(samples, center=[0.0, 0.0], radius=np.sqrt(2 / np.pi)):\n",
    "    x1_train = []\n",
    "    x2_train = []\n",
    "    yvals = []\n",
    "    print(radius)\n",
    "    while (len(x1_train) != 50):\n",
    "        x = 2 * (np.random.rand(2)) - 1\n",
    "        #y = 0\n",
    "        if np.linalg.norm(x - center) < radius:\n",
    "            y = 1\n",
    "            x1_train.append(x)\n",
    "            yvals.append(y)\n",
    "    while (len(x2_train) != 50):\n",
    "        x = 2 * (np.random.rand(2)) - 1\n",
    "        y = 0\n",
    "        if np.linalg.norm(x - center) >= radius:\n",
    "            x2_train.append(x)\n",
    "            yvals.append(y)\n",
    "    return np.array(x2_train), np.array(x1_train), np.array(yvals)"
   ]
  },
  {
   "cell_type": "code",
   "execution_count": 87,
   "id": "practical-castle",
   "metadata": {},
   "outputs": [],
   "source": [
    "def plot_data(x, y, fig=None, ax=None):\n",
    "    if fig == None:\n",
    "        fig, ax = plt.subplots(1, 1, figsize=(5, 5))\n",
    "    reds = y == 0\n",
    "    blues = y == 1\n",
    "    ax.scatter(x[reds, 0], x[reds, 1], c=\"red\", s=20, edgecolor=\"k\")\n",
    "    ax.scatter(x[blues, 0], x[blues, 1], c=\"blue\", s=20, edgecolor=\"k\")\n",
    "    ax.set_xlabel(\"$x_1$\")\n",
    "    ax.set_ylabel(\"$x_2$\")"
   ]
  },
  {
   "cell_type": "code",
   "execution_count": 77,
   "id": "juvenile-boulder",
   "metadata": {},
   "outputs": [
    {
     "name": "stdout",
     "output_type": "stream",
     "text": [
      "0.7978845608028654\n"
     ]
    },
    {
     "data": {
      "image/png": "[encoded data removed]",
      "text/plain": [
       "<Figure size 288x288 with 1 Axes>"
      ]
     },
     "metadata": {
      "needs_background": "light"
     },
     "output_type": "display_data"
    }
   ],
   "source": [
    "x1_train, x2_train, ydata = circle(100)\n",
    "x1_train.shape\n",
    "fig, ax = plt.subplots(1, 1, figsize=(4, 4))\n",
    "Xdata = np.concatenate((x1_train, x2_train))\n",
    "\n",
    "plot_data(Xdata, ydata, fig=fig, ax=ax)\n",
    "plt.show()"
   ]
  },
  {
   "cell_type": "code",
   "execution_count": 80,
   "id": "norman-objective",
   "metadata": {},
   "outputs": [
    {
     "data": {
      "text/plain": [
       "(50, 2)"
      ]
     },
     "execution_count": 80,
     "metadata": {},
     "output_type": "execute_result"
    }
   ],
   "source": [
    "x1_train.shape"
   ]
  },
  {
   "cell_type": "code",
   "execution_count": 81,
   "id": "massive-harvest",
   "metadata": {},
   "outputs": [
    {
     "data": {
      "text/plain": [
       "(50, 2)"
      ]
     },
     "execution_count": 81,
     "metadata": {},
     "output_type": "execute_result"
    }
   ],
   "source": [
    "x2_train.shape"
   ]
  },
  {
   "cell_type": "code",
   "execution_count": 82,
   "id": "indie-ranch",
   "metadata": {},
   "outputs": [],
   "source": [
    "file1 = 'x1_trainData.npy'\n",
    "np.save(file1,x1_train)"
   ]
  },
  {
   "cell_type": "code",
   "execution_count": 83,
   "id": "finnish-geometry",
   "metadata": {},
   "outputs": [],
   "source": [
    "file1 = 'x2_trainData.npy'\n",
    "np.save(file1,x2_train)"
   ]
  },
  {
   "cell_type": "code",
   "execution_count": 85,
   "id": "following-manufacturer",
   "metadata": {},
   "outputs": [],
   "source": [
    "file1 = 'x1_trainData.npy'\n",
    "x1_train = np.load(file1, allow_pickle=True)"
   ]
  },
  {
   "cell_type": "code",
   "execution_count": 86,
   "id": "dominican-delivery",
   "metadata": {},
   "outputs": [],
   "source": [
    "file2 = 'x2_trainData.npy'\n",
    "x2_train = np.load(file2, allow_pickle=True)"
   ]
  },
  {
   "cell_type": "code",
   "execution_count": 89,
   "id": "clean-fountain",
   "metadata": {},
   "outputs": [
    {
     "data": {
      "image/png": "[encoded data removed]",
      "text/plain": [
       "<Figure size 288x288 with 1 Axes>"
      ]
     },
     "metadata": {
      "needs_background": "light"
     },
     "output_type": "display_data"
    }
   ],
   "source": [
    "fig, ax = plt.subplots(1, 1, figsize=(4, 4))\n",
    "Xdata = np.concatenate((x1_train, x2_train))\n",
    "\n",
    "plot_data(Xdata, ydata, fig=fig, ax=ax)\n",
    "plt.show()"
   ]
  },
  {
   "cell_type": "code",
   "execution_count": null,
   "id": "removed-header",
   "metadata": {},
   "outputs": [],
   "source": []
  }
 ],
 "metadata": {
  "kernelspec": {
   "display_name": "Python 3",
   "language": "python",
   "name": "python3"
  },
  "language_info": {
   "codemirror_mode": {
    "name": "ipython",
    "version": 3
   },
   "file_extension": ".py",
   "mimetype": "text/x-python",
   "name": "python",
   "nbconvert_exporter": "python",
   "pygments_lexer": "ipython3",
   "version": "3.7.3"
  }
 },
 "nbformat": 4,
 "nbformat_minor": 5
}

{
 "cells": [
  {
   "cell_type": "markdown",
   "id": "tender-jumping",
   "metadata": {},
   "source": [
    "Load the qiskit and other relevant libraries"
   ]
  },
  {
   "cell_type": "code",
   "execution_count": 1,
   "id": "dynamic-concord",
   "metadata": {},
   "outputs": [
    {
     "name": "stdout",
     "output_type": "stream",
     "text": [
      "The history saving thread hit an unexpected error (DatabaseError('database disk image is malformed')).History will not be written to the database.\n"
     ]
    }
   ],
   "source": [
    "from qiskit import QuantumCircuit\n",
    "from qiskit.circuit.library import RealAmplitudes, ZFeatureMap\n",
    "import numpy as np\n",
    "from qiskit.quantum_info import Statevector\n",
    "from math import log\n",
    "import matplotlib.pyplot as plt\n",
    "from sklearn.datasets import make_blobs\n",
    "from sklearn.model_selection import train_test_split\n",
    "\n",
    "from io import StringIO\n",
    "import pandas as pd\n",
    "import numpy as np\n",
    "import seaborn as sns\n",
    "import matplotlib.pyplot as plt   \n",
    "import sklearn as sk\n",
    "import matplotlib.colors\n",
    "import sys"
   ]
  },
  {
   "cell_type": "markdown",
   "id": "liberal-official",
   "metadata": {},
   "source": [
    "Import the Blobs dataset and convert it into pandas domain"
   ]
  },
  {
   "cell_type": "code",
   "execution_count": 2,
   "id": "liked-bishop",
   "metadata": {},
   "outputs": [],
   "source": [
    "rand = 0\n",
    "num_features = 4\n",
    "X,y = make_blobs(n_samples=10000, centers=[(-2.5,-2.5,-2.5,-2.5), (2.5,2.5,2.5,2.5)], n_features=4, random_state=rand)\n",
    "df = pd.DataFrame(data= np.c_[X, y])\n",
    "\n",
    "data = df.rename(columns={0: 'feature_1', 1: 'feature_2', 2:'feature_3', 3:'feature_4', 4:'target'})\n",
    "\n",
    "#assert values to float type\n",
    "data = data.astype(float)"
   ]
  },
  {
   "cell_type": "code",
   "execution_count": 3,
   "id": "compact-chemistry",
   "metadata": {},
   "outputs": [
    {
     "data": {
      "text/html": [
       "<div>\n",
       "<style scoped>\n",
       "    .dataframe tbody tr th:only-of-type {\n",
       "        vertical-align: middle;\n",
       "    }\n",
       "\n",
       "    .dataframe tbody tr th {\n",
       "        vertical-align: top;\n",
       "    }\n",
       "\n",
       "    .dataframe thead th {\n",
       "        text-align: right;\n",
       "    }\n",
       "</style>\n",
       "<table border=\"1\" class=\"dataframe\">\n",
       "  <thead>\n",
       "    <tr style=\"text-align: right;\">\n",
       "      <th></th>\n",
       "      <th>feature_1</th>\n",
       "      <th>feature_2</th>\n",
       "      <th>feature_3</th>\n",
       "      <th>feature_4</th>\n",
       "      <th>target</th>\n",
       "    </tr>\n",
       "  </thead>\n",
       "  <tbody>\n",
       "    <tr>\n",
       "      <th>count</th>\n",
       "      <td>10000.000000</td>\n",
       "      <td>10000.000000</td>\n",
       "      <td>10000.000000</td>\n",
       "      <td>10000.000000</td>\n",
       "      <td>10000.000000</td>\n",
       "    </tr>\n",
       "    <tr>\n",
       "      <th>mean</th>\n",
       "      <td>-0.003559</td>\n",
       "      <td>-0.004187</td>\n",
       "      <td>-0.011821</td>\n",
       "      <td>0.004453</td>\n",
       "      <td>0.500000</td>\n",
       "    </tr>\n",
       "    <tr>\n",
       "      <th>std</th>\n",
       "      <td>2.693008</td>\n",
       "      <td>2.682660</td>\n",
       "      <td>2.697344</td>\n",
       "      <td>2.692747</td>\n",
       "      <td>0.500025</td>\n",
       "    </tr>\n",
       "    <tr>\n",
       "      <th>min</th>\n",
       "      <td>-6.946632</td>\n",
       "      <td>-6.097163</td>\n",
       "      <td>-5.616857</td>\n",
       "      <td>-6.194285</td>\n",
       "      <td>0.000000</td>\n",
       "    </tr>\n",
       "    <tr>\n",
       "      <th>25%</th>\n",
       "      <td>-2.506003</td>\n",
       "      <td>-2.509109</td>\n",
       "      <td>-2.530928</td>\n",
       "      <td>-2.500753</td>\n",
       "      <td>0.000000</td>\n",
       "    </tr>\n",
       "    <tr>\n",
       "      <th>50%</th>\n",
       "      <td>-0.025108</td>\n",
       "      <td>-0.035691</td>\n",
       "      <td>-0.035524</td>\n",
       "      <td>-0.033291</td>\n",
       "      <td>0.500000</td>\n",
       "    </tr>\n",
       "    <tr>\n",
       "      <th>75%</th>\n",
       "      <td>2.508091</td>\n",
       "      <td>2.493922</td>\n",
       "      <td>2.505977</td>\n",
       "      <td>2.512343</td>\n",
       "      <td>1.000000</td>\n",
       "    </tr>\n",
       "    <tr>\n",
       "      <th>max</th>\n",
       "      <td>6.331790</td>\n",
       "      <td>6.202938</td>\n",
       "      <td>6.009223</td>\n",
       "      <td>6.136102</td>\n",
       "      <td>1.000000</td>\n",
       "    </tr>\n",
       "  </tbody>\n",
       "</table>\n",
       "</div>"
      ],
      "text/plain": [
       "          feature_1     feature_2     feature_3     feature_4        target\n",
       "count  10000.000000  10000.000000  10000.000000  10000.000000  10000.000000\n",
       "mean      -0.003559     -0.004187     -0.011821      0.004453      0.500000\n",
       "std        2.693008      2.682660      2.697344      2.692747      0.500025\n",
       "min       -6.946632     -6.097163     -5.616857     -6.194285      0.000000\n",
       "25%       -2.506003     -2.509109     -2.530928     -2.500753      0.000000\n",
       "50%       -0.025108     -0.035691     -0.035524     -0.033291      0.500000\n",
       "75%        2.508091      2.493922      2.505977      2.512343      1.000000\n",
       "max        6.331790      6.202938      6.009223      6.136102      1.000000"
      ]
     },
     "execution_count": 3,
     "metadata": {},
     "output_type": "execute_result"
    }
   ],
   "source": [
    "data.describe()"
   ]
  },
  {
   "cell_type": "code",
   "execution_count": 4,
   "id": "potential-custom",
   "metadata": {},
   "outputs": [
    {
     "name": "stdout",
     "output_type": "stream",
     "text": [
      "<class 'pandas.core.frame.DataFrame'>\n",
      "RangeIndex: 10000 entries, 0 to 9999\n",
      "Data columns (total 5 columns):\n",
      " #   Column     Non-Null Count  Dtype  \n",
      "---  ------     --------------  -----  \n",
      " 0   feature_1  10000 non-null  float64\n",
      " 1   feature_2  10000 non-null  float64\n",
      " 2   feature_3  10000 non-null  float64\n",
      " 3   feature_4  10000 non-null  float64\n",
      " 4   target     10000 non-null  float64\n",
      "dtypes: float64(5)\n",
      "memory usage: 390.8 KB\n"
     ]
    }
   ],
   "source": [
    "data.info(verbose=True)"
   ]
  },
  {
   "cell_type": "markdown",
   "id": "fabulous-company",
   "metadata": {},
   "source": [
    "Do the stratified shuffle split of the data into train and test with an 80/20 split such that the proportion of 1s and 0s of the y vector is the same across train and test set. This is crucial to maintain the same distribution of train and test.  "
   ]
  },
  {
   "cell_type": "code",
   "execution_count": 5,
   "id": "nonprofit-hindu",
   "metadata": {},
   "outputs": [
    {
     "name": "stdout",
     "output_type": "stream",
     "text": [
      "      feature_1  feature_2  feature_3  feature_4  target\n",
      "1181  -0.719131  -0.598312  -2.821857  -2.704368     0.0\n",
      "9581   3.518174   1.401293   1.330437   3.945736     1.0\n",
      "1178   4.952137   1.579945   2.740331   2.519868     1.0\n",
      "1040  -3.330848  -4.434611  -3.075452  -2.241756     0.0\n",
      "1233  -2.411145  -2.145061  -1.811478  -2.470071     0.0\n",
      "...         ...        ...        ...        ...     ...\n",
      "3863   1.548118   0.774866   3.491478   1.514456     1.0\n",
      "5297   2.068461   3.060725   2.104137   2.918533     1.0\n",
      "1380  -1.992761  -2.616230  -3.447489  -2.255557     0.0\n",
      "5186   2.889509   2.136980   1.738902   1.105287     1.0\n",
      "6459  -1.710682  -1.674679  -2.621634  -1.664195     0.0\n",
      "\n",
      "[8000 rows x 5 columns]\n"
     ]
    }
   ],
   "source": [
    "train, test = train_test_split(data, test_size=0.2, stratify=data['target'], random_state=rand)\n",
    "print(train)"
   ]
  },
  {
   "cell_type": "code",
   "execution_count": 6,
   "id": "wooden-suspension",
   "metadata": {},
   "outputs": [
    {
     "name": "stdout",
     "output_type": "stream",
     "text": [
      "      feature_1  feature_2  feature_3  feature_4  target\n",
      "3756   1.674432   2.530149   3.672609   3.054769     1.0\n",
      "1729  -2.050831  -2.631302  -3.250935  -1.222348     0.0\n",
      "1455   2.454362   1.877183   2.163808   2.034453     1.0\n",
      "1496  -2.899500  -2.800573  -2.278363  -2.720489     0.0\n",
      "3559  -1.624361  -1.873660  -2.771416   0.099941     0.0\n",
      "...         ...        ...        ...        ...     ...\n",
      "3964  -2.377988  -3.083812  -2.532496  -2.296064     0.0\n",
      "4573   2.773170   1.433272   1.139382   2.121546     1.0\n",
      "4950  -2.810886  -2.402600  -2.100954  -5.272593     0.0\n",
      "7418  -1.756328  -2.534930  -4.060775  -6.194285     0.0\n",
      "1342   1.991256   2.357584   3.623481   2.618662     1.0\n",
      "\n",
      "[2000 rows x 5 columns]\n"
     ]
    }
   ],
   "source": [
    "print(test)"
   ]
  },
  {
   "cell_type": "code",
   "execution_count": 7,
   "id": "closed-illness",
   "metadata": {},
   "outputs": [],
   "source": [
    "X_train, y_train = train.iloc[:,0:4], train.iloc[:,4]\n",
    "X_test, y_test = test.iloc[:,0:4], test.iloc[:,4]"
   ]
  },
  {
   "cell_type": "code",
   "execution_count": 8,
   "id": "unknown-conviction",
   "metadata": {},
   "outputs": [
    {
     "data": {
      "text/html": [
       "<div>\n",
       "<style scoped>\n",
       "    .dataframe tbody tr th:only-of-type {\n",
       "        vertical-align: middle;\n",
       "    }\n",
       "\n",
       "    .dataframe tbody tr th {\n",
       "        vertical-align: top;\n",
       "    }\n",
       "\n",
       "    .dataframe thead th {\n",
       "        text-align: right;\n",
       "    }\n",
       "</style>\n",
       "<table border=\"1\" class=\"dataframe\">\n",
       "  <thead>\n",
       "    <tr style=\"text-align: right;\">\n",
       "      <th></th>\n",
       "      <th>feature_1</th>\n",
       "      <th>feature_2</th>\n",
       "      <th>feature_3</th>\n",
       "      <th>feature_4</th>\n",
       "    </tr>\n",
       "  </thead>\n",
       "  <tbody>\n",
       "    <tr>\n",
       "      <th>1181</th>\n",
       "      <td>-0.719131</td>\n",
       "      <td>-0.598312</td>\n",
       "      <td>-2.821857</td>\n",
       "      <td>-2.704368</td>\n",
       "    </tr>\n",
       "    <tr>\n",
       "      <th>9581</th>\n",
       "      <td>3.518174</td>\n",
       "      <td>1.401293</td>\n",
       "      <td>1.330437</td>\n",
       "      <td>3.945736</td>\n",
       "    </tr>\n",
       "    <tr>\n",
       "      <th>1178</th>\n",
       "      <td>4.952137</td>\n",
       "      <td>1.579945</td>\n",
       "      <td>2.740331</td>\n",
       "      <td>2.519868</td>\n",
       "    </tr>\n",
       "    <tr>\n",
       "      <th>1040</th>\n",
       "      <td>-3.330848</td>\n",
       "      <td>-4.434611</td>\n",
       "      <td>-3.075452</td>\n",
       "      <td>-2.241756</td>\n",
       "    </tr>\n",
       "    <tr>\n",
       "      <th>1233</th>\n",
       "      <td>-2.411145</td>\n",
       "      <td>-2.145061</td>\n",
       "      <td>-1.811478</td>\n",
       "      <td>-2.470071</td>\n",
       "    </tr>\n",
       "    <tr>\n",
       "      <th>...</th>\n",
       "      <td>...</td>\n",
       "      <td>...</td>\n",
       "      <td>...</td>\n",
       "      <td>...</td>\n",
       "    </tr>\n",
       "    <tr>\n",
       "      <th>3863</th>\n",
       "      <td>1.548118</td>\n",
       "      <td>0.774866</td>\n",
       "      <td>3.491478</td>\n",
       "      <td>1.514456</td>\n",
       "    </tr>\n",
       "    <tr>\n",
       "      <th>5297</th>\n",
       "      <td>2.068461</td>\n",
       "      <td>3.060725</td>\n",
       "      <td>2.104137</td>\n",
       "      <td>2.918533</td>\n",
       "    </tr>\n",
       "    <tr>\n",
       "      <th>1380</th>\n",
       "      <td>-1.992761</td>\n",
       "      <td>-2.616230</td>\n",
       "      <td>-3.447489</td>\n",
       "      <td>-2.255557</td>\n",
       "    </tr>\n",
       "    <tr>\n",
       "      <th>5186</th>\n",
       "      <td>2.889509</td>\n",
       "      <td>2.136980</td>\n",
       "      <td>1.738902</td>\n",
       "      <td>1.105287</td>\n",
       "    </tr>\n",
       "    <tr>\n",
       "      <th>6459</th>\n",
       "      <td>-1.710682</td>\n",
       "      <td>-1.674679</td>\n",
       "      <td>-2.621634</td>\n",
       "      <td>-1.664195</td>\n",
       "    </tr>\n",
       "  </tbody>\n",
       "</table>\n",
       "<p>8000 rows × 4 columns</p>\n",
       "</div>"
      ],
      "text/plain": [
       "      feature_1  feature_2  feature_3  feature_4\n",
       "1181  -0.719131  -0.598312  -2.821857  -2.704368\n",
       "9581   3.518174   1.401293   1.330437   3.945736\n",
       "1178   4.952137   1.579945   2.740331   2.519868\n",
       "1040  -3.330848  -4.434611  -3.075452  -2.241756\n",
       "1233  -2.411145  -2.145061  -1.811478  -2.470071\n",
       "...         ...        ...        ...        ...\n",
       "3863   1.548118   0.774866   3.491478   1.514456\n",
       "5297   2.068461   3.060725   2.104137   2.918533\n",
       "1380  -1.992761  -2.616230  -3.447489  -2.255557\n",
       "5186   2.889509   2.136980   1.738902   1.105287\n",
       "6459  -1.710682  -1.674679  -2.621634  -1.664195\n",
       "\n",
       "[8000 rows x 4 columns]"
      ]
     },
     "execution_count": 8,
     "metadata": {},
     "output_type": "execute_result"
    }
   ],
   "source": [
    "X_train"
   ]
  },
  {
   "cell_type": "code",
   "execution_count": 9,
   "id": "amber-length",
   "metadata": {},
   "outputs": [
    {
     "data": {
      "text/plain": [
       "1181    0.0\n",
       "9581    1.0\n",
       "1178    1.0\n",
       "1040    0.0\n",
       "1233    0.0\n",
       "       ... \n",
       "3863    1.0\n",
       "5297    1.0\n",
       "1380    0.0\n",
       "5186    1.0\n",
       "6459    0.0\n",
       "Name: target, Length: 8000, dtype: float64"
      ]
     },
     "execution_count": 9,
     "metadata": {},
     "output_type": "execute_result"
    }
   ],
   "source": [
    "y_train"
   ]
  },
  {
   "cell_type": "markdown",
   "id": "dramatic-messenger",
   "metadata": {},
   "source": [
    "Split the data further into target 0 and target 1 labels"
   ]
  },
  {
   "cell_type": "code",
   "execution_count": 10,
   "id": "frank-imagination",
   "metadata": {},
   "outputs": [],
   "source": [
    "x1_train = X_train[y_train == 0.0]\n",
    "x2_train = X_train[y_train == 1.0]\n",
    "x1_test = X_test[y_test == 0.0]\n",
    "x2_test = X_test[y_test == 1.0]"
   ]
  },
  {
   "cell_type": "code",
   "execution_count": 11,
   "id": "moved-palestinian",
   "metadata": {},
   "outputs": [
    {
     "data": {
      "text/html": [
       "<div>\n",
       "<style scoped>\n",
       "    .dataframe tbody tr th:only-of-type {\n",
       "        vertical-align: middle;\n",
       "    }\n",
       "\n",
       "    .dataframe tbody tr th {\n",
       "        vertical-align: top;\n",
       "    }\n",
       "\n",
       "    .dataframe thead th {\n",
       "        text-align: right;\n",
       "    }\n",
       "</style>\n",
       "<table border=\"1\" class=\"dataframe\">\n",
       "  <thead>\n",
       "    <tr style=\"text-align: right;\">\n",
       "      <th></th>\n",
       "      <th>feature_1</th>\n",
       "      <th>feature_2</th>\n",
       "      <th>feature_3</th>\n",
       "      <th>feature_4</th>\n",
       "    </tr>\n",
       "  </thead>\n",
       "  <tbody>\n",
       "    <tr>\n",
       "      <th>1181</th>\n",
       "      <td>-0.719131</td>\n",
       "      <td>-0.598312</td>\n",
       "      <td>-2.821857</td>\n",
       "      <td>-2.704368</td>\n",
       "    </tr>\n",
       "    <tr>\n",
       "      <th>1040</th>\n",
       "      <td>-3.330848</td>\n",
       "      <td>-4.434611</td>\n",
       "      <td>-3.075452</td>\n",
       "      <td>-2.241756</td>\n",
       "    </tr>\n",
       "    <tr>\n",
       "      <th>1233</th>\n",
       "      <td>-2.411145</td>\n",
       "      <td>-2.145061</td>\n",
       "      <td>-1.811478</td>\n",
       "      <td>-2.470071</td>\n",
       "    </tr>\n",
       "    <tr>\n",
       "      <th>9231</th>\n",
       "      <td>-3.281668</td>\n",
       "      <td>-1.569730</td>\n",
       "      <td>-2.933168</td>\n",
       "      <td>-3.974690</td>\n",
       "    </tr>\n",
       "    <tr>\n",
       "      <th>127</th>\n",
       "      <td>-0.963517</td>\n",
       "      <td>-2.043618</td>\n",
       "      <td>-2.747623</td>\n",
       "      <td>-1.551742</td>\n",
       "    </tr>\n",
       "    <tr>\n",
       "      <th>...</th>\n",
       "      <td>...</td>\n",
       "      <td>...</td>\n",
       "      <td>...</td>\n",
       "      <td>...</td>\n",
       "    </tr>\n",
       "    <tr>\n",
       "      <th>5749</th>\n",
       "      <td>-2.967493</td>\n",
       "      <td>-3.362493</td>\n",
       "      <td>-1.877481</td>\n",
       "      <td>-3.131192</td>\n",
       "    </tr>\n",
       "    <tr>\n",
       "      <th>7325</th>\n",
       "      <td>-2.462469</td>\n",
       "      <td>-2.519201</td>\n",
       "      <td>-1.929195</td>\n",
       "      <td>-3.174999</td>\n",
       "    </tr>\n",
       "    <tr>\n",
       "      <th>9494</th>\n",
       "      <td>-1.870757</td>\n",
       "      <td>-3.571167</td>\n",
       "      <td>-4.420088</td>\n",
       "      <td>-2.509526</td>\n",
       "    </tr>\n",
       "    <tr>\n",
       "      <th>1380</th>\n",
       "      <td>-1.992761</td>\n",
       "      <td>-2.616230</td>\n",
       "      <td>-3.447489</td>\n",
       "      <td>-2.255557</td>\n",
       "    </tr>\n",
       "    <tr>\n",
       "      <th>6459</th>\n",
       "      <td>-1.710682</td>\n",
       "      <td>-1.674679</td>\n",
       "      <td>-2.621634</td>\n",
       "      <td>-1.664195</td>\n",
       "    </tr>\n",
       "  </tbody>\n",
       "</table>\n",
       "<p>4000 rows × 4 columns</p>\n",
       "</div>"
      ],
      "text/plain": [
       "      feature_1  feature_2  feature_3  feature_4\n",
       "1181  -0.719131  -0.598312  -2.821857  -2.704368\n",
       "1040  -3.330848  -4.434611  -3.075452  -2.241756\n",
       "1233  -2.411145  -2.145061  -1.811478  -2.470071\n",
       "9231  -3.281668  -1.569730  -2.933168  -3.974690\n",
       "127   -0.963517  -2.043618  -2.747623  -1.551742\n",
       "...         ...        ...        ...        ...\n",
       "5749  -2.967493  -3.362493  -1.877481  -3.131192\n",
       "7325  -2.462469  -2.519201  -1.929195  -3.174999\n",
       "9494  -1.870757  -3.571167  -4.420088  -2.509526\n",
       "1380  -1.992761  -2.616230  -3.447489  -2.255557\n",
       "6459  -1.710682  -1.674679  -2.621634  -1.664195\n",
       "\n",
       "[4000 rows x 4 columns]"
      ]
     },
     "execution_count": 11,
     "metadata": {},
     "output_type": "execute_result"
    }
   ],
   "source": [
    "x1_train"
   ]
  },
  {
   "cell_type": "code",
   "execution_count": 12,
   "id": "august-satin",
   "metadata": {},
   "outputs": [
    {
     "data": {
      "text/html": [
       "<div>\n",
       "<style scoped>\n",
       "    .dataframe tbody tr th:only-of-type {\n",
       "        vertical-align: middle;\n",
       "    }\n",
       "\n",
       "    .dataframe tbody tr th {\n",
       "        vertical-align: top;\n",
       "    }\n",
       "\n",
       "    .dataframe thead th {\n",
       "        text-align: right;\n",
       "    }\n",
       "</style>\n",
       "<table border=\"1\" class=\"dataframe\">\n",
       "  <thead>\n",
       "    <tr style=\"text-align: right;\">\n",
       "      <th></th>\n",
       "      <th>feature_1</th>\n",
       "      <th>feature_2</th>\n",
       "      <th>feature_3</th>\n",
       "      <th>feature_4</th>\n",
       "    </tr>\n",
       "  </thead>\n",
       "  <tbody>\n",
       "    <tr>\n",
       "      <th>1729</th>\n",
       "      <td>-2.050831</td>\n",
       "      <td>-2.631302</td>\n",
       "      <td>-3.250935</td>\n",
       "      <td>-1.222348</td>\n",
       "    </tr>\n",
       "    <tr>\n",
       "      <th>1496</th>\n",
       "      <td>-2.899500</td>\n",
       "      <td>-2.800573</td>\n",
       "      <td>-2.278363</td>\n",
       "      <td>-2.720489</td>\n",
       "    </tr>\n",
       "    <tr>\n",
       "      <th>3559</th>\n",
       "      <td>-1.624361</td>\n",
       "      <td>-1.873660</td>\n",
       "      <td>-2.771416</td>\n",
       "      <td>0.099941</td>\n",
       "    </tr>\n",
       "    <tr>\n",
       "      <th>3025</th>\n",
       "      <td>-1.276202</td>\n",
       "      <td>-3.351228</td>\n",
       "      <td>-0.973413</td>\n",
       "      <td>-2.130549</td>\n",
       "    </tr>\n",
       "    <tr>\n",
       "      <th>1874</th>\n",
       "      <td>-4.354626</td>\n",
       "      <td>-1.479834</td>\n",
       "      <td>-3.321502</td>\n",
       "      <td>-2.436915</td>\n",
       "    </tr>\n",
       "    <tr>\n",
       "      <th>...</th>\n",
       "      <td>...</td>\n",
       "      <td>...</td>\n",
       "      <td>...</td>\n",
       "      <td>...</td>\n",
       "    </tr>\n",
       "    <tr>\n",
       "      <th>7011</th>\n",
       "      <td>-2.680743</td>\n",
       "      <td>-4.409861</td>\n",
       "      <td>-2.801514</td>\n",
       "      <td>-3.095361</td>\n",
       "    </tr>\n",
       "    <tr>\n",
       "      <th>2935</th>\n",
       "      <td>-2.047603</td>\n",
       "      <td>-2.648686</td>\n",
       "      <td>-3.881306</td>\n",
       "      <td>-2.207384</td>\n",
       "    </tr>\n",
       "    <tr>\n",
       "      <th>3964</th>\n",
       "      <td>-2.377988</td>\n",
       "      <td>-3.083812</td>\n",
       "      <td>-2.532496</td>\n",
       "      <td>-2.296064</td>\n",
       "    </tr>\n",
       "    <tr>\n",
       "      <th>4950</th>\n",
       "      <td>-2.810886</td>\n",
       "      <td>-2.402600</td>\n",
       "      <td>-2.100954</td>\n",
       "      <td>-5.272593</td>\n",
       "    </tr>\n",
       "    <tr>\n",
       "      <th>7418</th>\n",
       "      <td>-1.756328</td>\n",
       "      <td>-2.534930</td>\n",
       "      <td>-4.060775</td>\n",
       "      <td>-6.194285</td>\n",
       "    </tr>\n",
       "  </tbody>\n",
       "</table>\n",
       "<p>1000 rows × 4 columns</p>\n",
       "</div>"
      ],
      "text/plain": [
       "      feature_1  feature_2  feature_3  feature_4\n",
       "1729  -2.050831  -2.631302  -3.250935  -1.222348\n",
       "1496  -2.899500  -2.800573  -2.278363  -2.720489\n",
       "3559  -1.624361  -1.873660  -2.771416   0.099941\n",
       "3025  -1.276202  -3.351228  -0.973413  -2.130549\n",
       "1874  -4.354626  -1.479834  -3.321502  -2.436915\n",
       "...         ...        ...        ...        ...\n",
       "7011  -2.680743  -4.409861  -2.801514  -3.095361\n",
       "2935  -2.047603  -2.648686  -3.881306  -2.207384\n",
       "3964  -2.377988  -3.083812  -2.532496  -2.296064\n",
       "4950  -2.810886  -2.402600  -2.100954  -5.272593\n",
       "7418  -1.756328  -2.534930  -4.060775  -6.194285\n",
       "\n",
       "[1000 rows x 4 columns]"
      ]
     },
     "execution_count": 12,
     "metadata": {},
     "output_type": "execute_result"
    }
   ],
   "source": [
    "x1_test"
   ]
  },
  {
   "cell_type": "markdown",
   "id": "liquid-roulette",
   "metadata": {},
   "source": [
    "ADAM optimizer function"
   ]
  },
  {
   "cell_type": "code",
   "execution_count": 13,
   "id": "crazy-sailing",
   "metadata": {},
   "outputs": [],
   "source": [
    "from typing import Optional, Callable, Tuple, List\n",
    "import os\n",
    "import numpy as np\n",
    "import csv\n",
    "from qiskit.aqua import aqua_globals\n",
    "from qiskit.aqua.components.optimizers import Optimizer, OptimizerSupportLevel\n",
    "\n",
    "\n",
    "\n",
    "class ADAM(Optimizer):\n",
    "    \"\"\"Adam and AMSGRAD optimizers.\n",
    "        This implementation is taken directly from Qiskit. Please see Qiskit optimiser documentation for details.\n",
    "        \"\"\"\n",
    "\n",
    "    _OPTIONS = ['maxiter', 'tol', 'lr', 'beta_1', 'beta_2',\n",
    "                'noise_factor', 'eps', 'amsgrad', 'snapshot_dir']\n",
    "\n",
    "    def __init__(self,\n",
    "                 maxiter: int = 10000,\n",
    "                 tol: float = 1e-6,\n",
    "                 lr: float = 1e-3,\n",
    "                 beta_1: float = 0.9,\n",
    "                 beta_2: float = 0.99,\n",
    "                 noise_factor: float = 1e-8,\n",
    "                 eps: float = 1e-10,\n",
    "                 amsgrad: bool = False,\n",
    "                 snapshot_dir: Optional[str] = None) -> None:\n",
    "\n",
    "        super().__init__()\n",
    "        for k, v in locals().items():\n",
    "            if k in self._OPTIONS:\n",
    "                self._options[k] = v\n",
    "        self._maxiter = maxiter\n",
    "        self._snapshot_dir = snapshot_dir\n",
    "        self._tol = tol\n",
    "        self._lr = lr\n",
    "        self._beta_1 = beta_1\n",
    "        self._beta_2 = beta_2\n",
    "        self._noise_factor = noise_factor\n",
    "        self._eps = eps\n",
    "        self._amsgrad = amsgrad\n",
    "        self.loss_list = []\n",
    "        self.params = []\n",
    "        # runtime variables\n",
    "        self._t = 0  # time steps\n",
    "        self._m = np.zeros(1)\n",
    "        self._v = np.zeros(1)\n",
    "        if self._amsgrad:\n",
    "            self._v_eff = np.zeros(1)\n",
    "\n",
    "        if self._snapshot_dir:\n",
    "\n",
    "            with open(os.path.join(self._snapshot_dir, 'adam_params.csv'), mode='w') as csv_file:\n",
    "                if self._amsgrad:\n",
    "                    fieldnames = ['v', 'v_eff', 'm', 't']\n",
    "                else:\n",
    "                    fieldnames = ['v', 'm', 't']\n",
    "                writer = csv.DictWriter(csv_file, fieldnames=fieldnames)\n",
    "                writer.writeheader()\n",
    "\n",
    "    def get_support_level(self):\n",
    "        \"\"\" Return support level dictionary \"\"\"\n",
    "        return {\n",
    "            'gradient': OptimizerSupportLevel.supported,\n",
    "            'bounds': OptimizerSupportLevel.ignored,\n",
    "            'initial_point': OptimizerSupportLevel.supported\n",
    "        }\n",
    "\n",
    "    def save_params(self, snapshot_dir: str) -> None:\n",
    "        if self._amsgrad:\n",
    "            with open(os.path.join(snapshot_dir, 'adam_params.csv'), mode='a') as csv_file:\n",
    "                fieldnames = ['v', 'v_eff', 'm', 't']\n",
    "                writer = csv.DictWriter(csv_file, fieldnames=fieldnames)\n",
    "                writer.writerow({'v': self._v, 'v_eff': self._v_eff,\n",
    "                                 'm': self._m, 't': self._t})\n",
    "        else:\n",
    "            with open(os.path.join(snapshot_dir, 'adam_params.csv'), mode='a') as csv_file:\n",
    "                fieldnames = ['v', 'm', 't']\n",
    "                writer = csv.DictWriter(csv_file, fieldnames=fieldnames)\n",
    "                writer.writerow({'v': self._v, 'm': self._m, 't': self._t})\n",
    "\n",
    "    def load_params(self, load_dir: str) -> None:\n",
    "\n",
    "        with open(os.path.join(load_dir, 'adam_params.csv'), mode='r') as csv_file:\n",
    "            if self._amsgrad:\n",
    "                fieldnames = ['v', 'v_eff', 'm', 't']\n",
    "            else:\n",
    "                fieldnames = ['v', 'm', 't']\n",
    "            reader = csv.DictReader(csv_file, fieldnames=fieldnames)\n",
    "            for line in reader:\n",
    "                v = line['v']\n",
    "                if self._amsgrad:\n",
    "                    v_eff = line['v_eff']\n",
    "                m = line['m']\n",
    "                t = line['t']\n",
    "\n",
    "        v = v[1:-1]\n",
    "        self._v = np.fromstring(v, dtype=float, sep=' ')\n",
    "        if self._amsgrad:\n",
    "            v_eff = v_eff[1:-1]\n",
    "            self._v_eff = np.fromstring(v_eff, dtype=float, sep=' ')\n",
    "        m = m[1:-1]\n",
    "        self._m = np.fromstring(m, dtype=float, sep=' ')\n",
    "        t = t[1:-1]\n",
    "        self._t = np.fromstring(t, dtype=int, sep=' ')\n",
    "\n",
    "    def minimize(self, objective_function: Callable[[np.ndarray], float], initial_point: np.ndarray,\n",
    "                 gradient_function: Callable[[np.ndarray], float]) -> Tuple[np.ndarray, float, int]:\n",
    "\n",
    "        derivative = gradient_function(initial_point)\n",
    "        self._t = 0\n",
    "        self._m = np.zeros(np.shape(derivative))\n",
    "        self._v = np.zeros(np.shape(derivative))\n",
    "        if self._amsgrad:\n",
    "            self._v_eff = np.zeros(np.shape(derivative))\n",
    "        self.loss_list = []\n",
    "        self.params = []\n",
    "        params = params_new = initial_point\n",
    "        while self._t < self._maxiter:\n",
    "            derivative = gradient_function(params)\n",
    "            self._t += 1\n",
    "            self._m = self._beta_1 * self._m + (1 - self._beta_1) * derivative\n",
    "            self._v = self._beta_2 * self._v + (1 - self._beta_2) * derivative * derivative\n",
    "            lr_eff = self._lr * np.sqrt(1 - self._beta_2 ** self._t) / (1 - self._beta_1 ** self._t)\n",
    "            if not self._amsgrad:\n",
    "                params_new = (params - lr_eff * self._m.flatten()\n",
    "                              / (np.sqrt(self._v.flatten()) + self._noise_factor))\n",
    "                self.params.append(params_new)\n",
    "                self.loss_list.append(objective_function(params_new))\n",
    "            else:\n",
    "                self._v_eff = np.maximum(self._v_eff, self._v)\n",
    "                params_new = (params - lr_eff * self._m.flatten()\n",
    "                              / (np.sqrt(self._v_eff.flatten()) + self._noise_factor))\n",
    "                self.params.append(params_new)\n",
    "                self.loss_list.append(objective_function(params_new))\n",
    "            if self._snapshot_dir:\n",
    "                self.save_params(self._snapshot_dir)\n",
    "            if np.linalg.norm(params - params_new) < self._tol:\n",
    "                return params_new, objective_function(params_new), self._t\n",
    "            else:\n",
    "                params = params_new\n",
    "        return params_new, objective_function(params_new), self._t\n",
    "\n",
    "    def optimize(self, num_vars: int, objective_function: Callable[[np.ndarray], float],\n",
    "                 gradient_function: Optional[Callable[[np.ndarray], float]] = None,\n",
    "                 variable_bounds: Optional[List[Tuple[float, float]]] = None,\n",
    "                 initial_point: Optional[np.ndarray] = None\n",
    "                 ) -> Tuple[np.ndarray, float, int]:\n",
    "\n",
    "        super().optimize(num_vars, objective_function, gradient_function,\n",
    "                         variable_bounds, initial_point)\n",
    "        if initial_point is None:\n",
    "            initial_point = aqua_globals.random.random(num_vars)\n",
    "        if gradient_function is None:\n",
    "            gradient_function = Optimizer.wrap_function(Optimizer.gradient_num_diff,\n",
    "                                                        (objective_function, self._eps))\n",
    "\n",
    "        point, value, nfev = self.minimize(objective_function, initial_point, gradient_function)\n",
    "        return point, value, nfev, self.loss_list, self.params"
   ]
  },
  {
   "cell_type": "code",
   "execution_count": 14,
   "id": "noticed-instrumentation",
   "metadata": {},
   "outputs": [],
   "source": [
    "num_qubits = 4  \n",
    "def final_circuit(circuit, data, params):\n",
    "    layers = len(params) // num_qubits\n",
    "    for i in range(num_qubits):\n",
    "        circuit.h(i)\n",
    "    for j in range(layers-1):\n",
    "        for i in range(num_qubits):\n",
    "            circuit.rz(data[i],i)\n",
    "            circuit.ry(params[i+num_qubits*j], i)\n",
    "        circuit.cx(0,3)\n",
    "        circuit.cx(1,2)\n",
    "        circuit.barrier()\n",
    "    for i in range(num_qubits):\n",
    "        circuit.rz(data[i],i)\n",
    "        circuit.ry(params[i+num_qubits*(layers-1)], i)"
   ]
  },
  {
   "cell_type": "code",
   "execution_count": 15,
   "id": "collectible-shark",
   "metadata": {},
   "outputs": [
    {
     "data": {
      "image/png": "[encoded data removed]",
      "text/plain": [
       "<Figure size 1170.2x264.88 with 1 Axes>"
      ]
     },
     "execution_count": 15,
     "metadata": {},
     "output_type": "execute_result"
    }
   ],
   "source": [
    "cir = QuantumCircuit(num_features)\n",
    "final_circuit(cir, x1_train.values[0],[1,1,1,1,0,0,0,0,1,1,1,1,0,0,0,0])\n",
    "cir.draw('mpl')"
   ]
  },
  {
   "cell_type": "markdown",
   "id": "attended-response",
   "metadata": {},
   "source": [
    "Various helper functions"
   ]
  },
  {
   "cell_type": "code",
   "execution_count": 16,
   "id": "diagnostic-crime",
   "metadata": {
    "scrolled": true
   },
   "outputs": [],
   "source": [
    "def assign_label(bit_string, class_labels):\n",
    "    hamming_weight = sum([int(k) for k in list(bit_string)])\n",
    "    is_odd_parity = hamming_weight & 1\n",
    "    if is_odd_parity:\n",
    "        return class_labels[1]\n",
    "    else:\n",
    "        return class_labels[0]"
   ]
  },
  {
   "cell_type": "code",
   "execution_count": 17,
   "id": "missing-forth",
   "metadata": {},
   "outputs": [],
   "source": [
    "def return_probabilities(counts, class_labels):\n",
    "    shots = sum(counts.values())\n",
    "    result = {class_labels[0]: 0,\n",
    "              class_labels[1]: 0}\n",
    "    for key, item in counts.items():\n",
    "        label = assign_label(key, class_labels)\n",
    "        result[label] += counts[key]/shots\n",
    "    return result"
   ]
  },
  {
   "cell_type": "code",
   "execution_count": 18,
   "id": "interracial-nitrogen",
   "metadata": {},
   "outputs": [],
   "source": [
    "def classify(x_list, params, class_labels):\n",
    "    qc_list = []\n",
    "    for x in x_list:\n",
    "        circuit = QuantumCircuit(n)\n",
    "        circ_ = final_circuit(circuit, x, params)\n",
    "        qc = sv.evolve(circuit)\n",
    "        qc_list += [qc]\n",
    "    probs = []\n",
    "    for qc in qc_list:\n",
    "        counts = qc.probabilities_dict()\n",
    "        prob = return_probabilities(counts, class_labels)\n",
    "        probs += [prob]\n",
    "    return probs"
   ]
  },
  {
   "cell_type": "code",
   "execution_count": 19,
   "id": "commercial-objective",
   "metadata": {},
   "outputs": [],
   "source": [
    "def CrossEntropy(yHat, y):\n",
    "    if y == 'A':\n",
    "      return -log(yHat['A'])\n",
    "    else:\n",
    "      return -log(1-yHat['A'])"
   ]
  },
  {
   "cell_type": "code",
   "execution_count": 40,
   "id": "proprietary-exclusion",
   "metadata": {},
   "outputs": [],
   "source": [
    "def cost_function(training_input, class_labels, params, print_value=False):\n",
    "    # map training input to list of labels and list of samples\n",
    "    cost = 0\n",
    "    training_labels = []\n",
    "    training_samples = []\n",
    "    for label, samples in training_input.items():\n",
    "        for sample in samples:\n",
    "            training_labels += [label]\n",
    "            training_samples += [sample]\n",
    "\n",
    "    # classify all samples\n",
    "    probs = classify(training_samples, params, class_labels)\n",
    "    #print(probs)\n",
    "    # evaluate costs for all classified samples\n",
    "    for i, prob in enumerate(probs):\n",
    "        cost += CrossEntropy(yHat=prob, y=training_labels[i])\n",
    "    cost /= len(training_samples)\n",
    "    #print(cost)\n",
    "    # return objective value\n",
    "    return cost"
   ]
  },
  {
   "cell_type": "code",
   "execution_count": 41,
   "id": "occupational-thirty",
   "metadata": {},
   "outputs": [],
   "source": [
    "training_size = 8000\n",
    "# dimension of data sets\n",
    "n = 4\n",
    "training_input = {'A':x1_train.values, 'B':x2_train.values}\n",
    "test_input = {'A':x1_test.values, 'B':x2_test.values}\n",
    "class_labels = ['A', 'B']\n",
    "sv = Statevector.from_label('0' * n)"
   ]
  },
  {
   "cell_type": "code",
   "execution_count": null,
   "id": "single-blank",
   "metadata": {
    "scrolled": true
   },
   "outputs": [],
   "source": [
    "# setup the optimizer\n",
    "optimizer = ADAM(maxiter=100, lr=0.1)\n",
    "\n",
    "# define objective function for training\n",
    "objective_function = lambda params: cost_function(training_input, class_labels, params, print_value=True)\n",
    "\n",
    "d = 16  # num of trainable params\n",
    "np.random.seed(0)\n",
    "# randomly initialize the parameters\n",
    "init_params = np.random.uniform(-1,1,d)\n",
    "#print(init_params)\n",
    "opt_params, value, _, loss,params = optimizer.optimize(len(init_params), objective_function, initial_point=init_params)\n",
    "#print(loss)\n",
    "#print(opt_params)\n",
    "# print results\n",
    "f1 = 'quantum_loss_easy_layer_boot_4k.npy' \n",
    "f2 = 'opt_params_easy_layer_boot_4k.npy'\n",
    "f3 = 'all_run_params_easy_boot_4k.npy'\n",
    "np.save(f2, opt_params)\n",
    "np.save(f1, loss)\n",
    "np.save(f3, params)"
   ]
  },
  {
   "cell_type": "code",
   "execution_count": 29,
   "id": "caring-functionality",
   "metadata": {},
   "outputs": [],
   "source": [
    "def cost_function_test(test_input, class_labels, params, print_value=False):\n",
    "    # map training input to list of labels and list of samples\n",
    "    cost = 0\n",
    "    test_labels = []\n",
    "    test_samples = []\n",
    "    i = 0\n",
    "    for label, samples in test_input.items():\n",
    "        for sample in samples:\n",
    "            test_labels += [label]\n",
    "            test_samples += [sample]\n",
    "\n",
    "    # classify all samples\n",
    "    probs = classify(test_samples, params, class_labels)\n",
    "\n",
    "    # evaluate costs for all classified samples\n",
    "    for i, prob in enumerate(probs):\n",
    "        cost += CrossEntropy(yHat=prob, y=test_labels[i])\n",
    "    cost /= len(test_samples)\n",
    "\n",
    "    return cost"
   ]
  },
  {
   "cell_type": "code",
   "execution_count": 27,
   "id": "ruled-depression",
   "metadata": {},
   "outputs": [],
   "source": [
    "test_loss = []\n",
    "for i in range(len(params)):\n",
    "    test_loss.append(cost_function_test(test_input, class_labels, params[i]))"
   ]
  },
  {
   "cell_type": "code",
   "execution_count": 30,
   "id": "obvious-denmark",
   "metadata": {},
   "outputs": [],
   "source": [
    "f4 = 'test_loss_easy_layer_boot_4k.npy' \n",
    "np.save(f4, test_loss)"
   ]
  },
  {
   "cell_type": "code",
   "execution_count": 31,
   "id": "substantial-lottery",
   "metadata": {},
   "outputs": [
    {
     "data": {
      "text/plain": [
       "Text(0.5, 1.0, 'Easy Model, 4 Layer, Blobs (Stratified without Bootstraps)')"
      ]
     },
     "execution_count": 31,
     "metadata": {},
     "output_type": "execute_result"
    },
    {
     "data": {
      "image/png": "[encoded data removed]",
      "text/plain": [
       "<Figure size 432x288 with 1 Axes>"
      ]
     },
     "metadata": {
      "needs_background": "light"
     },
     "output_type": "display_data"
    }
   ],
   "source": [
    "plt.plot(range(100), loss)\n",
    "plt.plot(range(100), test_loss)\n",
    "\n",
    "legendList = ['{}'.format(i) for i in [\"Training\", \"Test\"]]\n",
    "plt.legend(legendList)\n",
    "plt.xlabel(\"Iterations\")\n",
    "plt.ylabel(\"Loss value\")\n",
    "plt.title(\"Easy Model, 4 Layer, Blobs (Stratified without Bootstraps)\")"
   ]
  },
  {
   "cell_type": "markdown",
   "id": "front-hollywood",
   "metadata": {},
   "source": [
    "Implementing the Bootstraps of the test dataset with 100 bootstrapped iterations"
   ]
  },
  {
   "cell_type": "code",
   "execution_count": 33,
   "id": "sufficient-friendship",
   "metadata": {},
   "outputs": [
    {
     "name": "stdout",
     "output_type": "stream",
     "text": [
      "0\n",
      "1\n",
      "2\n",
      "3\n",
      "4\n",
      "5\n",
      "6\n",
      "7\n",
      "8\n",
      "9\n",
      "10\n",
      "11\n",
      "12\n",
      "13\n",
      "14\n",
      "15\n",
      "16\n",
      "17\n",
      "18\n",
      "19\n",
      "20\n",
      "21\n",
      "22\n",
      "23\n",
      "24\n",
      "25\n",
      "26\n",
      "27\n",
      "28\n",
      "29\n",
      "30\n",
      "31\n",
      "32\n",
      "33\n",
      "34\n",
      "35\n",
      "36\n",
      "37\n",
      "38\n",
      "39\n",
      "40\n",
      "41\n",
      "42\n",
      "43\n",
      "44\n",
      "45\n",
      "46\n",
      "47\n",
      "48\n",
      "49\n"
     ]
    }
   ],
   "source": [
    "num_bootstraps = 50\n",
    "alpha = 0.05\n",
    "prop_bootstrap = 0.7\n",
    "\n",
    "def bootstrap_ci(test, strat_bycol, sample_proportion, n_bootstraps, stratified):\n",
    "    test_loss_bootstrap = []\n",
    "    \n",
    "    #for i in range(n_bootstraps):\n",
    "    #    test_loss_bootstrap.append([])\n",
    "    \n",
    "    for i in range(n_bootstraps):\n",
    "        print(i)\n",
    "        if stratified:\n",
    "            df_strat = test.groupby(strat_bycol).apply(lambda x: x.sample(frac=sample_proportion))\n",
    "        else:\n",
    "            df_strat = test.sample(frac=sample_proportion)\n",
    "        X_test, y_test = df_strat.iloc[:,0:4], df_strat.iloc[:,4]\n",
    "        x1_test = X_test[y_test == 0.0]\n",
    "        x2_test = X_test[y_test == 1.0]\n",
    "        test_input = {'A':x1_test.values, 'B':x2_test.values}\n",
    "        class_labels = ['A', 'B']\n",
    "        sv = Statevector.from_label('0' * n)\n",
    "        test_loss = []\n",
    "        for i in range(len(params)):\n",
    "            test_loss.append(cost_function_test(test_input, class_labels, params[i]))\n",
    "        test_loss_bootstrap.append(test_loss)\n",
    "    return test_loss_bootstrap        \n",
    "        \n",
    "test_loss_ci_strat = bootstrap_ci(test, 'target', prop_bootstrap, num_bootstraps, True)\n",
    "#test_loss_ci_unstrat = bootstrap_ci(test, 'target', prop_bootstrap, num_bootstraps, False)"
   ]
  },
  {
   "cell_type": "markdown",
   "id": "desirable-rover",
   "metadata": {},
   "source": [
    "Find the element in the array closest the mean and use it as the index to plot the mean test loss behavior"
   ]
  },
  {
   "cell_type": "code",
   "execution_count": 34,
   "id": "contained-diploma",
   "metadata": {},
   "outputs": [],
   "source": [
    "transpose_test_strat = np.transpose(test_loss_ci_strat)\n",
    "#}transpose_test_unstrat = np.transpose(test_loss_ci_unstrat)\n",
    "\n",
    "def find_nearest(array, value):\n",
    "    array = np.asarray(array)\n",
    "    idx = (np.abs(array - value)).argmin()\n",
    "    return idx\n",
    "\n",
    "index_mean_strat = find_nearest(transpose_test_strat[10], np.mean(transpose_test_strat[10]))\n",
    "index_max_strat = find_nearest(transpose_test_strat[10], np.max(transpose_test_strat[10]))\n",
    "index_min_strat = find_nearest(transpose_test_strat[10], np.min(transpose_test_strat[10]))\n",
    "#index_unstrat = find_nearest(transpose_test_unstrat[10], np.mean(transpose_test_unstrat[10]))"
   ]
  },
  {
   "cell_type": "code",
   "execution_count": 35,
   "id": "floating-melbourne",
   "metadata": {},
   "outputs": [],
   "source": [
    "f4 = 'test_loss_strat_easy_layer_boot_4k.npy' \n",
    "np.save(f4, test_loss_ci_strat)"
   ]
  },
  {
   "cell_type": "code",
   "execution_count": 36,
   "id": "artificial-throat",
   "metadata": {},
   "outputs": [
    {
     "data": {
      "image/png": "[encoded data removed]",
      "text/plain": [
       "<Figure size 432x288 with 1 Axes>"
      ]
     },
     "metadata": {
      "needs_background": "light"
     },
     "output_type": "display_data"
    }
   ],
   "source": [
    "x = range(100)\n",
    "y = loss\n",
    "\n",
    "plt.plot(x,y)\n",
    "plt.plot(x, test_loss_ci_strat[index_mean_strat])\n",
    "\n",
    "legendList = ['{}'.format(i) for i in [\"Training\", \"Test\"]]\n",
    "plt.legend(legendList)\n",
    "plt.xlabel(\"Iterations\")\n",
    "plt.ylabel(\"Loss value\")\n",
    "plt.title(\"Easy Model, 4 Layers, Blobs, 10000 Samples, Mean Index (Stratified with Bootstraps)\")\n",
    "plt.show()"
   ]
  },
  {
   "cell_type": "code",
   "execution_count": 37,
   "id": "outer-blair",
   "metadata": {},
   "outputs": [
    {
     "data": {
      "image/png": "[encoded data removed]",
      "text/plain": [
       "<Figure size 432x288 with 1 Axes>"
      ]
     },
     "metadata": {
      "needs_background": "light"
     },
     "output_type": "display_data"
    }
   ],
   "source": [
    "plt.plot(x,y)\n",
    "\n",
    "sd = np.std(test_loss_ci_strat, axis=0)\n",
    "av = np.average(test_loss_ci_strat, axis=0)\n",
    "plt.plot(range(100), av, color='green')\n",
    "plt.fill_between(range(100), av+np.array(sd), av-np.array(sd), alpha=0.1, color='green')\n",
    "\n",
    "legendList = ['{}'.format(i) for i in [\"Training\", \"Test\"]]\n",
    "plt.legend(legendList)\n",
    "plt.xlabel(\"Iterations\")\n",
    "plt.ylabel(\"Loss value\")\n",
    "plt.title(\"Easy Model, 4 Layers, Blobs, 10000 Samples, Average value (Stratified with Bootstraps)\")\n",
    "plt.show()"
   ]
  },
  {
   "cell_type": "code",
   "execution_count": 38,
   "id": "challenging-copper",
   "metadata": {},
   "outputs": [
    {
     "data": {
      "image/png": "[encoded data removed]",
      "text/plain": [
       "<Figure size 432x288 with 1 Axes>"
      ]
     },
     "metadata": {
      "needs_background": "light"
     },
     "output_type": "display_data"
    }
   ],
   "source": [
    "plt.plot(x,y)\n",
    "plt.plot(x, test_loss_ci_strat[index_mean_strat])\n",
    "plt.plot(x, test_loss_ci_strat[index_max_strat], '--')\n",
    "plt.plot(x, test_loss_ci_strat[index_min_strat], '--')\n",
    "\n",
    "legendList = ['{}'.format(i) for i in [\"Training\", \"Mean_Test\", \"Max_Test\",\"Min_Test\"]]\n",
    "plt.legend(legendList, loc = 1)\n",
    "\n",
    "plt.fill_between(x, test_loss_ci_strat[index_max_strat], test_loss_ci_strat[index_min_strat], color='azure')\n",
    "plt.xlabel(\"Iterations\")\n",
    "plt.ylabel(\"Loss value\")\n",
    "plt.title(\"Easy Model, 4 Layers, Blobs (Stratified+Bootstraps+CI)\")\n",
    "plt.show()"
   ]
  },
  {
   "cell_type": "code",
   "execution_count": 39,
   "id": "opponent-ideal",
   "metadata": {},
   "outputs": [],
   "source": [
    "f4 = 'test_loss_mean_easy_layer_boot_4k.npy' \n",
    "np.save(f4, test_loss_ci_strat[index_mean_strat])"
   ]
  }
 ],
 "metadata": {
  "kernelspec": {
   "display_name": "Python 3",
   "language": "python",
   "name": "python3"
  },
  "language_info": {
   "codemirror_mode": {
    "name": "ipython",
    "version": 3
   },
   "file_extension": ".py",
   "mimetype": "text/x-python",
   "name": "python",
   "nbconvert_exporter": "python",
   "pygments_lexer": "ipython3",
   "version": "3.7.3"
  }
 },
 "nbformat": 4,
 "nbformat_minor": 5
}

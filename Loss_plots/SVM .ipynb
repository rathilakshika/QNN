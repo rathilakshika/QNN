{
 "cells": [
  {
   "cell_type": "code",
   "execution_count": 37,
   "id": "1ea8178b",
   "metadata": {},
   "outputs": [],
   "source": [
    "# Imports\n",
    "from sklearn.datasets import make_blobs\n",
    "from sklearn.model_selection import train_test_split\n",
    "import numpy as np\n",
    "import matplotlib.pyplot as plt\n",
    "from sklearn import svm\n",
    "from sklearn.metrics import plot_confusion_matrix\n",
    "from math import log\n",
    "\n",
    "from io import StringIO\n",
    "import pandas as pd\n",
    "import seaborn as sns\n",
    "import sklearn as sk\n",
    "import matplotlib.colors\n",
    "import sys"
   ]
  },
  {
   "cell_type": "code",
   "execution_count": 38,
   "id": "45b21459",
   "metadata": {},
   "outputs": [],
   "source": [
    "rand = 0\n",
    "num_features = 4\n",
    "\n",
    "X,y = make_blobs(n_samples=10000, centers=[(-2.5,-2.5,-2.5,-2.5), (2.5,2.5,2.5,2.5)], n_features=4, random_state=rand)"
   ]
  },
  {
   "cell_type": "code",
   "execution_count": 39,
   "id": "9fd927d7",
   "metadata": {},
   "outputs": [],
   "source": [
    "df = pd.DataFrame(data= np.c_[X, y])\n",
    "\n",
    "data = df.rename(columns={0: 'feature_1', 1: 'feature_2', 2:'feature_3', 3:'feature_4', 4:'target'})\n",
    "\n",
    "#assert values to float type\n",
    "data = data.astype(float)\n",
    "\n",
    "train, test = train_test_split(data, test_size=0.2, stratify=data['target'], random_state=rand)"
   ]
  },
  {
   "cell_type": "code",
   "execution_count": 40,
   "id": "7066e941",
   "metadata": {},
   "outputs": [],
   "source": [
    "X_train, y_train = train.iloc[:,0:4], train.iloc[:,4]\n",
    "X_test, y_test = test.iloc[:,0:4], test.iloc[:,4]"
   ]
  },
  {
   "cell_type": "code",
   "execution_count": 41,
   "id": "e23bc63b",
   "metadata": {},
   "outputs": [],
   "source": [
    "clf = svm.SVC()"
   ]
  },
  {
   "cell_type": "code",
   "execution_count": 42,
   "id": "4c239c63",
   "metadata": {},
   "outputs": [],
   "source": [
    "clf = clf.fit(X_train, y_train)"
   ]
  },
  {
   "cell_type": "code",
   "execution_count": 43,
   "id": "d8eab37d",
   "metadata": {},
   "outputs": [],
   "source": [
    "predictions = clf.predict(X_test)"
   ]
  },
  {
   "cell_type": "code",
   "execution_count": 44,
   "id": "0a9c6174",
   "metadata": {},
   "outputs": [
    {
     "data": {
      "text/plain": [
       "array([1., 0., 1., ..., 0., 0., 1.])"
      ]
     },
     "execution_count": 44,
     "metadata": {},
     "output_type": "execute_result"
    }
   ],
   "source": [
    "predictions"
   ]
  },
  {
   "cell_type": "code",
   "execution_count": 45,
   "id": "93939918",
   "metadata": {},
   "outputs": [
    {
     "name": "stdout",
     "output_type": "stream",
     "text": [
      "Accuracy: 1.0\n"
     ]
    }
   ],
   "source": [
    "from sklearn import metrics\n",
    "\n",
    "print(\"Accuracy:\",metrics.accuracy_score(y_test, predictions))"
   ]
  },
  {
   "cell_type": "code",
   "execution_count": null,
   "id": "8cbe3790",
   "metadata": {},
   "outputs": [],
   "source": []
  }
 ],
 "metadata": {
  "kernelspec": {
   "display_name": "Python 3",
   "language": "python",
   "name": "python3"
  },
  "language_info": {
   "codemirror_mode": {
    "name": "ipython",
    "version": 3
   },
   "file_extension": ".py",
   "mimetype": "text/x-python",
   "name": "python",
   "nbconvert_exporter": "python",
   "pygments_lexer": "ipython3",
   "version": "3.7.3"
  }
 },
 "nbformat": 4,
 "nbformat_minor": 5
}

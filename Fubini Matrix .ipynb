{
 "cells": [
  {
   "cell_type": "code",
   "execution_count": 174,
   "id": "defined-franklin",
   "metadata": {},
   "outputs": [],
   "source": [
    "import sys\n",
    "import pennylane as qml\n",
    "from pennylane import numpy as np\n",
    "from math import pi\n",
    "from sklearn import datasets\n",
    "import scipy\n",
    "import numpy as np\n",
    "import time\n",
    "import math"
   ]
  },
  {
   "cell_type": "code",
   "execution_count": 175,
   "id": "weekly-investing",
   "metadata": {},
   "outputs": [],
   "source": [
    "numQubits = 4\n",
    "numParametrisedLayers = 2\n",
    "d = numQubits * numParametrisedLayers"
   ]
  },
  {
   "cell_type": "code",
   "execution_count": 176,
   "id": "drawn-allowance",
   "metadata": {},
   "outputs": [],
   "source": [
    "dev = qml.device(\"default.qubit\", wires=numQubits)"
   ]
  },
  {
   "cell_type": "code",
   "execution_count": 177,
   "id": "above-virtue",
   "metadata": {},
   "outputs": [],
   "source": [
    "iris = datasets.load_iris()\n",
    "X = iris.data[:, :][0:100]\n",
    "y = iris.target[0:100]"
   ]
  },
  {
   "cell_type": "code",
   "execution_count": 178,
   "id": "affecting-field",
   "metadata": {},
   "outputs": [],
   "source": [
    "def normalize(v):\n",
    "    norm = np.linalg.norm(v)\n",
    "    if norm == 0: \n",
    "       return v\n",
    "    return v / norm"
   ]
  },
  {
   "cell_type": "code",
   "execution_count": 179,
   "id": "typical-counter",
   "metadata": {},
   "outputs": [],
   "source": [
    "def add_layerRZ(data):\n",
    "    for i in range(numQubits):\n",
    "        qml.RZ(data[i], wires = i)\n",
    "\n",
    "def add_layerRZZ(data):\n",
    "    for i in range(0, numQubits-1):\n",
    "        for j in range(i+1, numQubits):\n",
    "            qml.CNOT(wires = [i, j])\n",
    "            qml.RZ((pi-data[i])*(pi-data[j]), wires = j)\n",
    "            qml.CNOT(wires = [i, j])\n",
    "\n",
    "def make_feature_map(data):\n",
    "    for i in range(numQubits):\n",
    "        qml.Hadamard(wires = i)\n",
    "    add_layerRZ(data)\n",
    "    add_layerRZZ(data)"
   ]
  },
  {
   "cell_type": "code",
   "execution_count": 180,
   "id": "suited-burke",
   "metadata": {},
   "outputs": [],
   "source": [
    "def add_cnots():\n",
    "    for i in range(0, numQubits-1):\n",
    "        for j in range(i+1, numQubits):\n",
    "            qml.CNOT(wires = [i, j])\n",
    "\n",
    "def add_layerRY(params):\n",
    "    for qubit in range(numQubits):\n",
    "        qml.RY(params[qubit], wires = qubit)\n",
    "        \n",
    "def make_variationalCircuit(params):\n",
    "    add_layerRY(params[0:numQubits])\n",
    "    add_cnots()\n",
    "    add_layerRY(params[numQubits:])"
   ]
  },
  {
   "cell_type": "code",
   "execution_count": 181,
   "id": "dirty-bachelor",
   "metadata": {},
   "outputs": [],
   "source": [
    "def make_final_circuit(data, params):\n",
    "    make_feature_map(data)\n",
    "    make_variationalCircuit(params)"
   ]
  },
  {
   "cell_type": "code",
   "execution_count": 182,
   "id": "conventional-bleeding",
   "metadata": {},
   "outputs": [],
   "source": [
    "@qml.qnode(dev)\n",
    "def qnode(params):\n",
    "    make_final_circuit(data, params)\n",
    "    return qml.expval(qml.PauliX(1))"
   ]
  },
  {
   "cell_type": "code",
   "execution_count": 183,
   "id": "multiple-margin",
   "metadata": {},
   "outputs": [],
   "source": [
    "@qml.qnode(dev)\n",
    "def fubini_qnode(data, params):\n",
    "    make_final_circuit(data, params)\n",
    "    return qml.state()"
   ]
  },
  {
   "cell_type": "code",
   "execution_count": 184,
   "id": "interpreted-training",
   "metadata": {},
   "outputs": [],
   "source": [
    "def fubini_calculate(data, params):\n",
    "    fubini = np.zeros([d, d], dtype=np.float64)\n",
    "    base = np.conj(fubini_qnode(data,params))\n",
    "    for i in range(d):\n",
    "        for j in range(d):\n",
    "            params[i] += np.pi/2\n",
    "            params[j] += np.pi/2\n",
    "            plusplus = np.abs(np.dot(base, fubini_qnode(data, params))) ** 2\n",
    "            params[j] -= np.pi\n",
    "            plusminus = np.abs(np.dot(base, fubini_qnode(data, params))) ** 2\n",
    "            params[i] -= np.pi\n",
    "            minusminus = np.abs(np.dot(base, fubini_qnode(data, params))) ** 2\n",
    "            params[j] += np.pi\n",
    "            minusplus = np.abs(np.dot(base, fubini_qnode(data, params))) ** 2\n",
    "            fubini[i, j] = (-plusplus-minusminus+plusminus+minusplus)/8\n",
    "            params[i] += np.pi/2\n",
    "            params[j] -= np.pi/2\n",
    "    return fubini"
   ]
  },
  {
   "cell_type": "code",
   "execution_count": 187,
   "id": "aggressive-adoption",
   "metadata": {},
   "outputs": [],
   "source": [
    "fubini_matrices = []\n",
    "effective_dim_eigen = []\n",
    "cutoff_eigvals = 10**(-12)"
   ]
  },
  {
   "cell_type": "code",
   "execution_count": 188,
   "id": "framed-massachusetts",
   "metadata": {},
   "outputs": [
    {
     "data": {
      "image/png": "[encoded data removed]",
      "text/plain": [
       "<Figure size 432x288 with 1 Axes>"
      ]
     },
     "metadata": {
      "needs_background": "light"
     },
     "output_type": "display_data"
    }
   ],
   "source": [
    "import matplotlib.pyplot as plt\n",
    "plt.hist(effective_dimensions, bins = 5)\n",
    "plt.show()"
   ]
  },
  {
   "cell_type": "code",
   "execution_count": 189,
   "id": "featured-newsletter",
   "metadata": {},
   "outputs": [],
   "source": [
    "def V_theta():\n",
    "    return (2*pi)**(d)"
   ]
  },
  {
   "cell_type": "code",
   "execution_count": 190,
   "id": "considerable-jaguar",
   "metadata": {},
   "outputs": [],
   "source": [
    "def normalised_matrix(fisher_matrix):\n",
    "    denominator = ((2*pi)**d)*np.trace(fisher_matrix)          \n",
    "    return d*(V_theta()/denominator)*fisher_matrix"
   ]
  },
  {
   "cell_type": "code",
   "execution_count": 191,
   "id": "sapphire-subscriber",
   "metadata": {},
   "outputs": [],
   "source": [
    "def effective_dimension(n, gamma, fisher_matrix):\n",
    "    factor = (gamma*n)/(2*pi*math.log10(n))\n",
    "    determinant = np.linalg.det(factor*normalised_matrix(fisher_matrix) + np.identity(fisher_matrix.shape[0]))\n",
    "    integrate_det = ((2*pi)**d)*determinant**0.5\n",
    "    return 2*math.log10(integrate_det/V_theta())/math.log10(factor)"
   ]
  },
  {
   "cell_type": "code",
   "execution_count": 192,
   "id": "sweet-kenya",
   "metadata": {},
   "outputs": [],
   "source": [
    "fubini_matrices = []\n",
    "effective_dim_eigen = []\n",
    "effective_dim_formula = []\n",
    "gamma = 0.5\n",
    "n = 10**6\n",
    "cutoff_eigvals = 10**(-12)"
   ]
  },
  {
   "cell_type": "code",
   "execution_count": 193,
   "id": "breathing-campbell",
   "metadata": {},
   "outputs": [],
   "source": [
    "start_qfi = time.time()\n",
    "\n",
    "for i in range(len(X)) :\n",
    "    data = normalize(X[i])\n",
    "    params = np.random.uniform(-1, 1, d)\n",
    "    \n",
    "    fubini = fubini_calculate(data, params)\n",
    "    fubini_matrices.append(fubini)\n",
    "    eigvals,eigvecs=scipy.linalg.eigh(fubini)\n",
    "    nonzero_eigvals=eigvals[eigvals>cutoff_eigvals]\n",
    "    eff_dim=len(nonzero_eigvals)\n",
    "    eff_dim_form = effective_dimension(n, gamma, fubini)\n",
    "    effective_dim_eigen.append(eff_dim)\n",
    "    effective_dim_formula.append(eff_dim_form)\n",
    "    \n",
    "end_qfi = time.time()"
   ]
  },
  {
   "cell_type": "code",
   "execution_count": 194,
   "id": "positive-prisoner",
   "metadata": {},
   "outputs": [
    {
     "data": {
      "image/png": "[encoded data removed]",
      "text/plain": [
       "<Figure size 432x288 with 1 Axes>"
      ]
     },
     "metadata": {
      "needs_background": "light"
     },
     "output_type": "display_data"
    }
   ],
   "source": [
    "import matplotlib.pyplot as plt\n",
    "plt.hist(effective_dim_eigen, bins = 5)\n",
    "plt.show()"
   ]
  },
  {
   "cell_type": "code",
   "execution_count": 195,
   "id": "related-connectivity",
   "metadata": {},
   "outputs": [
    {
     "data": {
      "image/png": "[encoded data removed]",
      "text/plain": [
       "<Figure size 432x288 with 1 Axes>"
      ]
     },
     "metadata": {
      "needs_background": "light"
     },
     "output_type": "display_data"
    }
   ],
   "source": [
    "import matplotlib.pyplot as plt\n",
    "plt.hist(effective_dim_formula, bins = 5)\n",
    "plt.show()"
   ]
  },
  {
   "cell_type": "code",
   "execution_count": null,
   "id": "major-marathon",
   "metadata": {},
   "outputs": [],
   "source": []
  }
 ],
 "metadata": {
  "kernelspec": {
   "display_name": "Python 3",
   "language": "python",
   "name": "python3"
  },
  "language_info": {
   "codemirror_mode": {
    "name": "ipython",
    "version": 3
   },
   "file_extension": ".py",
   "mimetype": "text/x-python",
   "name": "python",
   "nbconvert_exporter": "python",
   "pygments_lexer": "ipython3",
   "version": "3.7.3"
  }
 },
 "nbformat": 4,
 "nbformat_minor": 5
}

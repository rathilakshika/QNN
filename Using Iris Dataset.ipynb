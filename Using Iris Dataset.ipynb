{
 "cells": [
  {
   "cell_type": "code",
   "execution_count": 1,
   "id": "rotary-number",
   "metadata": {},
   "outputs": [],
   "source": [
    "from qiskit import *\n",
    "from math import pi\n",
    "import numpy as np\n",
    "from qiskit.aqua.operators import CircuitStateFn\n",
    "from qiskit.aqua.operators.gradients import QFI\n",
    "from qiskit.circuit import QuantumCircuit, ParameterVector, Parameter\n",
    "from sklearn import datasets"
   ]
  },
  {
   "cell_type": "code",
   "execution_count": 2,
   "id": "fuzzy-perception",
   "metadata": {},
   "outputs": [],
   "source": [
    "iris = datasets.load_iris()\n",
    "X = iris.data[:, :][0:100]\n",
    "y = iris.target[0:100]"
   ]
  },
  {
   "cell_type": "code",
   "execution_count": 3,
   "id": "adult-bridges",
   "metadata": {},
   "outputs": [],
   "source": [
    "def normalize(v):\n",
    "    norm = np.linalg.norm(v)\n",
    "    if norm == 0: \n",
    "       return v\n",
    "    return v / norm"
   ]
  },
  {
   "cell_type": "code",
   "execution_count": 4,
   "id": "meaningful-shape",
   "metadata": {},
   "outputs": [],
   "source": [
    "def add_layerRZ(qf, data):\n",
    "    for i in range(numQubits):\n",
    "        qf.rz(data[i], i)\n",
    "    qf.barrier()\n",
    "\n",
    "def add_layerRZZ(qf, data):\n",
    "    for i in range(0, numQubits-1):\n",
    "        for j in range(i+1, numQubits):\n",
    "            qf.cx(i, j)\n",
    "            qf.rz((pi-data[i])*(pi-data[j]), j)\n",
    "            qf.cx(i, j)\n",
    "        qf.barrier()\n",
    "\n",
    "def make_feature_map(qf, data):\n",
    "    for i in range(numQubits):\n",
    "        qf.h(i)\n",
    "    qf.barrier()\n",
    "    add_layerRZ(qf, data)\n",
    "    add_layerRZZ(qf, data)"
   ]
  },
  {
   "cell_type": "code",
   "execution_count": 5,
   "id": "functional-italy",
   "metadata": {},
   "outputs": [],
   "source": [
    "def add_cnots(qf):\n",
    "    for i in range(0, numQubits-1):\n",
    "        for j in range(i+1, numQubits):\n",
    "            qf.cx(i, j)\n",
    "    qf.barrier()\n",
    "\n",
    "def add_layerRY(qf):\n",
    "    for qubit in range(numQubits):\n",
    "        qf.ry(next(theta_iter), qubit)\n",
    "    qf.barrier()\n",
    "\n",
    "def make_variationalCircuit(qf):\n",
    "    add_layerRY(qf)\n",
    "    add_cnots(qf)\n",
    "    add_layerRY(qf)"
   ]
  },
  {
   "cell_type": "code",
   "execution_count": 6,
   "id": "fourth-standing",
   "metadata": {},
   "outputs": [],
   "source": [
    "def make_final_circuit(qf, data):\n",
    "    make_feature_map(qf, data)\n",
    "    make_variationalCircuit(qf)"
   ]
  },
  {
   "cell_type": "code",
   "execution_count": 7,
   "id": "desirable-cache",
   "metadata": {},
   "outputs": [],
   "source": [
    "def get_parameters():\n",
    "    return np.random.uniform(-1, 1, numQubits*numParametrisedLayers)"
   ]
  },
  {
   "cell_type": "code",
   "execution_count": 8,
   "id": "referenced-marriage",
   "metadata": {},
   "outputs": [],
   "source": [
    "def measure_and_output(qf, parameter_values):\n",
    "    for j in range(numQubits):\n",
    "        qf.measure(j, j)\n",
    "    bitString = execute(qf,backend=BasicAer.get_backend('qasm_simulator'), parameter_binds=parameter_values, shots=1, memory = True).result().get_counts()\n",
    "    bits = [int(bit) for bit in list(bitString.keys())[0]]\n",
    "    xor_result = 0\n",
    "    for i in range(len(bits)):\n",
    "        xor_result = xor_result^bits[i]\n",
    "    return xor_result"
   ]
  },
  {
   "cell_type": "code",
   "execution_count": 9,
   "id": "distant-tension",
   "metadata": {},
   "outputs": [],
   "source": [
    "y_result = [0 for j in range(len(y))]"
   ]
  },
  {
   "cell_type": "code",
   "execution_count": 10,
   "id": "successful-riding",
   "metadata": {},
   "outputs": [],
   "source": [
    "numQubits = len(X[0])\n",
    "numParametrisedLayers = 2"
   ]
  },
  {
   "cell_type": "code",
   "execution_count": 11,
   "id": "regulated-accommodation",
   "metadata": {},
   "outputs": [
    {
     "name": "stdout",
     "output_type": "stream",
     "text": [
      "data : [0.80377277 0.55160877 0.22064351 0.0315205 ], y : 0, y_result : 0\n",
      "data : [0.82813287 0.50702013 0.23660939 0.03380134], y : 0, y_result : 0\n",
      "data : [0.80533308 0.54831188 0.2227517  0.03426949], y : 0, y_result : 0\n",
      "data : [0.80003025 0.53915082 0.26087943 0.03478392], y : 0, y_result : 0\n",
      "data : [0.790965  0.5694948 0.2214702 0.0316386], y : 0, y_result : 0\n",
      "data : [0.78417499 0.5663486  0.2468699  0.05808704], y : 0, y_result : 0\n",
      "data : [0.78010936 0.57660257 0.23742459 0.0508767 ], y : 0, y_result : 0\n",
      "data : [0.80218492 0.54548574 0.24065548 0.0320874 ], y : 0, y_result : 0\n",
      "data : [0.80642366 0.5315065  0.25658935 0.03665562], y : 0, y_result : 0\n",
      "data : [0.81803119 0.51752994 0.25041771 0.01669451], y : 0, y_result : 0\n",
      "data : [0.80373519 0.55070744 0.22325977 0.02976797], y : 0, y_result : 0\n",
      "data : [0.786991   0.55745196 0.26233033 0.03279129], y : 0, y_result : 0\n",
      "data : [0.82307218 0.51442011 0.24006272 0.01714734], y : 0, y_result : 1\n",
      "data : [0.8025126  0.55989251 0.20529392 0.01866308], y : 0, y_result : 1\n",
      "data : [0.81120865 0.55945424 0.16783627 0.02797271], y : 0, y_result : 1\n",
      "data : [0.77381111 0.59732787 0.2036345  0.05430253], y : 0, y_result : 1\n",
      "data : [0.79428944 0.57365349 0.19121783 0.05883625], y : 0, y_result : 1\n",
      "data : [0.80327412 0.55126656 0.22050662 0.04725142], y : 0, y_result : 1\n",
      "data : [0.8068282  0.53788547 0.24063297 0.04246464], y : 0, y_result : 1\n",
      "data : [0.77964883 0.58091482 0.22930848 0.0458617 ], y : 0, y_result : 1\n",
      "data : [0.8173379  0.51462016 0.25731008 0.03027177], y : 0, y_result : 1\n",
      "data : [0.78591858 0.57017622 0.23115252 0.06164067], y : 0, y_result : 1\n",
      "data : [0.77577075 0.60712493 0.16864581 0.03372916], y : 0, y_result : 1\n",
      "data : [0.80597792 0.52151512 0.26865931 0.07901744], y : 0, y_result : 1\n",
      "data : [0.776114   0.54974742 0.30721179 0.03233808], y : 0, y_result : 1\n",
      "data : [0.82647451 0.4958847  0.26447184 0.03305898], y : 0, y_result : 1\n",
      "data : [0.79778206 0.5424918  0.25529026 0.06382256], y : 0, y_result : 1\n",
      "data : [0.80641965 0.54278246 0.23262105 0.03101614], y : 0, y_result : 1\n",
      "data : [0.81609427 0.5336001  0.21971769 0.03138824], y : 0, y_result : 1\n",
      "data : [0.79524064 0.54144043 0.27072022 0.03384003], y : 0, y_result : 1\n",
      "data : [0.80846584 0.52213419 0.26948861 0.03368608], y : 0, y_result : 1\n",
      "data : [0.82225028 0.51771314 0.22840286 0.06090743], y : 0, y_result : 1\n",
      "data : [0.76578311 0.60379053 0.22089897 0.0147266 ], y : 0, y_result : 1\n",
      "data : [0.77867447 0.59462414 0.19820805 0.02831544], y : 0, y_result : 1\n",
      "data : [0.81768942 0.51731371 0.25031309 0.03337508], y : 0, y_result : 1\n",
      "data : [0.82512295 0.52807869 0.19802951 0.03300492], y : 0, y_result : 1\n",
      "data : [0.82699754 0.52627116 0.19547215 0.03007264], y : 0, y_result : 0\n",
      "data : [0.78523221 0.5769053  0.22435206 0.01602515], y : 0, y_result : 0\n",
      "data : [0.80212413 0.54690282 0.23699122 0.03646019], y : 0, y_result : 0\n",
      "data : [0.80779568 0.53853046 0.23758697 0.03167826], y : 0, y_result : 0\n",
      "data : [0.80033301 0.56023311 0.20808658 0.04801998], y : 0, y_result : 0\n",
      "data : [0.86093857 0.44003527 0.24871559 0.0573959 ], y : 0, y_result : 0\n",
      "data : [0.78609038 0.57170209 0.23225397 0.03573138], y : 0, y_result : 0\n",
      "data : [0.78889479 0.55222635 0.25244633 0.09466737], y : 0, y_result : 0\n",
      "data : [0.76693897 0.57144472 0.28572236 0.06015208], y : 0, y_result : 0\n",
      "data : [0.82210585 0.51381615 0.23978087 0.05138162], y : 0, y_result : 0\n",
      "data : [0.77729093 0.57915795 0.24385598 0.030482  ], y : 0, y_result : 0\n",
      "data : [0.79594782 0.55370283 0.24224499 0.03460643], y : 0, y_result : 0\n",
      "data : [0.79837025 0.55735281 0.22595384 0.03012718], y : 0, y_result : 1\n",
      "data : [0.81228363 0.5361072  0.22743942 0.03249135], y : 0, y_result : 1\n",
      "data : [0.76701103 0.35063361 0.51499312 0.15340221], y : 1, y_result : 0\n",
      "data : [0.74549757 0.37274878 0.52417798 0.17472599], y : 1, y_result : 0\n",
      "data : [0.75519285 0.33928954 0.53629637 0.16417236], y : 1, y_result : 0\n",
      "data : [0.75384916 0.31524601 0.54825394 0.17818253], y : 1, y_result : 0\n",
      "data : [0.7581754  0.32659863 0.5365549  0.17496355], y : 1, y_result : 0\n",
      "data : [0.72232962 0.35482858 0.57026022 0.16474184], y : 1, y_result : 0\n",
      "data : [0.72634846 0.38046824 0.54187901 0.18446945], y : 1, y_result : 0\n",
      "data : [0.75916547 0.37183615 0.51127471 0.15493173], y : 1, y_result : 0\n",
      "data : [0.76301853 0.33526572 0.53180079 0.15029153], y : 1, y_result : 0\n",
      "data : [0.72460233 0.37623583 0.54345175 0.19508524], y : 1, y_result : 0\n",
      "data : [0.76923077 0.30769231 0.53846154 0.15384615], y : 1, y_result : 1\n",
      "data : [0.73923462 0.37588201 0.52623481 0.187941  ], y : 1, y_result : 1\n",
      "data : [0.78892752 0.28927343 0.52595168 0.13148792], y : 1, y_result : 1\n",
      "data : [0.73081412 0.34743622 0.56308629 0.16772783], y : 1, y_result : 1\n",
      "data : [0.75911707 0.3931142  0.48800383 0.17622361], y : 1, y_result : 1\n",
      "data : [0.76945444 0.35601624 0.50531337 0.16078153], y : 1, y_result : 1\n",
      "data : [0.70631892 0.37838513 0.5675777  0.18919257], y : 1, y_result : 0\n",
      "data : [0.75676497 0.35228714 0.53495455 0.13047672], y : 1, y_result : 1\n",
      "data : [0.76444238 0.27125375 0.55483721 0.18494574], y : 1, y_result : 0\n",
      "data : [0.76185188 0.34011245 0.53057542 0.14964948], y : 1, y_result : 1\n",
      "data : [0.6985796  0.37889063 0.56833595 0.21312598], y : 1, y_result : 0\n",
      "data : [0.77011854 0.35349703 0.50499576 0.16412362], y : 1, y_result : 1\n",
      "data : [0.74143307 0.29421947 0.57667016 0.17653168], y : 1, y_result : 1\n",
      "data : [0.73659895 0.33811099 0.56754345 0.14490471], y : 1, y_result : 1\n",
      "data : [0.76741698 0.34773582 0.51560829 0.15588157], y : 1, y_result : 1\n",
      "data : [0.76785726 0.34902603 0.51190484 0.16287881], y : 1, y_result : 1\n",
      "data : [0.76467269 0.31486523 0.53976896 0.15743261], y : 1, y_result : 1\n",
      "data : [0.74088576 0.33173989 0.55289982 0.18798594], y : 1, y_result : 1\n",
      "data : [0.73350949 0.35452959 0.55013212 0.18337737], y : 1, y_result : 1\n",
      "data : [0.78667474 0.35883409 0.48304589 0.13801311], y : 1, y_result : 1\n",
      "data : [0.76521855 0.33391355 0.52869645 0.15304371], y : 1, y_result : 1\n",
      "data : [0.77242925 0.33706004 0.51963422 0.14044168], y : 1, y_result : 1\n",
      "data : [0.76434981 0.35581802 0.51395936 0.15814134], y : 1, y_result : 1\n",
      "data : [0.70779525 0.31850786 0.60162596 0.1887454 ], y : 1, y_result : 1\n",
      "data : [0.69333409 0.38518561 0.57777841 0.1925928 ], y : 1, y_result : 1\n",
      "data : [0.71524936 0.40530797 0.53643702 0.19073316], y : 1, y_result : 1\n",
      "data : [0.75457341 0.34913098 0.52932761 0.16893434], y : 1, y_result : 1\n",
      "data : [0.77530021 0.28304611 0.54147951 0.15998258], y : 1, y_result : 1\n",
      "data : [0.72992443 0.39103094 0.53440896 0.16944674], y : 1, y_result : 1\n",
      "data : [0.74714194 0.33960997 0.54337595 0.17659719], y : 1, y_result : 1\n",
      "data : [0.72337118 0.34195729 0.57869695 0.15782644], y : 1, y_result : 1\n",
      "data : [0.73260391 0.36029701 0.55245541 0.1681386 ], y : 1, y_result : 1\n",
      "data : [0.76262994 0.34186859 0.52595168 0.1577855 ], y : 1, y_result : 1\n",
      "data : [0.76986879 0.35413965 0.5081134  0.15397376], y : 1, y_result : 1\n",
      "data : [0.73544284 0.35458851 0.55158213 0.1707278 ], y : 1, y_result : 1\n",
      "data : [0.73239618 0.38547167 0.53966034 0.15418867], y : 1, y_result : 1\n",
      "data : [0.73446047 0.37367287 0.5411814  0.16750853], y : 1, y_result : 1\n",
      "data : [0.75728103 0.3542121  0.52521104 0.15878473], y : 1, y_result : 0\n",
      "data : [0.78258054 0.38361791 0.4603415  0.16879188], y : 1, y_result : 0\n",
      "data : [0.7431482  0.36505526 0.5345452  0.16948994], y : 1, y_result : 1\n"
     ]
    }
   ],
   "source": [
    "for index in range(len(X)):\n",
    "    \n",
    "    data = normalize(X[index])\n",
    "    \n",
    "    parameters = [Parameter('x{}'.format(i)) for i in range(numQubits*numParametrisedLayers)]\n",
    "    theta_iter = iter(parameters)\n",
    "    \n",
    "    np.random.seed(0)\n",
    "    values_dict = get_parameters()\n",
    "    parameter_values = [{x:  values_dict[i] for i in range(len(values_dict)) for x in parameters}]\n",
    "    \n",
    "    qf = QuantumCircuit(QuantumRegister(numQubits), ClassicalRegister(numQubits))\n",
    "    make_final_circuit(qf, data)\n",
    "    \n",
    "    y_result[index] = measure_and_output(qf, parameter_values)\n",
    "    \n",
    "    print(\"data : {}, y : {}, y_result : {}\".format(data, y[index], y_result[index]))"
   ]
  }
 ],
 "metadata": {
  "kernelspec": {
   "display_name": "Python 3",
   "language": "python",
   "name": "python3"
  },
  "language_info": {
   "codemirror_mode": {
    "name": "ipython",
    "version": 3
   },
   "file_extension": ".py",
   "mimetype": "text/x-python",
   "name": "python",
   "nbconvert_exporter": "python",
   "pygments_lexer": "ipython3",
   "version": "3.7.3"
  }
 },
 "nbformat": 4,
 "nbformat_minor": 5
}

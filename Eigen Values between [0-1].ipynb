{
 "cells": [
  {
   "cell_type": "code",
   "execution_count": 28,
   "id": "instrumental-appliance",
   "metadata": {},
   "outputs": [],
   "source": [
    "import pickle\n",
    "import matplotlib.pyplot as plt\n",
    "import numpy as np"
   ]
  },
  {
   "cell_type": "code",
   "execution_count": 29,
   "id": "lightweight-filing",
   "metadata": {},
   "outputs": [],
   "source": [
    "file_name = \"PickleFiles/QNN40500.pkl\"\n",
    "open_file = open(file_name, \"rb\")\n",
    "loaded_list = pickle.load(open_file)\n",
    "open_file.close()"
   ]
  },
  {
   "cell_type": "code",
   "execution_count": 30,
   "id": "confidential-impression",
   "metadata": {},
   "outputs": [
    {
     "data": {
      "text/plain": [
       "20000"
      ]
     },
     "execution_count": 30,
     "metadata": {},
     "output_type": "execute_result"
    }
   ],
   "source": [
    "eigen_vals = loaded_list[4]\n",
    "len(eigen_vals)          # for 500 matrices => 500*40"
   ]
  },
  {
   "cell_type": "code",
   "execution_count": 31,
   "id": "posted-square",
   "metadata": {},
   "outputs": [],
   "source": [
    "eigen_vals = [i for i in eigen_vals if i < 1]"
   ]
  },
  {
   "cell_type": "code",
   "execution_count": 32,
   "id": "limiting-comparative",
   "metadata": {},
   "outputs": [
    {
     "data": {
      "text/plain": [
       "13169"
      ]
     },
     "execution_count": 32,
     "metadata": {},
     "output_type": "execute_result"
    }
   ],
   "source": [
    "len(eigen_vals)"
   ]
  },
  {
   "cell_type": "code",
   "execution_count": 33,
   "id": "fourth-ceremony",
   "metadata": {},
   "outputs": [
    {
     "name": "stdout",
     "output_type": "stream",
     "text": [
      "Histogram counts : [0.62556003 0.13243223 0.0943124  0.07980864 0.0678867 ]\n",
      "Bin boundaries : [-1.77931311e-15  1.99967258e-01  3.99934515e-01  5.99901773e-01\n",
      "  7.99869030e-01  9.99836288e-01]\n",
      "Normalised counts : [0.62556003 0.13243223 0.0943124  0.07980864 0.0678867 ]\n"
     ]
    },
    {
     "data": {
      "text/plain": [
       "Text(0.5, 1.0, 'Quantum Neural Network')"
      ]
     },
     "execution_count": 33,
     "metadata": {},
     "output_type": "execute_result"
    },
    {
     "data": {
      "image/png": "[encoded data removed]",
      "text/plain": [
       "<Figure size 432x288 with 1 Axes>"
      ]
     },
     "metadata": {
      "needs_background": "light"
     },
     "output_type": "display_data"
    }
   ],
   "source": [
    "hist, bins, ax = plt.hist(eigen_vals, bins = 5)\n",
    "print(\"Histogram counts :\",hist/13169)\n",
    "print(\"Bin boundaries :\", bins)\n",
    "freq = hist/np.sum(hist)\n",
    "print(\"Normalised counts :\",freq)\n",
    "sum(freq)\n",
    "\n",
    "plt.ylabel(\"Counts\")\n",
    "plt.xlabel(\"Eigenvalue size\")\n",
    "plt.title(\"Quantum Neural Network\")"
   ]
  },
  {
   "cell_type": "code",
   "execution_count": 34,
   "id": "cathedral-cherry",
   "metadata": {},
   "outputs": [
    {
     "data": {
      "text/plain": [
       "Text(0.5, 1.0, 'Eigenvalue distribution for Quantum Neural Network')"
      ]
     },
     "execution_count": 34,
     "metadata": {},
     "output_type": "execute_result"
    },
    {
     "data": {
      "image/png": "[encoded data removed]",
      "text/plain": [
       "<Figure size 432x288 with 1 Axes>"
      ]
     },
     "metadata": {
      "needs_background": "light"
     },
     "output_type": "display_data"
    }
   ],
   "source": [
    "plt.bar(bins[:-1], freq, align=\"edge\")\n",
    "plt.ylim(0,1)\n",
    "plt.ylabel(\"Normalised Counts\")\n",
    "plt.xlabel(\"Eigenvalue size (bins = 5)\")\n",
    "plt.title(\"Eigenvalue distribution for Quantum Neural Network\")"
   ]
  },
  {
   "cell_type": "code",
   "execution_count": 35,
   "id": "measured-demand",
   "metadata": {},
   "outputs": [
    {
     "data": {
      "text/plain": [
       "(array([-1.77931311e-15,  1.99967258e-01,  3.99934515e-01,  5.99901773e-01,\n",
       "         7.99869030e-01]),\n",
       " array([0.62556003, 0.13243223, 0.0943124 , 0.07980864, 0.0678867 ]))"
      ]
     },
     "execution_count": 35,
     "metadata": {},
     "output_type": "execute_result"
    }
   ],
   "source": [
    "bins[:-1], freq"
   ]
  },
  {
   "cell_type": "code",
   "execution_count": 38,
   "id": "proper-affairs",
   "metadata": {},
   "outputs": [
    {
     "data": {
      "text/plain": [
       "(array([3.12831228, 0.66226956, 0.47163921, 0.39910855, 0.3394891 ]),\n",
       " array([-1.77931311e-15,  1.99967258e-01,  3.99934515e-01,  5.99901773e-01,\n",
       "         7.99869030e-01,  9.99836288e-01]),\n",
       " <a list of 5 Patch objects>)"
      ]
     },
     "execution_count": 38,
     "metadata": {},
     "output_type": "execute_result"
    },
    {
     "data": {
      "image/png": "[encoded data removed]",
      "text/plain": [
       "<Figure size 432x288 with 1 Axes>"
      ]
     },
     "metadata": {
      "needs_background": "light"
     },
     "output_type": "display_data"
    }
   ],
   "source": [
    "plt.hist(eigen_vals, bins=5, density=True)"
   ]
  },
  {
   "cell_type": "code",
   "execution_count": null,
   "id": "temporal-registration",
   "metadata": {},
   "outputs": [],
   "source": []
  }
 ],
 "metadata": {
  "kernelspec": {
   "display_name": "Python 3",
   "language": "python",
   "name": "python3"
  },
  "language_info": {
   "codemirror_mode": {
    "name": "ipython",
    "version": 3
   },
   "file_extension": ".py",
   "mimetype": "text/x-python",
   "name": "python",
   "nbconvert_exporter": "python",
   "pygments_lexer": "ipython3",
   "version": "3.7.3"
  }
 },
 "nbformat": 4,
 "nbformat_minor": 5
}
